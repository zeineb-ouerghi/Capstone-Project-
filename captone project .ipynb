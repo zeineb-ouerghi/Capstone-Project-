{
 "cells": [
  {
   "cell_type": "markdown",
   "metadata": {},
   "source": [
    "## METADATA For the Spaced Repitition Dataset \n",
    "* p_recall - proportion of exercises from this lesson/practice where the word/lexeme was correctly recalled\n",
    "* timestamp - UNIX timestamp of the current lesson/practice\n",
    "* delta - time (in seconds) since the last lesson/practice that included this word/lexeme\n",
    "* user_id - student user ID who did the lesson/practice (anonymized)\n",
    "learning_language - language being learned\n",
    "* ui_language - user interface language (presumably native to the student)\n",
    "* lexeme_id - system ID for the lexeme tag (i.e., word)\n",
    "* lexeme_string - lexeme tag (see below)\n",
    "* history_seen - total times user has seen the word/lexeme prior to this lesson/practice\n",
    "* history_correct - total times user has been correct for the word/lexeme prior to this lesson/practice\n",
    "* session_seen - times the user saw the word/lexeme during this lesson/practice\n",
    "* session_correct - times the user got the word/lexeme correct during this lesson/practice"
   ]
  },
  {
   "cell_type": "code",
   "execution_count": 1,
   "metadata": {},
   "outputs": [
    {
     "name": "stdout",
     "output_type": "stream",
     "text": [
      "Requirement already satisfied: plotly in ./opt/anaconda3/lib/python3.8/site-packages (5.9.0)\r\n",
      "Requirement already satisfied: tenacity>=6.2.0 in ./opt/anaconda3/lib/python3.8/site-packages (from plotly) (8.0.1)\r\n"
     ]
    }
   ],
   "source": [
    "#installing packages \n",
    "!pip install plotly"
   ]
  },
  {
   "cell_type": "code",
   "execution_count": 2,
   "metadata": {},
   "outputs": [
    {
     "name": "stdout",
     "output_type": "stream",
     "text": [
      "Requirement already satisfied: path in ./opt/anaconda3/lib/python3.8/site-packages (15.0.0)\n",
      "Note: you may need to restart the kernel to use updated packages.\n"
     ]
    }
   ],
   "source": [
    "pip install path"
   ]
  },
  {
   "cell_type": "code",
   "execution_count": 3,
   "metadata": {},
   "outputs": [
    {
     "name": "stdout",
     "output_type": "stream",
     "text": [
      "Requirement already satisfied: fastparquet in ./opt/anaconda3/lib/python3.8/site-packages (0.8.1)\n",
      "Requirement already satisfied: cramjam>=2.3.0 in ./opt/anaconda3/lib/python3.8/site-packages (from fastparquet) (2.5.0)\n",
      "Requirement already satisfied: pandas>=1.1.0 in ./opt/anaconda3/lib/python3.8/site-packages (from fastparquet) (1.1.3)\n",
      "Requirement already satisfied: numpy>=1.18 in ./opt/anaconda3/lib/python3.8/site-packages (from fastparquet) (1.22.3)\n",
      "Requirement already satisfied: fsspec in ./opt/anaconda3/lib/python3.8/site-packages (from fastparquet) (0.8.3)\n",
      "Requirement already satisfied: pytz>=2017.2 in ./opt/anaconda3/lib/python3.8/site-packages (from pandas>=1.1.0->fastparquet) (2020.1)\n",
      "Requirement already satisfied: python-dateutil>=2.7.3 in ./opt/anaconda3/lib/python3.8/site-packages (from pandas>=1.1.0->fastparquet) (2.8.1)\n",
      "Requirement already satisfied: six>=1.5 in ./opt/anaconda3/lib/python3.8/site-packages (from python-dateutil>=2.7.3->pandas>=1.1.0->fastparquet) (1.15.0)\n",
      "Note: you may need to restart the kernel to use updated packages.\n"
     ]
    }
   ],
   "source": [
    "pip install fastparquet"
   ]
  },
  {
   "cell_type": "code",
   "execution_count": 4,
   "metadata": {},
   "outputs": [
    {
     "name": "stdout",
     "output_type": "stream",
     "text": [
      "Requirement already satisfied: parquet in ./opt/anaconda3/lib/python3.8/site-packages (1.3.1)\n",
      "Requirement already satisfied: thriftpy2 in ./opt/anaconda3/lib/python3.8/site-packages (from parquet) (0.4.14)\n",
      "Requirement already satisfied: ply<4.0,>=3.4 in ./opt/anaconda3/lib/python3.8/site-packages (from thriftpy2->parquet) (3.11)\n",
      "Note: you may need to restart the kernel to use updated packages.\n"
     ]
    }
   ],
   "source": [
    "pip install parquet "
   ]
  },
  {
   "cell_type": "code",
   "execution_count": 2,
   "metadata": {},
   "outputs": [],
   "source": [
    "#importing libraries\n",
    "from pathlib import Path\n",
    "import pandas as pd\n",
    "import numpy as np\n",
    "import zipfile\n",
    "from sklearn.preprocessing import StandardScaler\n",
    "from sklearn.model_selection import train_test_split\n",
    "from sklearn.model_selection import KFold, cross_val_score\n",
    "from sklearn.pipeline import Pipeline\n",
    "import matplotlib.pyplot as plt\n",
    "from sklearn.decomposition import PCA\n",
    "from sklearn.metrics import classification_report\n",
    "import gzip\n",
    "import plotly.express as px\n",
    "import plotly.graph_objects as go\n",
    "from plotly.subplots import make_subplots\n",
    "from zipfile import ZipFile \n",
    "%matplotlib inline"
   ]
  },
  {
   "cell_type": "code",
   "execution_count": 3,
   "metadata": {},
   "outputs": [],
   "source": [
    "# Load packages\n",
    "import seaborn as sns\n",
    "from sklearn.model_selection import train_test_split\n",
    "from sklearn.linear_model import LogisticRegression\n",
    "from sklearn.metrics import (\n",
    "    accuracy_score,\n",
    "    confusion_matrix,\n",
    "    precision_score,\n",
    "    recall_score,\n",
    "    RocCurveDisplay,\n",
    ")\n",
    "from sklearn.model_selection import RandomizedSearchCV\n",
    "from sklearn.preprocessing import StandardScaler\n",
    "from sklearn import preprocessing\n",
    "from sklearn import utils"
   ]
  },
  {
   "cell_type": "code",
   "execution_count": 4,
   "metadata": {},
   "outputs": [],
   "source": [
    "import plotly.express as px\n",
    "import plotly.graph_objects as go\n",
    "from plotly.subplots import make_subplots"
   ]
  },
  {
   "cell_type": "code",
   "execution_count": 5,
   "metadata": {},
   "outputs": [
    {
     "data": {
      "text/html": [
       "<div>\n",
       "<style scoped>\n",
       "    .dataframe tbody tr th:only-of-type {\n",
       "        vertical-align: middle;\n",
       "    }\n",
       "\n",
       "    .dataframe tbody tr th {\n",
       "        vertical-align: top;\n",
       "    }\n",
       "\n",
       "    .dataframe thead th {\n",
       "        text-align: right;\n",
       "    }\n",
       "</style>\n",
       "<table border=\"1\" class=\"dataframe\">\n",
       "  <thead>\n",
       "    <tr style=\"text-align: right;\">\n",
       "      <th></th>\n",
       "      <th>p_recall</th>\n",
       "      <th>timestamp</th>\n",
       "      <th>delta</th>\n",
       "      <th>user_id</th>\n",
       "      <th>learning_language</th>\n",
       "      <th>ui_language</th>\n",
       "      <th>lexeme_id</th>\n",
       "      <th>lexeme_string</th>\n",
       "      <th>history_seen</th>\n",
       "      <th>history_correct</th>\n",
       "      <th>session_seen</th>\n",
       "      <th>session_correct</th>\n",
       "    </tr>\n",
       "  </thead>\n",
       "  <tbody>\n",
       "    <tr>\n",
       "      <th>0</th>\n",
       "      <td>1.0</td>\n",
       "      <td>1362076081</td>\n",
       "      <td>27649635</td>\n",
       "      <td>u:FO</td>\n",
       "      <td>de</td>\n",
       "      <td>en</td>\n",
       "      <td>76390c1350a8dac31186187e2fe1e178</td>\n",
       "      <td>lernt/lernen&lt;vblex&gt;&lt;pri&gt;&lt;p3&gt;&lt;sg&gt;</td>\n",
       "      <td>6</td>\n",
       "      <td>4</td>\n",
       "      <td>2</td>\n",
       "      <td>2</td>\n",
       "    </tr>\n",
       "    <tr>\n",
       "      <th>1</th>\n",
       "      <td>0.5</td>\n",
       "      <td>1362076081</td>\n",
       "      <td>27649635</td>\n",
       "      <td>u:FO</td>\n",
       "      <td>de</td>\n",
       "      <td>en</td>\n",
       "      <td>7dfd7086f3671685e2cf1c1da72796d7</td>\n",
       "      <td>die/die&lt;det&gt;&lt;def&gt;&lt;f&gt;&lt;sg&gt;&lt;nom&gt;</td>\n",
       "      <td>4</td>\n",
       "      <td>4</td>\n",
       "      <td>2</td>\n",
       "      <td>1</td>\n",
       "    </tr>\n",
       "    <tr>\n",
       "      <th>2</th>\n",
       "      <td>1.0</td>\n",
       "      <td>1362076081</td>\n",
       "      <td>27649635</td>\n",
       "      <td>u:FO</td>\n",
       "      <td>de</td>\n",
       "      <td>en</td>\n",
       "      <td>35a54c25a2cda8127343f6a82e6f6b7d</td>\n",
       "      <td>mann/mann&lt;n&gt;&lt;m&gt;&lt;sg&gt;&lt;nom&gt;</td>\n",
       "      <td>5</td>\n",
       "      <td>4</td>\n",
       "      <td>1</td>\n",
       "      <td>1</td>\n",
       "    </tr>\n",
       "    <tr>\n",
       "      <th>3</th>\n",
       "      <td>0.5</td>\n",
       "      <td>1362076081</td>\n",
       "      <td>27649635</td>\n",
       "      <td>u:FO</td>\n",
       "      <td>de</td>\n",
       "      <td>en</td>\n",
       "      <td>0cf63ffe3dda158bc3dbd55682b355ae</td>\n",
       "      <td>frau/frau&lt;n&gt;&lt;f&gt;&lt;sg&gt;&lt;nom&gt;</td>\n",
       "      <td>6</td>\n",
       "      <td>5</td>\n",
       "      <td>2</td>\n",
       "      <td>1</td>\n",
       "    </tr>\n",
       "    <tr>\n",
       "      <th>4</th>\n",
       "      <td>1.0</td>\n",
       "      <td>1362076081</td>\n",
       "      <td>27649635</td>\n",
       "      <td>u:FO</td>\n",
       "      <td>de</td>\n",
       "      <td>en</td>\n",
       "      <td>84920990d78044db53c1b012f5bf9ab5</td>\n",
       "      <td>das/das&lt;det&gt;&lt;def&gt;&lt;nt&gt;&lt;sg&gt;&lt;nom&gt;</td>\n",
       "      <td>4</td>\n",
       "      <td>4</td>\n",
       "      <td>1</td>\n",
       "      <td>1</td>\n",
       "    </tr>\n",
       "  </tbody>\n",
       "</table>\n",
       "</div>"
      ],
      "text/plain": [
       "   p_recall   timestamp     delta user_id learning_language ui_language  \\\n",
       "0       1.0  1362076081  27649635    u:FO                de          en   \n",
       "1       0.5  1362076081  27649635    u:FO                de          en   \n",
       "2       1.0  1362076081  27649635    u:FO                de          en   \n",
       "3       0.5  1362076081  27649635    u:FO                de          en   \n",
       "4       1.0  1362076081  27649635    u:FO                de          en   \n",
       "\n",
       "                          lexeme_id                     lexeme_string  \\\n",
       "0  76390c1350a8dac31186187e2fe1e178  lernt/lernen<vblex><pri><p3><sg>   \n",
       "1  7dfd7086f3671685e2cf1c1da72796d7     die/die<det><def><f><sg><nom>   \n",
       "2  35a54c25a2cda8127343f6a82e6f6b7d          mann/mann<n><m><sg><nom>   \n",
       "3  0cf63ffe3dda158bc3dbd55682b355ae          frau/frau<n><f><sg><nom>   \n",
       "4  84920990d78044db53c1b012f5bf9ab5    das/das<det><def><nt><sg><nom>   \n",
       "\n",
       "   history_seen  history_correct  session_seen  session_correct  \n",
       "0             6                4             2                2  \n",
       "1             4                4             2                1  \n",
       "2             5                4             1                1  \n",
       "3             6                5             2                1  \n",
       "4             4                4             1                1  "
      ]
     },
     "execution_count": 5,
     "metadata": {},
     "output_type": "execute_result"
    }
   ],
   "source": [
    "## data acquisition \n",
    "## SPACED REPETITION DATA \n",
    "dataframe = pd.read_csv(\"/Users/zeinebouerghi/Downloads/duolingospacedrd.csv.gz\")\n",
    "dataframe.head()"
   ]
  },
  {
   "cell_type": "code",
   "execution_count": 8,
   "metadata": {},
   "outputs": [
    {
     "data": {
      "text/html": [
       "<div>\n",
       "<style scoped>\n",
       "    .dataframe tbody tr th:only-of-type {\n",
       "        vertical-align: middle;\n",
       "    }\n",
       "\n",
       "    .dataframe tbody tr th {\n",
       "        vertical-align: top;\n",
       "    }\n",
       "\n",
       "    .dataframe thead th {\n",
       "        text-align: right;\n",
       "    }\n",
       "</style>\n",
       "<table border=\"1\" class=\"dataframe\">\n",
       "  <thead>\n",
       "    <tr style=\"text-align: right;\">\n",
       "      <th></th>\n",
       "      <th>p_recall</th>\n",
       "      <th>timestamp</th>\n",
       "      <th>delta</th>\n",
       "      <th>history_seen</th>\n",
       "      <th>history_correct</th>\n",
       "      <th>session_seen</th>\n",
       "      <th>session_correct</th>\n",
       "    </tr>\n",
       "  </thead>\n",
       "  <tbody>\n",
       "    <tr>\n",
       "      <th>count</th>\n",
       "      <td>1.285423e+07</td>\n",
       "      <td>1.285423e+07</td>\n",
       "      <td>1.285423e+07</td>\n",
       "      <td>1.285423e+07</td>\n",
       "      <td>1.285423e+07</td>\n",
       "      <td>1.285423e+07</td>\n",
       "      <td>1.285423e+07</td>\n",
       "    </tr>\n",
       "    <tr>\n",
       "      <th>mean</th>\n",
       "      <td>8.961056e-01</td>\n",
       "      <td>1.362589e+09</td>\n",
       "      <td>7.295811e+05</td>\n",
       "      <td>2.198109e+01</td>\n",
       "      <td>1.935025e+01</td>\n",
       "      <td>1.817686e+00</td>\n",
       "      <td>1.644134e+00</td>\n",
       "    </tr>\n",
       "    <tr>\n",
       "      <th>std</th>\n",
       "      <td>2.714048e-01</td>\n",
       "      <td>2.932082e+05</td>\n",
       "      <td>2.246499e+06</td>\n",
       "      <td>1.295508e+02</td>\n",
       "      <td>1.119681e+02</td>\n",
       "      <td>1.360180e+00</td>\n",
       "      <td>1.318794e+00</td>\n",
       "    </tr>\n",
       "    <tr>\n",
       "      <th>min</th>\n",
       "      <td>0.000000e+00</td>\n",
       "      <td>1.362076e+09</td>\n",
       "      <td>1.000000e+00</td>\n",
       "      <td>1.000000e+00</td>\n",
       "      <td>1.000000e+00</td>\n",
       "      <td>1.000000e+00</td>\n",
       "      <td>0.000000e+00</td>\n",
       "    </tr>\n",
       "    <tr>\n",
       "      <th>25%</th>\n",
       "      <td>1.000000e+00</td>\n",
       "      <td>1.362343e+09</td>\n",
       "      <td>5.320000e+02</td>\n",
       "      <td>3.000000e+00</td>\n",
       "      <td>3.000000e+00</td>\n",
       "      <td>1.000000e+00</td>\n",
       "      <td>1.000000e+00</td>\n",
       "    </tr>\n",
       "    <tr>\n",
       "      <th>50%</th>\n",
       "      <td>1.000000e+00</td>\n",
       "      <td>1.362591e+09</td>\n",
       "      <td>7.713400e+04</td>\n",
       "      <td>6.000000e+00</td>\n",
       "      <td>6.000000e+00</td>\n",
       "      <td>1.000000e+00</td>\n",
       "      <td>1.000000e+00</td>\n",
       "    </tr>\n",
       "    <tr>\n",
       "      <th>75%</th>\n",
       "      <td>1.000000e+00</td>\n",
       "      <td>1.362846e+09</td>\n",
       "      <td>4.425070e+05</td>\n",
       "      <td>1.500000e+01</td>\n",
       "      <td>1.300000e+01</td>\n",
       "      <td>2.000000e+00</td>\n",
       "      <td>2.000000e+00</td>\n",
       "    </tr>\n",
       "    <tr>\n",
       "      <th>max</th>\n",
       "      <td>1.000000e+00</td>\n",
       "      <td>1.363105e+09</td>\n",
       "      <td>4.032836e+07</td>\n",
       "      <td>1.351800e+04</td>\n",
       "      <td>1.288800e+04</td>\n",
       "      <td>2.000000e+01</td>\n",
       "      <td>2.000000e+01</td>\n",
       "    </tr>\n",
       "  </tbody>\n",
       "</table>\n",
       "</div>"
      ],
      "text/plain": [
       "           p_recall     timestamp         delta  history_seen  \\\n",
       "count  1.285423e+07  1.285423e+07  1.285423e+07  1.285423e+07   \n",
       "mean   8.961056e-01  1.362589e+09  7.295811e+05  2.198109e+01   \n",
       "std    2.714048e-01  2.932082e+05  2.246499e+06  1.295508e+02   \n",
       "min    0.000000e+00  1.362076e+09  1.000000e+00  1.000000e+00   \n",
       "25%    1.000000e+00  1.362343e+09  5.320000e+02  3.000000e+00   \n",
       "50%    1.000000e+00  1.362591e+09  7.713400e+04  6.000000e+00   \n",
       "75%    1.000000e+00  1.362846e+09  4.425070e+05  1.500000e+01   \n",
       "max    1.000000e+00  1.363105e+09  4.032836e+07  1.351800e+04   \n",
       "\n",
       "       history_correct  session_seen  session_correct  \n",
       "count     1.285423e+07  1.285423e+07     1.285423e+07  \n",
       "mean      1.935025e+01  1.817686e+00     1.644134e+00  \n",
       "std       1.119681e+02  1.360180e+00     1.318794e+00  \n",
       "min       1.000000e+00  1.000000e+00     0.000000e+00  \n",
       "25%       3.000000e+00  1.000000e+00     1.000000e+00  \n",
       "50%       6.000000e+00  1.000000e+00     1.000000e+00  \n",
       "75%       1.300000e+01  2.000000e+00     2.000000e+00  \n",
       "max       1.288800e+04  2.000000e+01     2.000000e+01  "
      ]
     },
     "execution_count": 8,
     "metadata": {},
     "output_type": "execute_result"
    }
   ],
   "source": [
    "dataframe.describe()"
   ]
  },
  {
   "cell_type": "code",
   "execution_count": 9,
   "metadata": {},
   "outputs": [
    {
     "name": "stdout",
     "output_type": "stream",
     "text": [
      "<class 'pandas.core.frame.DataFrame'>\n",
      "RangeIndex: 12854226 entries, 0 to 12854225\n",
      "Data columns (total 12 columns):\n",
      " #   Column             Dtype  \n",
      "---  ------             -----  \n",
      " 0   p_recall           float64\n",
      " 1   timestamp          int64  \n",
      " 2   delta              int64  \n",
      " 3   user_id            object \n",
      " 4   learning_language  object \n",
      " 5   ui_language        object \n",
      " 6   lexeme_id          object \n",
      " 7   lexeme_string      object \n",
      " 8   history_seen       int64  \n",
      " 9   history_correct    int64  \n",
      " 10  session_seen       int64  \n",
      " 11  session_correct    int64  \n",
      "dtypes: float64(1), int64(6), object(5)\n",
      "memory usage: 1.1+ GB\n"
     ]
    }
   ],
   "source": [
    "dataframe.info()"
   ]
  },
  {
   "cell_type": "code",
   "execution_count": 10,
   "metadata": {},
   "outputs": [],
   "source": [
    "correlation_data = dataframe.corr()"
   ]
  },
  {
   "cell_type": "code",
   "execution_count": 11,
   "metadata": {},
   "outputs": [
    {
     "data": {
      "text/html": [
       "<style  type=\"text/css\" >\n",
       "#T_705d5fda_112a_11ed_a94c_122b88513e7frow0_col0,#T_705d5fda_112a_11ed_a94c_122b88513e7frow1_col1,#T_705d5fda_112a_11ed_a94c_122b88513e7frow2_col2,#T_705d5fda_112a_11ed_a94c_122b88513e7frow3_col3,#T_705d5fda_112a_11ed_a94c_122b88513e7frow4_col4,#T_705d5fda_112a_11ed_a94c_122b88513e7frow5_col5,#T_705d5fda_112a_11ed_a94c_122b88513e7frow6_col6{\n",
       "            background-color:  #023858;\n",
       "            color:  #f1f1f1;\n",
       "        }#T_705d5fda_112a_11ed_a94c_122b88513e7frow0_col1,#T_705d5fda_112a_11ed_a94c_122b88513e7frow0_col2,#T_705d5fda_112a_11ed_a94c_122b88513e7frow2_col0,#T_705d5fda_112a_11ed_a94c_122b88513e7frow2_col3,#T_705d5fda_112a_11ed_a94c_122b88513e7frow2_col4,#T_705d5fda_112a_11ed_a94c_122b88513e7frow2_col5,#T_705d5fda_112a_11ed_a94c_122b88513e7frow2_col6,#T_705d5fda_112a_11ed_a94c_122b88513e7frow3_col1,#T_705d5fda_112a_11ed_a94c_122b88513e7frow3_col2,#T_705d5fda_112a_11ed_a94c_122b88513e7frow3_col5,#T_705d5fda_112a_11ed_a94c_122b88513e7frow3_col6,#T_705d5fda_112a_11ed_a94c_122b88513e7frow4_col1,#T_705d5fda_112a_11ed_a94c_122b88513e7frow4_col2,#T_705d5fda_112a_11ed_a94c_122b88513e7frow4_col5{\n",
       "            background-color:  #fff7fb;\n",
       "            color:  #000000;\n",
       "        }#T_705d5fda_112a_11ed_a94c_122b88513e7frow0_col3,#T_705d5fda_112a_11ed_a94c_122b88513e7frow3_col0,#T_705d5fda_112a_11ed_a94c_122b88513e7frow4_col6{\n",
       "            background-color:  #fef6fb;\n",
       "            color:  #000000;\n",
       "        }#T_705d5fda_112a_11ed_a94c_122b88513e7frow0_col4,#T_705d5fda_112a_11ed_a94c_122b88513e7frow1_col6,#T_705d5fda_112a_11ed_a94c_122b88513e7frow4_col0,#T_705d5fda_112a_11ed_a94c_122b88513e7frow5_col1,#T_705d5fda_112a_11ed_a94c_122b88513e7frow6_col1{\n",
       "            background-color:  #fdf5fa;\n",
       "            color:  #000000;\n",
       "        }#T_705d5fda_112a_11ed_a94c_122b88513e7frow0_col5{\n",
       "            background-color:  #f9f2f8;\n",
       "            color:  #000000;\n",
       "        }#T_705d5fda_112a_11ed_a94c_122b88513e7frow0_col6{\n",
       "            background-color:  #bdc8e1;\n",
       "            color:  #000000;\n",
       "        }#T_705d5fda_112a_11ed_a94c_122b88513e7frow1_col0,#T_705d5fda_112a_11ed_a94c_122b88513e7frow1_col3,#T_705d5fda_112a_11ed_a94c_122b88513e7frow2_col1,#T_705d5fda_112a_11ed_a94c_122b88513e7frow6_col4{\n",
       "            background-color:  #fbf3f9;\n",
       "            color:  #000000;\n",
       "        }#T_705d5fda_112a_11ed_a94c_122b88513e7frow1_col2{\n",
       "            background-color:  #f7f0f7;\n",
       "            color:  #000000;\n",
       "        }#T_705d5fda_112a_11ed_a94c_122b88513e7frow1_col4,#T_705d5fda_112a_11ed_a94c_122b88513e7frow6_col3{\n",
       "            background-color:  #fbf4f9;\n",
       "            color:  #000000;\n",
       "        }#T_705d5fda_112a_11ed_a94c_122b88513e7frow1_col5{\n",
       "            background-color:  #fef6fa;\n",
       "            color:  #000000;\n",
       "        }#T_705d5fda_112a_11ed_a94c_122b88513e7frow3_col4,#T_705d5fda_112a_11ed_a94c_122b88513e7frow4_col3{\n",
       "            background-color:  #023b5d;\n",
       "            color:  #f1f1f1;\n",
       "        }#T_705d5fda_112a_11ed_a94c_122b88513e7frow5_col0{\n",
       "            background-color:  #f5eef6;\n",
       "            color:  #000000;\n",
       "        }#T_705d5fda_112a_11ed_a94c_122b88513e7frow5_col2,#T_705d5fda_112a_11ed_a94c_122b88513e7frow5_col3,#T_705d5fda_112a_11ed_a94c_122b88513e7frow5_col4{\n",
       "            background-color:  #faf3f9;\n",
       "            color:  #000000;\n",
       "        }#T_705d5fda_112a_11ed_a94c_122b88513e7frow5_col6{\n",
       "            background-color:  #03446a;\n",
       "            color:  #f1f1f1;\n",
       "        }#T_705d5fda_112a_11ed_a94c_122b88513e7frow6_col0{\n",
       "            background-color:  #b8c6e0;\n",
       "            color:  #000000;\n",
       "        }#T_705d5fda_112a_11ed_a94c_122b88513e7frow6_col2{\n",
       "            background-color:  #fcf4fa;\n",
       "            color:  #000000;\n",
       "        }#T_705d5fda_112a_11ed_a94c_122b88513e7frow6_col5{\n",
       "            background-color:  #03456c;\n",
       "            color:  #f1f1f1;\n",
       "        }</style><table id=\"T_705d5fda_112a_11ed_a94c_122b88513e7f\" ><thead>    <tr>        <th class=\"blank level0\" ></th>        <th class=\"col_heading level0 col0\" >p_recall</th>        <th class=\"col_heading level0 col1\" >timestamp</th>        <th class=\"col_heading level0 col2\" >delta</th>        <th class=\"col_heading level0 col3\" >history_seen</th>        <th class=\"col_heading level0 col4\" >history_correct</th>        <th class=\"col_heading level0 col5\" >session_seen</th>        <th class=\"col_heading level0 col6\" >session_correct</th>    </tr></thead><tbody>\n",
       "                <tr>\n",
       "                        <th id=\"T_705d5fda_112a_11ed_a94c_122b88513e7flevel0_row0\" class=\"row_heading level0 row0\" >p_recall</th>\n",
       "                        <td id=\"T_705d5fda_112a_11ed_a94c_122b88513e7frow0_col0\" class=\"data row0 col0\" >1.000000</td>\n",
       "                        <td id=\"T_705d5fda_112a_11ed_a94c_122b88513e7frow0_col1\" class=\"data row0 col1\" >-0.000709</td>\n",
       "                        <td id=\"T_705d5fda_112a_11ed_a94c_122b88513e7frow0_col2\" class=\"data row0 col2\" >-0.030221</td>\n",
       "                        <td id=\"T_705d5fda_112a_11ed_a94c_122b88513e7frow0_col3\" class=\"data row0 col3\" >-0.022747</td>\n",
       "                        <td id=\"T_705d5fda_112a_11ed_a94c_122b88513e7frow0_col4\" class=\"data row0 col4\" >-0.012844</td>\n",
       "                        <td id=\"T_705d5fda_112a_11ed_a94c_122b88513e7frow0_col5\" class=\"data row0 col5\" >0.041433</td>\n",
       "                        <td id=\"T_705d5fda_112a_11ed_a94c_122b88513e7frow0_col6\" class=\"data row0 col6\" >0.301793</td>\n",
       "            </tr>\n",
       "            <tr>\n",
       "                        <th id=\"T_705d5fda_112a_11ed_a94c_122b88513e7flevel0_row1\" class=\"row_heading level0 row1\" >timestamp</th>\n",
       "                        <td id=\"T_705d5fda_112a_11ed_a94c_122b88513e7frow1_col0\" class=\"data row1 col0\" >-0.000709</td>\n",
       "                        <td id=\"T_705d5fda_112a_11ed_a94c_122b88513e7frow1_col1\" class=\"data row1 col1\" >1.000000</td>\n",
       "                        <td id=\"T_705d5fda_112a_11ed_a94c_122b88513e7frow1_col2\" class=\"data row1 col2\" >0.024238</td>\n",
       "                        <td id=\"T_705d5fda_112a_11ed_a94c_122b88513e7frow1_col3\" class=\"data row1 col3\" >-0.002188</td>\n",
       "                        <td id=\"T_705d5fda_112a_11ed_a94c_122b88513e7frow1_col4\" class=\"data row1 col4\" >-0.003297</td>\n",
       "                        <td id=\"T_705d5fda_112a_11ed_a94c_122b88513e7frow1_col5\" class=\"data row1 col5\" >0.010319</td>\n",
       "                        <td id=\"T_705d5fda_112a_11ed_a94c_122b88513e7frow1_col6\" class=\"data row1 col6\" >0.009683</td>\n",
       "            </tr>\n",
       "            <tr>\n",
       "                        <th id=\"T_705d5fda_112a_11ed_a94c_122b88513e7flevel0_row2\" class=\"row_heading level0 row2\" >delta</th>\n",
       "                        <td id=\"T_705d5fda_112a_11ed_a94c_122b88513e7frow2_col0\" class=\"data row2 col0\" >-0.030221</td>\n",
       "                        <td id=\"T_705d5fda_112a_11ed_a94c_122b88513e7frow2_col1\" class=\"data row2 col1\" >0.024238</td>\n",
       "                        <td id=\"T_705d5fda_112a_11ed_a94c_122b88513e7frow2_col2\" class=\"data row2 col2\" >1.000000</td>\n",
       "                        <td id=\"T_705d5fda_112a_11ed_a94c_122b88513e7frow2_col3\" class=\"data row2 col3\" >-0.030382</td>\n",
       "                        <td id=\"T_705d5fda_112a_11ed_a94c_122b88513e7frow2_col4\" class=\"data row2 col4\" >-0.030217</td>\n",
       "                        <td id=\"T_705d5fda_112a_11ed_a94c_122b88513e7frow2_col5\" class=\"data row2 col5\" >0.002170</td>\n",
       "                        <td id=\"T_705d5fda_112a_11ed_a94c_122b88513e7frow2_col6\" class=\"data row2 col6\" >-0.006933</td>\n",
       "            </tr>\n",
       "            <tr>\n",
       "                        <th id=\"T_705d5fda_112a_11ed_a94c_122b88513e7flevel0_row3\" class=\"row_heading level0 row3\" >history_seen</th>\n",
       "                        <td id=\"T_705d5fda_112a_11ed_a94c_122b88513e7frow3_col0\" class=\"data row3 col0\" >-0.022747</td>\n",
       "                        <td id=\"T_705d5fda_112a_11ed_a94c_122b88513e7frow3_col1\" class=\"data row3 col1\" >-0.002188</td>\n",
       "                        <td id=\"T_705d5fda_112a_11ed_a94c_122b88513e7frow3_col2\" class=\"data row3 col2\" >-0.030382</td>\n",
       "                        <td id=\"T_705d5fda_112a_11ed_a94c_122b88513e7frow3_col3\" class=\"data row3 col3\" >1.000000</td>\n",
       "                        <td id=\"T_705d5fda_112a_11ed_a94c_122b88513e7frow3_col4\" class=\"data row3 col4\" >0.985646</td>\n",
       "                        <td id=\"T_705d5fda_112a_11ed_a94c_122b88513e7frow3_col5\" class=\"data row3 col5\" >0.002899</td>\n",
       "                        <td id=\"T_705d5fda_112a_11ed_a94c_122b88513e7frow3_col6\" class=\"data row3 col6\" >-0.004417</td>\n",
       "            </tr>\n",
       "            <tr>\n",
       "                        <th id=\"T_705d5fda_112a_11ed_a94c_122b88513e7flevel0_row4\" class=\"row_heading level0 row4\" >history_correct</th>\n",
       "                        <td id=\"T_705d5fda_112a_11ed_a94c_122b88513e7frow4_col0\" class=\"data row4 col0\" >-0.012844</td>\n",
       "                        <td id=\"T_705d5fda_112a_11ed_a94c_122b88513e7frow4_col1\" class=\"data row4 col1\" >-0.003297</td>\n",
       "                        <td id=\"T_705d5fda_112a_11ed_a94c_122b88513e7frow4_col2\" class=\"data row4 col2\" >-0.030217</td>\n",
       "                        <td id=\"T_705d5fda_112a_11ed_a94c_122b88513e7frow4_col3\" class=\"data row4 col3\" >0.985646</td>\n",
       "                        <td id=\"T_705d5fda_112a_11ed_a94c_122b88513e7frow4_col4\" class=\"data row4 col4\" >1.000000</td>\n",
       "                        <td id=\"T_705d5fda_112a_11ed_a94c_122b88513e7frow4_col5\" class=\"data row4 col5\" >0.003628</td>\n",
       "                        <td id=\"T_705d5fda_112a_11ed_a94c_122b88513e7frow4_col6\" class=\"data row4 col6\" >-0.000407</td>\n",
       "            </tr>\n",
       "            <tr>\n",
       "                        <th id=\"T_705d5fda_112a_11ed_a94c_122b88513e7flevel0_row5\" class=\"row_heading level0 row5\" >session_seen</th>\n",
       "                        <td id=\"T_705d5fda_112a_11ed_a94c_122b88513e7frow5_col0\" class=\"data row5 col0\" >0.041433</td>\n",
       "                        <td id=\"T_705d5fda_112a_11ed_a94c_122b88513e7frow5_col1\" class=\"data row5 col1\" >0.010319</td>\n",
       "                        <td id=\"T_705d5fda_112a_11ed_a94c_122b88513e7frow5_col2\" class=\"data row5 col2\" >0.002170</td>\n",
       "                        <td id=\"T_705d5fda_112a_11ed_a94c_122b88513e7frow5_col3\" class=\"data row5 col3\" >0.002899</td>\n",
       "                        <td id=\"T_705d5fda_112a_11ed_a94c_122b88513e7frow5_col4\" class=\"data row5 col4\" >0.003628</td>\n",
       "                        <td id=\"T_705d5fda_112a_11ed_a94c_122b88513e7frow5_col5\" class=\"data row5 col5\" >1.000000</td>\n",
       "                        <td id=\"T_705d5fda_112a_11ed_a94c_122b88513e7frow5_col6\" class=\"data row5 col6\" >0.952811</td>\n",
       "            </tr>\n",
       "            <tr>\n",
       "                        <th id=\"T_705d5fda_112a_11ed_a94c_122b88513e7flevel0_row6\" class=\"row_heading level0 row6\" >session_correct</th>\n",
       "                        <td id=\"T_705d5fda_112a_11ed_a94c_122b88513e7frow6_col0\" class=\"data row6 col0\" >0.301793</td>\n",
       "                        <td id=\"T_705d5fda_112a_11ed_a94c_122b88513e7frow6_col1\" class=\"data row6 col1\" >0.009683</td>\n",
       "                        <td id=\"T_705d5fda_112a_11ed_a94c_122b88513e7frow6_col2\" class=\"data row6 col2\" >-0.006933</td>\n",
       "                        <td id=\"T_705d5fda_112a_11ed_a94c_122b88513e7frow6_col3\" class=\"data row6 col3\" >-0.004417</td>\n",
       "                        <td id=\"T_705d5fda_112a_11ed_a94c_122b88513e7frow6_col4\" class=\"data row6 col4\" >-0.000407</td>\n",
       "                        <td id=\"T_705d5fda_112a_11ed_a94c_122b88513e7frow6_col5\" class=\"data row6 col5\" >0.952811</td>\n",
       "                        <td id=\"T_705d5fda_112a_11ed_a94c_122b88513e7frow6_col6\" class=\"data row6 col6\" >1.000000</td>\n",
       "            </tr>\n",
       "    </tbody></table>"
      ],
      "text/plain": [
       "<pandas.io.formats.style.Styler at 0x7f98d0009700>"
      ]
     },
     "execution_count": 11,
     "metadata": {},
     "output_type": "execute_result"
    }
   ],
   "source": [
    "correlation_data.style.background_gradient()"
   ]
  },
  {
   "cell_type": "code",
   "execution_count": 12,
   "metadata": {},
   "outputs": [],
   "source": [
    "data_dir = Path('/Users/zeinebouerghi/Desktop/dataverse_files')"
   ]
  },
  {
   "cell_type": "code",
   "execution_count": 10,
   "metadata": {},
   "outputs": [],
   "source": [
    "df = pd.read_parquet('/Users/zeinebouerghi/Desktop/dataverse_files/testpart1.parquet')"
   ]
  },
  {
   "cell_type": "code",
   "execution_count": 12,
   "metadata": {},
   "outputs": [
    {
     "data": {
      "text/html": [
       "<div>\n",
       "<style scoped>\n",
       "    .dataframe tbody tr th:only-of-type {\n",
       "        vertical-align: middle;\n",
       "    }\n",
       "\n",
       "    .dataframe tbody tr th {\n",
       "        vertical-align: top;\n",
       "    }\n",
       "\n",
       "    .dataframe thead th {\n",
       "        text-align: right;\n",
       "    }\n",
       "</style>\n",
       "<table border=\"1\" class=\"dataframe\">\n",
       "  <thead>\n",
       "    <tr style=\"text-align: right;\">\n",
       "      <th></th>\n",
       "      <th>datetime</th>\n",
       "      <th>ui_language</th>\n",
       "      <th>eligible_templates</th>\n",
       "      <th>history</th>\n",
       "      <th>selected_template</th>\n",
       "      <th>session_end_completed</th>\n",
       "    </tr>\n",
       "  </thead>\n",
       "  <tbody>\n",
       "    <tr>\n",
       "      <th>0</th>\n",
       "      <td>18.541030</td>\n",
       "      <td>ru</td>\n",
       "      <td>[K, H, G, E, B, J, L, F, D, A]</td>\n",
       "      <td>None</td>\n",
       "      <td>L</td>\n",
       "      <td>False</td>\n",
       "    </tr>\n",
       "    <tr>\n",
       "      <th>1</th>\n",
       "      <td>21.052685</td>\n",
       "      <td>dn</td>\n",
       "      <td>[K, H, G, E, B, J, L, F, D]</td>\n",
       "      <td>None</td>\n",
       "      <td>H</td>\n",
       "      <td>False</td>\n",
       "    </tr>\n",
       "    <tr>\n",
       "      <th>2</th>\n",
       "      <td>31.855683</td>\n",
       "      <td>es</td>\n",
       "      <td>[K, H, G, E, B, J, L, F, D]</td>\n",
       "      <td>None</td>\n",
       "      <td>F</td>\n",
       "      <td>False</td>\n",
       "    </tr>\n",
       "    <tr>\n",
       "      <th>3</th>\n",
       "      <td>19.486713</td>\n",
       "      <td>pt</td>\n",
       "      <td>[K, H, G, E, B, J, L, F, D, A]</td>\n",
       "      <td>None</td>\n",
       "      <td>L</td>\n",
       "      <td>False</td>\n",
       "    </tr>\n",
       "    <tr>\n",
       "      <th>4</th>\n",
       "      <td>22.296007</td>\n",
       "      <td>pt</td>\n",
       "      <td>[K, H, G, E, B, J, L, F, D, A]</td>\n",
       "      <td>None</td>\n",
       "      <td>D</td>\n",
       "      <td>True</td>\n",
       "    </tr>\n",
       "  </tbody>\n",
       "</table>\n",
       "</div>"
      ],
      "text/plain": [
       "    datetime ui_language              eligible_templates history  \\\n",
       "0  18.541030          ru  [K, H, G, E, B, J, L, F, D, A]    None   \n",
       "1  21.052685          dn     [K, H, G, E, B, J, L, F, D]    None   \n",
       "2  31.855683          es     [K, H, G, E, B, J, L, F, D]    None   \n",
       "3  19.486713          pt  [K, H, G, E, B, J, L, F, D, A]    None   \n",
       "4  22.296007          pt  [K, H, G, E, B, J, L, F, D, A]    None   \n",
       "\n",
       "  selected_template  session_end_completed  \n",
       "0                 L                  False  \n",
       "1                 H                  False  \n",
       "2                 F                  False  \n",
       "3                 L                  False  \n",
       "4                 D                   True  "
      ]
     },
     "execution_count": 12,
     "metadata": {},
     "output_type": "execute_result"
    }
   ],
   "source": [
    "df.head()"
   ]
  },
  {
   "cell_type": "code",
   "execution_count": 13,
   "metadata": {},
   "outputs": [
    {
     "data": {
      "text/plain": [
       "array([None], dtype=object)"
      ]
     },
     "execution_count": 13,
     "metadata": {},
     "output_type": "execute_result"
    }
   ],
   "source": [
    "df.history.unique()"
   ]
  },
  {
   "cell_type": "code",
   "execution_count": 14,
   "metadata": {},
   "outputs": [
    {
     "data": {
      "text/html": [
       "<div>\n",
       "<style scoped>\n",
       "    .dataframe tbody tr th:only-of-type {\n",
       "        vertical-align: middle;\n",
       "    }\n",
       "\n",
       "    .dataframe tbody tr th {\n",
       "        vertical-align: top;\n",
       "    }\n",
       "\n",
       "    .dataframe thead th {\n",
       "        text-align: right;\n",
       "    }\n",
       "</style>\n",
       "<table border=\"1\" class=\"dataframe\">\n",
       "  <thead>\n",
       "    <tr style=\"text-align: right;\">\n",
       "      <th></th>\n",
       "      <th>datetime</th>\n",
       "    </tr>\n",
       "  </thead>\n",
       "  <tbody>\n",
       "    <tr>\n",
       "      <th>count</th>\n",
       "      <td>5.212425e+07</td>\n",
       "    </tr>\n",
       "    <tr>\n",
       "      <th>mean</th>\n",
       "      <td>2.416318e+01</td>\n",
       "    </tr>\n",
       "    <tr>\n",
       "      <th>std</th>\n",
       "      <td>5.172619e+00</td>\n",
       "    </tr>\n",
       "    <tr>\n",
       "      <th>min</th>\n",
       "      <td>1.500000e+01</td>\n",
       "    </tr>\n",
       "    <tr>\n",
       "      <th>25%</th>\n",
       "      <td>1.965360e+01</td>\n",
       "    </tr>\n",
       "    <tr>\n",
       "      <th>50%</th>\n",
       "      <td>2.430299e+01</td>\n",
       "    </tr>\n",
       "    <tr>\n",
       "      <th>75%</th>\n",
       "      <td>2.866520e+01</td>\n",
       "    </tr>\n",
       "    <tr>\n",
       "      <th>max</th>\n",
       "      <td>3.284222e+01</td>\n",
       "    </tr>\n",
       "  </tbody>\n",
       "</table>\n",
       "</div>"
      ],
      "text/plain": [
       "           datetime\n",
       "count  5.212425e+07\n",
       "mean   2.416318e+01\n",
       "std    5.172619e+00\n",
       "min    1.500000e+01\n",
       "25%    1.965360e+01\n",
       "50%    2.430299e+01\n",
       "75%    2.866520e+01\n",
       "max    3.284222e+01"
      ]
     },
     "execution_count": 14,
     "metadata": {},
     "output_type": "execute_result"
    }
   ],
   "source": [
    "df.describe()"
   ]
  },
  {
   "cell_type": "code",
   "execution_count": 15,
   "metadata": {},
   "outputs": [
    {
     "name": "stdout",
     "output_type": "stream",
     "text": [
      "<class 'pandas.core.frame.DataFrame'>\n",
      "RangeIndex: 52124250 entries, 0 to 52124249\n",
      "Data columns (total 6 columns):\n",
      " #   Column                 Dtype  \n",
      "---  ------                 -----  \n",
      " 0   datetime               float64\n",
      " 1   ui_language            object \n",
      " 2   eligible_templates     object \n",
      " 3   history                object \n",
      " 4   selected_template      object \n",
      " 5   session_end_completed  bool   \n",
      "dtypes: bool(1), float64(1), object(4)\n",
      "memory usage: 2.0+ GB\n"
     ]
    }
   ],
   "source": [
    "# get the data information\n",
    "df.info()"
   ]
  },
  {
   "cell_type": "code",
   "execution_count": 16,
   "metadata": {},
   "outputs": [
    {
     "data": {
      "text/plain": [
       "2"
      ]
     },
     "execution_count": 16,
     "metadata": {},
     "output_type": "execute_result"
    }
   ],
   "source": [
    "#interested in the unique number of values of the sessions completed\n",
    "df.session_end_completed.nunique()"
   ]
  },
  {
   "cell_type": "code",
   "execution_count": 17,
   "metadata": {},
   "outputs": [
    {
     "name": "stdout",
     "output_type": "stream",
     "text": [
      "datetime                        0\n",
      "ui_language                     0\n",
      "eligible_templates              0\n",
      "history                  52124250\n",
      "selected_template               0\n",
      "session_end_completed           0\n",
      "dtype: int64\n"
     ]
    }
   ],
   "source": [
    "# Check if there are any null values\n",
    "print(df.isnull().sum())"
   ]
  },
  {
   "cell_type": "code",
   "execution_count": 18,
   "metadata": {},
   "outputs": [
    {
     "name": "stdout",
     "output_type": "stream",
     "text": [
      "(12854226, 12)\n"
     ]
    }
   ],
   "source": [
    "print(dataframe.shape)"
   ]
  },
  {
   "cell_type": "code",
   "execution_count": 13,
   "metadata": {},
   "outputs": [],
   "source": [
    "#target variable is the number of recall times \n",
    "y = dataframe[\"p_recall\"] "
   ]
  },
  {
   "cell_type": "code",
   "execution_count": 14,
   "metadata": {},
   "outputs": [],
   "source": [
    "lab = preprocessing.LabelEncoder()\n",
    "y_transformed = lab.fit_transform(y)"
   ]
  },
  {
   "cell_type": "code",
   "execution_count": 15,
   "metadata": {},
   "outputs": [
    {
     "data": {
      "text/plain": [
       "0    1.0\n",
       "1    0.5\n",
       "2    1.0\n",
       "3    0.5\n",
       "4    1.0\n",
       "Name: p_recall, dtype: float64"
      ]
     },
     "execution_count": 15,
     "metadata": {},
     "output_type": "execute_result"
    }
   ],
   "source": [
    "y.head()"
   ]
  },
  {
   "cell_type": "code",
   "execution_count": 16,
   "metadata": {},
   "outputs": [],
   "source": [
    "#y_transformed.head()"
   ]
  },
  {
   "cell_type": "code",
   "execution_count": 17,
   "metadata": {},
   "outputs": [
    {
     "data": {
      "text/html": [
       "<div>\n",
       "<style scoped>\n",
       "    .dataframe tbody tr th:only-of-type {\n",
       "        vertical-align: middle;\n",
       "    }\n",
       "\n",
       "    .dataframe tbody tr th {\n",
       "        vertical-align: top;\n",
       "    }\n",
       "\n",
       "    .dataframe thead th {\n",
       "        text-align: right;\n",
       "    }\n",
       "</style>\n",
       "<table border=\"1\" class=\"dataframe\">\n",
       "  <thead>\n",
       "    <tr style=\"text-align: right;\">\n",
       "      <th></th>\n",
       "      <th>p_recall</th>\n",
       "      <th>timestamp</th>\n",
       "    </tr>\n",
       "  </thead>\n",
       "  <tbody>\n",
       "    <tr>\n",
       "      <th>0</th>\n",
       "      <td>1.0</td>\n",
       "      <td>1362076081</td>\n",
       "    </tr>\n",
       "    <tr>\n",
       "      <th>1</th>\n",
       "      <td>0.5</td>\n",
       "      <td>1362076081</td>\n",
       "    </tr>\n",
       "    <tr>\n",
       "      <th>2</th>\n",
       "      <td>1.0</td>\n",
       "      <td>1362076081</td>\n",
       "    </tr>\n",
       "    <tr>\n",
       "      <th>3</th>\n",
       "      <td>0.5</td>\n",
       "      <td>1362076081</td>\n",
       "    </tr>\n",
       "    <tr>\n",
       "      <th>4</th>\n",
       "      <td>1.0</td>\n",
       "      <td>1362076081</td>\n",
       "    </tr>\n",
       "  </tbody>\n",
       "</table>\n",
       "</div>"
      ],
      "text/plain": [
       "   p_recall   timestamp\n",
       "0       1.0  1362076081\n",
       "1       0.5  1362076081\n",
       "2       1.0  1362076081\n",
       "3       0.5  1362076081\n",
       "4       1.0  1362076081"
      ]
     },
     "execution_count": 17,
     "metadata": {},
     "output_type": "execute_result"
    }
   ],
   "source": [
    "Y = dataframe.iloc[:, 0:2]\n",
    "Y.head()"
   ]
  },
  {
   "cell_type": "code",
   "execution_count": 18,
   "metadata": {},
   "outputs": [
    {
     "data": {
      "text/html": [
       "<div>\n",
       "<style scoped>\n",
       "    .dataframe tbody tr th:only-of-type {\n",
       "        vertical-align: middle;\n",
       "    }\n",
       "\n",
       "    .dataframe tbody tr th {\n",
       "        vertical-align: top;\n",
       "    }\n",
       "\n",
       "    .dataframe thead th {\n",
       "        text-align: right;\n",
       "    }\n",
       "</style>\n",
       "<table border=\"1\" class=\"dataframe\">\n",
       "  <thead>\n",
       "    <tr style=\"text-align: right;\">\n",
       "      <th></th>\n",
       "      <th>history_seen</th>\n",
       "      <th>history_correct</th>\n",
       "      <th>session_seen</th>\n",
       "      <th>session_correct</th>\n",
       "    </tr>\n",
       "  </thead>\n",
       "  <tbody>\n",
       "    <tr>\n",
       "      <th>0</th>\n",
       "      <td>6</td>\n",
       "      <td>4</td>\n",
       "      <td>2</td>\n",
       "      <td>2</td>\n",
       "    </tr>\n",
       "    <tr>\n",
       "      <th>1</th>\n",
       "      <td>4</td>\n",
       "      <td>4</td>\n",
       "      <td>2</td>\n",
       "      <td>1</td>\n",
       "    </tr>\n",
       "    <tr>\n",
       "      <th>2</th>\n",
       "      <td>5</td>\n",
       "      <td>4</td>\n",
       "      <td>1</td>\n",
       "      <td>1</td>\n",
       "    </tr>\n",
       "    <tr>\n",
       "      <th>3</th>\n",
       "      <td>6</td>\n",
       "      <td>5</td>\n",
       "      <td>2</td>\n",
       "      <td>1</td>\n",
       "    </tr>\n",
       "    <tr>\n",
       "      <th>4</th>\n",
       "      <td>4</td>\n",
       "      <td>4</td>\n",
       "      <td>1</td>\n",
       "      <td>1</td>\n",
       "    </tr>\n",
       "  </tbody>\n",
       "</table>\n",
       "</div>"
      ],
      "text/plain": [
       "   history_seen  history_correct  session_seen  session_correct\n",
       "0             6                4             2                2\n",
       "1             4                4             2                1\n",
       "2             5                4             1                1\n",
       "3             6                5             2                1\n",
       "4             4                4             1                1"
      ]
     },
     "execution_count": 18,
     "metadata": {},
     "output_type": "execute_result"
    }
   ],
   "source": [
    "#fitting the features, we will look into the history of the mistakes based on the number of times it was seen\n",
    "X = dataframe.iloc[:, 8:14]\n",
    "X.head()"
   ]
  },
  {
   "cell_type": "code",
   "execution_count": 19,
   "metadata": {},
   "outputs": [],
   "source": [
    "# Split the data into train and test subsets\n",
    "# You can adjust the test size and random state\n",
    "X_train, X_test, y_train, y_test = train_test_split(\n",
    "    X, y_transformed, test_size=0.30, random_state=123)\n",
    "\n",
    "# Standardize X data based on X_train\n",
    "sc = StandardScaler().fit(X_train)\n",
    "X_train_scaled = sc.transform(X_train)\n",
    "X_test_scaled = sc.transform(X_test)"
   ]
  },
  {
   "cell_type": "code",
   "execution_count": null,
   "metadata": {},
   "outputs": [],
   "source": [
    "model = LogisticRegression(random_state = 10)\n",
    "model.fit(X_train_scaled, y_train)"
   ]
  },
  {
   "cell_type": "code",
   "execution_count": null,
   "metadata": {},
   "outputs": [],
   "source": [
    "y_pred = model.predict(X_test_scaled)"
   ]
  },
  {
   "cell_type": "code",
   "execution_count": null,
   "metadata": {},
   "outputs": [],
   "source": [
    "# Define parameters: these will need to be tuned to prevent overfitting and underfitting\n",
    "params = {\n",
    "    \"penalty\": \"l2\",  # Norm of the penalty: 'l1', 'l2', 'elasticnet', 'none'\n",
    "    \"C\": 1,  # Inverse of regularization strength, a positive float\n",
    "    \"random_state\": 123,\n",
    "}\n",
    "\n",
    "# Create a logistic regression classifier object with the parameters above\n",
    "clf = LogisticRegression(**params)\n",
    "\n",
    "# Train the classifer on the train set\n",
    "clf = clf.fit(X_train_scaled, y_train)\n",
    "\n",
    "# Predict the outcomes on the test set\n",
    "y_pred = clf.predict(X_test_scaled)"
   ]
  },
  {
   "cell_type": "code",
   "execution_count": null,
   "metadata": {},
   "outputs": [],
   "source": [
    "#evaluating the classifier through the accuracy, precision, and recall scores \n",
    "print(\"Accuracy:\", accuracy_score(y_test, y_pred))\n",
    "print(\"Precision:\", precision_score(y_test, y_pred))\n",
    "print(\"Recall:\", recall_score(y_test, y_pred))"
   ]
  },
  {
   "cell_type": "code",
   "execution_count": null,
   "metadata": {},
   "outputs": [],
   "source": [
    "# Calculate confusion matrix\n",
    "cnf_matrix = confusion_matrix(y_test, y_pred)\n",
    "\n",
    "# Plot a labeled confusion matrix with Seaborn\n",
    "sns.heatmap(cnf_matrix, annot=True, fmt=\"g\")\n",
    "plt.title(\"Confusion matrix\")\n",
    "plt.ylabel(\"Actual label\")\n",
    "plt.xlabel(\"Predicted label\")"
   ]
  },
  {
   "cell_type": "code",
   "execution_count": null,
   "metadata": {},
   "outputs": [],
   "source": [
    "# Plot ROC curve\n",
    "RocCurveDisplay.from_estimator(clf, X_test_scaled, y_test)"
   ]
  },
  {
   "cell_type": "markdown",
   "metadata": {},
   "source": [
    "### References:\n",
    "Data can be downloaded here :\n",
    "***\n",
    "https://dataverse.harvard.edu/dataset.xhtml?persistentId=doi:10.7910/DVN/23ZWVI\n",
    "@data{DVN/23ZWVI_2020,\n",
    "author = {Kevin Yancey and Burr Settles},\n",
    "publisher = {Harvard Dataverse},\n",
    "title = {{Replication Data for: A Sleeping, Recovering Bandit Algorithm for Optimizing Recurring Notifications}},\n",
    "year = {2020},\n",
    "version = {V1},\n",
    "doi = {10.7910/DVN/23ZWVI},\n",
    "url = {https://doi.org/10.7910/DVN/23ZWVI}\n",
    "}\n",
    "\n",
    "https://dataverse.harvard.edu/dataset.xhtml?persistentId=doi:10.7910/DVN/N8XJME\n",
    "@data{DVN/N8XJME_2017,\n",
    "author = {Settles, Burr},\n",
    "publisher = {Harvard Dataverse},\n",
    "title = {{Replication Data for: A Trainable Spaced Repetition Model for Language Learning}},\n",
    "year = {2017},\n",
    "version = {V1},\n",
    "doi = {10.7910/DVN/N8XJME},\n",
    "url = {https://doi.org/10.7910/DVN/N8XJME}\n",
    "}\n",
    "***"
   ]
  },
  {
   "cell_type": "markdown",
   "metadata": {},
   "source": [
    "#### Code Will be Updated regularly on Github:\n",
    "https://github.com/zeineb-ouerghi/Capstone-Project-Senior-Year-/upload/main\n"
   ]
  },
  {
   "cell_type": "code",
   "execution_count": null,
   "metadata": {},
   "outputs": [],
   "source": []
  }
 ],
 "metadata": {
  "kernelspec": {
   "display_name": "Python 3",
   "language": "python",
   "name": "python3"
  },
  "language_info": {
   "codemirror_mode": {
    "name": "ipython",
    "version": 3
   },
   "file_extension": ".py",
   "mimetype": "text/x-python",
   "name": "python",
   "nbconvert_exporter": "python",
   "pygments_lexer": "ipython3",
   "version": "3.8.5"
  }
 },
 "nbformat": 4,
 "nbformat_minor": 4
}
