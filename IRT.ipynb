{
  "nbformat": 4,
  "nbformat_minor": 0,
  "metadata": {
    "colab": {
      "provenance": [],
      "authorship_tag": "ABX9TyNnKw0ngI6Myz7I7U50jAWO",
      "include_colab_link": true
    },
    "kernelspec": {
      "name": "python3",
      "display_name": "Python 3"
    },
    "language_info": {
      "name": "python"
    }
  },
  "cells": [
    {
      "cell_type": "markdown",
      "metadata": {
        "id": "view-in-github",
        "colab_type": "text"
      },
      "source": [
        "<a href=\"https://colab.research.google.com/github/zeineb-ouerghi/Capstone-Project-/blob/main/IRT.ipynb\" target=\"_parent\"><img src=\"https://colab.research.google.com/assets/colab-badge.svg\" alt=\"Open In Colab\"/></a>"
      ]
    },
    {
      "cell_type": "code",
      "execution_count": null,
      "metadata": {
        "colab": {
          "base_uri": "https://localhost:8080/",
          "height": 1000
        },
        "id": "7igjW3jGKKKL",
        "outputId": "c772931e-48dc-4cc4-998a-53e8461d6420"
      },
      "outputs": [
        {
          "output_type": "stream",
          "name": "stdout",
          "text": [
            "Looking in indexes: https://pypi.org/simple, https://us-python.pkg.dev/colab-wheels/public/simple/\n",
            "Collecting py-irt\n",
            "  Downloading py_irt-0.4.8-py3-none-any.whl (36 kB)\n",
            "Requirement already satisfied: pandas<2.0,>=1.1 in /usr/local/lib/python3.8/dist-packages (from py-irt) (1.3.5)\n",
            "Collecting rich<10.0.0,>=9.3.0\n",
            "  Downloading rich-9.13.0-py3-none-any.whl (197 kB)\n",
            "\u001b[2K     \u001b[90m━━━━━━━━━━━━━━━━━━━━━━━━━━━━━━━━━━━━━━━\u001b[0m \u001b[32m197.3/197.3 KB\u001b[0m \u001b[31m4.9 MB/s\u001b[0m eta \u001b[36m0:00:00\u001b[0m\n",
            "\u001b[?25hCollecting scikit-learn==1.2\n",
            "  Downloading scikit_learn-1.2.0-cp38-cp38-manylinux_2_17_x86_64.manylinux2014_x86_64.whl (9.7 MB)\n",
            "\u001b[2K     \u001b[90m━━━━━━━━━━━━━━━━━━━━━━━━━━━━━━━━━━━━━━━━\u001b[0m \u001b[32m9.7/9.7 MB\u001b[0m \u001b[31m43.7 MB/s\u001b[0m eta \u001b[36m0:00:00\u001b[0m\n",
            "\u001b[?25hRequirement already satisfied: numpy>=1.22.0 in /usr/local/lib/python3.8/dist-packages (from py-irt) (1.22.4)\n",
            "Collecting typer<0.4.0,>=0.3.2\n",
            "  Downloading typer-0.3.2-py3-none-any.whl (21 kB)\n",
            "Requirement already satisfied: toml<0.11.0,>=0.10.2 in /usr/local/lib/python3.8/dist-packages (from py-irt) (0.10.2)\n",
            "Requirement already satisfied: scipy<2.0.0,>=1.6.3 in /usr/local/lib/python3.8/dist-packages (from py-irt) (1.7.3)\n",
            "Collecting pyro-ppl<2.0.0,>=1.6.0\n",
            "  Downloading pyro_ppl-1.8.4-py3-none-any.whl (730 kB)\n",
            "\u001b[2K     \u001b[90m━━━━━━━━━━━━━━━━━━━━━━━━━━━━━━━━━━━━━━\u001b[0m \u001b[32m730.7/730.7 KB\u001b[0m \u001b[31m30.3 MB/s\u001b[0m eta \u001b[36m0:00:00\u001b[0m\n",
            "\u001b[?25hRequirement already satisfied: pydantic<2.0.0,>=1.8.2 in /usr/local/lib/python3.8/dist-packages (from py-irt) (1.10.5)\n",
            "Collecting ordered-set<5.0.0,>=4.1.0\n",
            "  Downloading ordered_set-4.1.0-py3-none-any.whl (7.6 kB)\n",
            "Requirement already satisfied: threadpoolctl>=2.0.0 in /usr/local/lib/python3.8/dist-packages (from scikit-learn==1.2->py-irt) (3.1.0)\n",
            "Requirement already satisfied: joblib>=1.1.1 in /usr/local/lib/python3.8/dist-packages (from scikit-learn==1.2->py-irt) (1.2.0)\n",
            "Requirement already satisfied: pytz>=2017.3 in /usr/local/lib/python3.8/dist-packages (from pandas<2.0,>=1.1->py-irt) (2022.7.1)\n",
            "Requirement already satisfied: python-dateutil>=2.7.3 in /usr/local/lib/python3.8/dist-packages (from pandas<2.0,>=1.1->py-irt) (2.8.2)\n",
            "Requirement already satisfied: typing-extensions>=4.2.0 in /usr/local/lib/python3.8/dist-packages (from pydantic<2.0.0,>=1.8.2->py-irt) (4.5.0)\n",
            "Collecting pyro-api>=0.1.1\n",
            "  Downloading pyro_api-0.1.2-py3-none-any.whl (11 kB)\n",
            "Requirement already satisfied: opt-einsum>=2.3.2 in /usr/local/lib/python3.8/dist-packages (from pyro-ppl<2.0.0,>=1.6.0->py-irt) (3.3.0)\n",
            "Requirement already satisfied: tqdm>=4.36 in /usr/local/lib/python3.8/dist-packages (from pyro-ppl<2.0.0,>=1.6.0->py-irt) (4.64.1)\n",
            "Requirement already satisfied: torch>=1.11.0 in /usr/local/lib/python3.8/dist-packages (from pyro-ppl<2.0.0,>=1.6.0->py-irt) (1.13.1+cu116)\n",
            "Requirement already satisfied: pygments<3.0.0,>=2.6.0 in /usr/local/lib/python3.8/dist-packages (from rich<10.0.0,>=9.3.0->py-irt) (2.6.1)\n",
            "Collecting commonmark<0.10.0,>=0.9.0\n",
            "  Downloading commonmark-0.9.1-py2.py3-none-any.whl (51 kB)\n",
            "\u001b[2K     \u001b[90m━━━━━━━━━━━━━━━━━━━━━━━━━━━━━━━━━━━━━━━━\u001b[0m \u001b[32m51.1/51.1 KB\u001b[0m \u001b[31m5.8 MB/s\u001b[0m eta \u001b[36m0:00:00\u001b[0m\n",
            "\u001b[?25hCollecting rich<10.0.0,>=9.3.0\n",
            "  Downloading rich-9.12.4-py3-none-any.whl (197 kB)\n",
            "\u001b[2K     \u001b[90m━━━━━━━━━━━━━━━━━━━━━━━━━━━━━━━━━━━━━━\u001b[0m \u001b[32m197.6/197.6 KB\u001b[0m \u001b[31m11.4 MB/s\u001b[0m eta \u001b[36m0:00:00\u001b[0m\n",
            "\u001b[?25h  Downloading rich-9.12.3-py3-none-any.whl (196 kB)\n",
            "\u001b[2K     \u001b[90m━━━━━━━━━━━━━━━━━━━━━━━━━━━━━━━━━━━━━━\u001b[0m \u001b[32m196.6/196.6 KB\u001b[0m \u001b[31m12.9 MB/s\u001b[0m eta \u001b[36m0:00:00\u001b[0m\n",
            "\u001b[?25h  Downloading rich-9.12.2-py3-none-any.whl (196 kB)\n",
            "\u001b[2K     \u001b[90m━━━━━━━━━━━━━━━━━━━━━━━━━━━━━━━━━━━━━━\u001b[0m \u001b[32m196.6/196.6 KB\u001b[0m \u001b[31m18.4 MB/s\u001b[0m eta \u001b[36m0:00:00\u001b[0m\n",
            "\u001b[?25h  Downloading rich-9.12.1-py3-none-any.whl (196 kB)\n",
            "\u001b[2K     \u001b[90m━━━━━━━━━━━━━━━━━━━━━━━━━━━━━━━━━━━━━━\u001b[0m \u001b[32m196.5/196.5 KB\u001b[0m \u001b[31m14.3 MB/s\u001b[0m eta \u001b[36m0:00:00\u001b[0m\n",
            "\u001b[?25h  Downloading rich-9.12.0-py3-none-any.whl (196 kB)\n",
            "\u001b[2K     \u001b[90m━━━━━━━━━━━━━━━━━━━━━━━━━━━━━━━━━━━━━━\u001b[0m \u001b[32m196.4/196.4 KB\u001b[0m \u001b[31m17.4 MB/s\u001b[0m eta \u001b[36m0:00:00\u001b[0m\n",
            "\u001b[?25h  Downloading rich-9.11.1-py3-none-any.whl (195 kB)\n",
            "\u001b[2K     \u001b[90m━━━━━━━━━━━━━━━━━━━━━━━━━━━━━━━━━━━━━━\u001b[0m \u001b[32m195.6/195.6 KB\u001b[0m \u001b[31m16.1 MB/s\u001b[0m eta \u001b[36m0:00:00\u001b[0m\n",
            "\u001b[?25h  Downloading rich-9.11.0-py3-none-any.whl (195 kB)\n",
            "\u001b[2K     \u001b[90m━━━━━━━━━━━━━━━━━━━━━━━━━━━━━━━━━━━━━━\u001b[0m \u001b[32m195.6/195.6 KB\u001b[0m \u001b[31m20.1 MB/s\u001b[0m eta \u001b[36m0:00:00\u001b[0m\n",
            "\u001b[?25h  Downloading rich-9.10.0-py3-none-any.whl (188 kB)\n",
            "\u001b[2K     \u001b[90m━━━━━━━━━━━━━━━━━━━━━━━━━━━━━━━━━━━━━━\u001b[0m \u001b[32m188.0/188.0 KB\u001b[0m \u001b[31m19.2 MB/s\u001b[0m eta \u001b[36m0:00:00\u001b[0m\n",
            "\u001b[?25h  Downloading rich-9.9.0-py3-none-any.whl (187 kB)\n",
            "\u001b[2K     \u001b[90m━━━━━━━━━━━━━━━━━━━━━━━━━━━━━━━━━━━━━━\u001b[0m \u001b[32m187.8/187.8 KB\u001b[0m \u001b[31m14.6 MB/s\u001b[0m eta \u001b[36m0:00:00\u001b[0m\n",
            "\u001b[?25h  Downloading rich-9.8.2-py3-none-any.whl (186 kB)\n",
            "\u001b[2K     \u001b[90m━━━━━━━━━━━━━━━━━━━━━━━━━━━━━━━━━━━━━━\u001b[0m \u001b[32m186.3/186.3 KB\u001b[0m \u001b[31m17.5 MB/s\u001b[0m eta \u001b[36m0:00:00\u001b[0m\n",
            "\u001b[?25h  Downloading rich-9.8.1-py3-none-any.whl (186 kB)\n",
            "\u001b[2K     \u001b[90m━━━━━━━━━━━━━━━━━━━━━━━━━━━━━━━━━━━━━━\u001b[0m \u001b[32m186.3/186.3 KB\u001b[0m \u001b[31m18.0 MB/s\u001b[0m eta \u001b[36m0:00:00\u001b[0m\n",
            "\u001b[?25h  Downloading rich-9.8.0-py3-none-any.whl (186 kB)\n",
            "\u001b[2K     \u001b[90m━━━━━━━━━━━━━━━━━━━━━━━━━━━━━━━━━━━━━━\u001b[0m \u001b[32m186.3/186.3 KB\u001b[0m \u001b[31m18.4 MB/s\u001b[0m eta \u001b[36m0:00:00\u001b[0m\n",
            "\u001b[?25h  Downloading rich-9.7.0-py3-none-any.whl (185 kB)\n",
            "\u001b[2K     \u001b[90m━━━━━━━━━━━━━━━━━━━━━━━━━━━━━━━━━━━━━━\u001b[0m \u001b[32m185.2/185.2 KB\u001b[0m \u001b[31m18.1 MB/s\u001b[0m eta \u001b[36m0:00:00\u001b[0m\n",
            "\u001b[?25h  Downloading rich-9.6.2-py3-none-any.whl (182 kB)\n",
            "\u001b[2K     \u001b[90m━━━━━━━━━━━━━━━━━━━━━━━━━━━━━━━━━━━━━━\u001b[0m \u001b[32m182.5/182.5 KB\u001b[0m \u001b[31m17.5 MB/s\u001b[0m eta \u001b[36m0:00:00\u001b[0m\n",
            "\u001b[?25h  Downloading rich-9.6.1-py3-none-any.whl (182 kB)\n",
            "\u001b[2K     \u001b[90m━━━━━━━━━━━━━━━━━━━━━━━━━━━━━━━━━━━━━━\u001b[0m \u001b[32m182.3/182.3 KB\u001b[0m \u001b[31m18.0 MB/s\u001b[0m eta \u001b[36m0:00:00\u001b[0m\n",
            "\u001b[?25h  Downloading rich-9.6.0-py3-none-any.whl (182 kB)\n",
            "\u001b[2K     \u001b[90m━━━━━━━━━━━━━━━━━━━━━━━━━━━━━━━━━━━━━━\u001b[0m \u001b[32m182.3/182.3 KB\u001b[0m \u001b[31m13.7 MB/s\u001b[0m eta \u001b[36m0:00:00\u001b[0m\n",
            "\u001b[?25h  Downloading rich-9.5.1-py3-none-any.whl (180 kB)\n",
            "\u001b[2K     \u001b[90m━━━━━━━━━━━━━━━━━━━━━━━━━━━━━━━━━━━━━━\u001b[0m \u001b[32m180.4/180.4 KB\u001b[0m \u001b[31m14.1 MB/s\u001b[0m eta \u001b[36m0:00:00\u001b[0m\n",
            "\u001b[?25h  Downloading rich-9.5.0-py3-none-any.whl (180 kB)\n",
            "\u001b[2K     \u001b[90m━━━━━━━━━━━━━━━━━━━━━━━━━━━━━━━━━━━━━━\u001b[0m \u001b[32m180.4/180.4 KB\u001b[0m \u001b[31m20.8 MB/s\u001b[0m eta \u001b[36m0:00:00\u001b[0m\n",
            "\u001b[?25h  Downloading rich-9.4.0-py3-none-any.whl (179 kB)\n",
            "\u001b[2K     \u001b[90m━━━━━━━━━━━━━━━━━━━━━━━━━━━━━━━━━━━━━━\u001b[0m \u001b[32m179.5/179.5 KB\u001b[0m \u001b[31m17.0 MB/s\u001b[0m eta \u001b[36m0:00:00\u001b[0m\n",
            "\u001b[?25h  Downloading rich-9.3.0-py3-none-any.whl (166 kB)\n",
            "\u001b[2K     \u001b[90m━━━━━━━━━━━━━━━━━━━━━━━━━━━━━━━━━━━━━━\u001b[0m \u001b[32m166.4/166.4 KB\u001b[0m \u001b[31m16.3 MB/s\u001b[0m eta \u001b[36m0:00:00\u001b[0m\n",
            "\u001b[?25hINFO: pip is looking at multiple versions of pyro-ppl to determine which version is compatible with other requirements. This could take a while.\n",
            "Collecting pyro-ppl<2.0.0,>=1.6.0\n",
            "  Downloading pyro_ppl-1.8.3-py3-none-any.whl (727 kB)\n",
            "\u001b[2K     \u001b[90m━━━━━━━━━━━━━━━━━━━━━━━━━━━━━━━━━━━━━━\u001b[0m \u001b[32m727.5/727.5 KB\u001b[0m \u001b[31m40.8 MB/s\u001b[0m eta \u001b[36m0:00:00\u001b[0m\n",
            "\u001b[?25hINFO: pip is looking at multiple versions of pydantic to determine which version is compatible with other requirements. This could take a while.\n",
            "Collecting pydantic<2.0.0,>=1.8.2\n",
            "  Downloading pydantic-1.10.5-cp38-cp38-manylinux_2_17_x86_64.manylinux2014_x86_64.whl (3.2 MB)\n",
            "\u001b[2K     \u001b[90m━━━━━━━━━━━━━━━━━━━━━━━━━━━━━━━━━━━━━━━━\u001b[0m \u001b[32m3.2/3.2 MB\u001b[0m \u001b[31m80.9 MB/s\u001b[0m eta \u001b[36m0:00:00\u001b[0m\n",
            "\u001b[?25h  Downloading pydantic-1.10.4-cp38-cp38-manylinux_2_17_x86_64.manylinux2014_x86_64.whl (3.2 MB)\n",
            "\u001b[2K     \u001b[90m━━━━━━━━━━━━━━━━━━━━━━━━━━━━━━━━━━━━━━━━\u001b[0m \u001b[32m3.2/3.2 MB\u001b[0m \u001b[31m80.5 MB/s\u001b[0m eta \u001b[36m0:00:00\u001b[0m\n",
            "\u001b[?25h  Downloading pydantic-1.10.2-cp38-cp38-manylinux_2_17_x86_64.manylinux2014_x86_64.whl (13.6 MB)\n",
            "\u001b[2K     \u001b[90m━━━━━━━━━━━━━━━━━━━━━━━━━━━━━━━━━━━━━━━━\u001b[0m \u001b[32m13.6/13.6 MB\u001b[0m \u001b[31m65.0 MB/s\u001b[0m eta \u001b[36m0:00:00\u001b[0m\n",
            "\u001b[?25h  Downloading pydantic-1.10.1-cp38-cp38-manylinux_2_17_x86_64.manylinux2014_x86_64.whl (13.5 MB)\n",
            "\u001b[2K     \u001b[90m━━━━━━━━━━━━━━━━━━━━━━━━━━━━━━━━━━━━━━━━\u001b[0m \u001b[32m13.5/13.5 MB\u001b[0m \u001b[31m73.3 MB/s\u001b[0m eta \u001b[36m0:00:00\u001b[0m\n",
            "\u001b[?25h  Downloading pydantic-1.10.0-cp38-cp38-manylinux_2_17_x86_64.manylinux2014_x86_64.whl (13.5 MB)\n",
            "\u001b[2K     \u001b[90m━━━━━━━━━━━━━━━━━━━━━━━━━━━━━━━━━━━━━━━━\u001b[0m \u001b[32m13.5/13.5 MB\u001b[0m \u001b[31m72.0 MB/s\u001b[0m eta \u001b[36m0:00:00\u001b[0m\n",
            "\u001b[?25h  Downloading pydantic-1.9.2-cp38-cp38-manylinux_2_17_x86_64.manylinux2014_x86_64.whl (12.8 MB)\n",
            "\u001b[2K     \u001b[90m━━━━━━━━━━━━━━━━━━━━━━━━━━━━━━━━━━━━━━━━\u001b[0m \u001b[32m12.8/12.8 MB\u001b[0m \u001b[31m22.3 MB/s\u001b[0m eta \u001b[36m0:00:00\u001b[0m\n",
            "\u001b[?25hCollecting typing-extensions>=3.7.4.3\n",
            "  Downloading typing_extensions-3.10.0.2-py3-none-any.whl (26 kB)\n",
            "Collecting colorama<0.5.0,>=0.4.0\n",
            "  Downloading colorama-0.4.6-py2.py3-none-any.whl (25 kB)\n",
            "Requirement already satisfied: click<7.2.0,>=7.1.1 in /usr/local/lib/python3.8/dist-packages (from typer<0.4.0,>=0.3.2->py-irt) (7.1.2)\n",
            "Requirement already satisfied: six>=1.5 in /usr/local/lib/python3.8/dist-packages (from python-dateutil>=2.7.3->pandas<2.0,>=1.1->py-irt) (1.15.0)\n",
            "Installing collected packages: typing-extensions, pyro-api, commonmark, typer, pydantic, ordered-set, colorama, scikit-learn, rich, pyro-ppl, py-irt\n",
            "  Attempting uninstall: typing-extensions\n",
            "    Found existing installation: typing_extensions 4.5.0\n",
            "    Uninstalling typing_extensions-4.5.0:\n",
            "      Successfully uninstalled typing_extensions-4.5.0\n",
            "  Attempting uninstall: typer\n",
            "    Found existing installation: typer 0.7.0\n",
            "    Uninstalling typer-0.7.0:\n",
            "      Successfully uninstalled typer-0.7.0\n",
            "  Attempting uninstall: pydantic\n",
            "    Found existing installation: pydantic 1.10.5\n",
            "    Uninstalling pydantic-1.10.5:\n",
            "      Successfully uninstalled pydantic-1.10.5\n",
            "  Attempting uninstall: scikit-learn\n",
            "    Found existing installation: scikit-learn 1.0.2\n",
            "    Uninstalling scikit-learn-1.0.2:\n",
            "      Successfully uninstalled scikit-learn-1.0.2\n",
            "Successfully installed colorama-0.4.6 commonmark-0.9.1 ordered-set-4.1.0 py-irt-0.4.8 pydantic-1.9.2 pyro-api-0.1.2 pyro-ppl-1.8.4 rich-9.13.0 scikit-learn-1.2.0 typer-0.3.2 typing-extensions-3.10.0.2\n"
          ]
        },
        {
          "output_type": "display_data",
          "data": {
            "application/vnd.colab-display-data+json": {
              "pip_warning": {
                "packages": [
                  "typing_extensions"
                ]
              }
            }
          },
          "metadata": {}
        }
      ],
      "source": [
        "pip install py-irt"
      ]
    },
    {
      "cell_type": "code",
      "source": [
        "pip install pyirt"
      ],
      "metadata": {
        "colab": {
          "base_uri": "https://localhost:8080/"
        },
        "id": "t21wMkZyKwvU",
        "outputId": "f4c54d9c-d535-456c-8a2f-d321f706948c"
      },
      "execution_count": null,
      "outputs": [
        {
          "output_type": "stream",
          "name": "stdout",
          "text": [
            "Looking in indexes: https://pypi.org/simple, https://us-python.pkg.dev/colab-wheels/public/simple/\n",
            "Collecting pyirt\n",
            "  Downloading pyirt-0.3.4-py3-none-any.whl (16 kB)\n",
            "Requirement already satisfied: tqdm in /usr/local/lib/python3.8/dist-packages (from pyirt) (4.64.1)\n",
            "Requirement already satisfied: numpy in /usr/local/lib/python3.8/dist-packages (from pyirt) (1.22.4)\n",
            "Collecting python-decouple\n",
            "  Downloading python_decouple-3.7-py3-none-any.whl (9.9 kB)\n",
            "Requirement already satisfied: cython in /usr/local/lib/python3.8/dist-packages (from pyirt) (0.29.33)\n",
            "Requirement already satisfied: pymongo in /usr/local/lib/python3.8/dist-packages (from pyirt) (4.3.3)\n",
            "Requirement already satisfied: scipy in /usr/local/lib/python3.8/dist-packages (from pyirt) (1.7.3)\n",
            "Requirement already satisfied: dnspython<3.0.0,>=1.16.0 in /usr/local/lib/python3.8/dist-packages (from pymongo->pyirt) (2.3.0)\n",
            "Installing collected packages: python-decouple, pyirt\n",
            "Successfully installed pyirt-0.3.4 python-decouple-3.7\n"
          ]
        }
      ]
    },
    {
      "cell_type": "code",
      "source": [
        "import pandas as pd\n",
        "import numpy as np\n",
        "import seaborn as sns\n",
        "import matplotlib.pyplot as plt\n",
        "from pyirt import irt "
      ],
      "metadata": {
        "colab": {
          "base_uri": "https://localhost:8080/"
        },
        "id": "PFKZQ5XoKXCq",
        "outputId": "4ff6b8c8-3e2f-4f7a-e510-e2a5ba9e6c9d"
      },
      "execution_count": null,
      "outputs": [
        {
          "output_type": "stream",
          "name": "stderr",
          "text": [
            "/usr/local/lib/python3.8/dist-packages/Cython/Compiler/Main.py:369: FutureWarning: Cython directive 'language_level' not set, using 2 for now (Py2). This will change in a later release! File: /usr/local/lib/python3.8/dist-packages/pyirt/util/clib.pyx\n",
            "  tree = Parsing.p_module(s, pxd, full_module_name)\n"
          ]
        }
      ]
    },
    {
      "cell_type": "code",
      "source": [
        "from google.colab import drive\n",
        "drive.mount('/content/drive')\n",
        "## data acquisition \n",
        "## Spaced repetition DATA from Duolingo Research \n",
        "dataframe = pd.read_csv(\"/content/drive/MyDrive/Capstone Project/duolingodata.csv.gz\")\n",
        "#Data Cleaning and Manipulation \n",
        "#data.head()\n",
        "#adding variables \n",
        "#adding number of mistakes made \n",
        "dataframe['mistakes'] = dataframe.history_seen - dataframe.history_correct\n",
        "dataframe['session_mistakes'] = dataframe.session_seen - dataframe.session_correct\n",
        "dataframe['rate_of_error_per_session'] = dataframe.session_mistakes/dataframe.session_seen\n",
        "dataframe['general_rate_of_error'] = dataframe.mistakes/dataframe.history_seen \n",
        "# unit='s' to convert it into epoch time\n",
        "dataframe['Datetime'] = pd.to_datetime(dataframe['timestamp'], \n",
        "                                  unit='s')\n",
        "dataframe.head()"
      ],
      "metadata": {
        "colab": {
          "base_uri": "https://localhost:8080/",
          "height": 461
        },
        "id": "W9oxd9E8KcAp",
        "outputId": "50456066-ded0-4f35-9227-dd4ecf889579"
      },
      "execution_count": null,
      "outputs": [
        {
          "output_type": "stream",
          "name": "stdout",
          "text": [
            "Mounted at /content/drive\n"
          ]
        },
        {
          "output_type": "execute_result",
          "data": {
            "text/plain": [
              "   p_recall   timestamp     delta user_id learning_language ui_language  \\\n",
              "0       1.0  1362076081  27649635    u:FO                de          en   \n",
              "1       0.5  1362076081  27649635    u:FO                de          en   \n",
              "2       1.0  1362076081  27649635    u:FO                de          en   \n",
              "3       0.5  1362076081  27649635    u:FO                de          en   \n",
              "4       1.0  1362076081  27649635    u:FO                de          en   \n",
              "\n",
              "                          lexeme_id                     lexeme_string  \\\n",
              "0  76390c1350a8dac31186187e2fe1e178  lernt/lernen<vblex><pri><p3><sg>   \n",
              "1  7dfd7086f3671685e2cf1c1da72796d7     die/die<det><def><f><sg><nom>   \n",
              "2  35a54c25a2cda8127343f6a82e6f6b7d          mann/mann<n><m><sg><nom>   \n",
              "3  0cf63ffe3dda158bc3dbd55682b355ae          frau/frau<n><f><sg><nom>   \n",
              "4  84920990d78044db53c1b012f5bf9ab5    das/das<det><def><nt><sg><nom>   \n",
              "\n",
              "   history_seen  history_correct  session_seen  session_correct  mistakes  \\\n",
              "0             6                4             2                2         2   \n",
              "1             4                4             2                1         0   \n",
              "2             5                4             1                1         1   \n",
              "3             6                5             2                1         1   \n",
              "4             4                4             1                1         0   \n",
              "\n",
              "   session_mistakes  rate_of_error_per_session  general_rate_of_error  \\\n",
              "0                 0                        0.0               0.333333   \n",
              "1                 1                        0.5               0.000000   \n",
              "2                 0                        0.0               0.200000   \n",
              "3                 1                        0.5               0.166667   \n",
              "4                 0                        0.0               0.000000   \n",
              "\n",
              "             Datetime  \n",
              "0 2013-02-28 18:28:01  \n",
              "1 2013-02-28 18:28:01  \n",
              "2 2013-02-28 18:28:01  \n",
              "3 2013-02-28 18:28:01  \n",
              "4 2013-02-28 18:28:01  "
            ],
            "text/html": [
              "\n",
              "  <div id=\"df-11be55f5-1a33-467a-9a7b-35aab7f1d8ba\">\n",
              "    <div class=\"colab-df-container\">\n",
              "      <div>\n",
              "<style scoped>\n",
              "    .dataframe tbody tr th:only-of-type {\n",
              "        vertical-align: middle;\n",
              "    }\n",
              "\n",
              "    .dataframe tbody tr th {\n",
              "        vertical-align: top;\n",
              "    }\n",
              "\n",
              "    .dataframe thead th {\n",
              "        text-align: right;\n",
              "    }\n",
              "</style>\n",
              "<table border=\"1\" class=\"dataframe\">\n",
              "  <thead>\n",
              "    <tr style=\"text-align: right;\">\n",
              "      <th></th>\n",
              "      <th>p_recall</th>\n",
              "      <th>timestamp</th>\n",
              "      <th>delta</th>\n",
              "      <th>user_id</th>\n",
              "      <th>learning_language</th>\n",
              "      <th>ui_language</th>\n",
              "      <th>lexeme_id</th>\n",
              "      <th>lexeme_string</th>\n",
              "      <th>history_seen</th>\n",
              "      <th>history_correct</th>\n",
              "      <th>session_seen</th>\n",
              "      <th>session_correct</th>\n",
              "      <th>mistakes</th>\n",
              "      <th>session_mistakes</th>\n",
              "      <th>rate_of_error_per_session</th>\n",
              "      <th>general_rate_of_error</th>\n",
              "      <th>Datetime</th>\n",
              "    </tr>\n",
              "  </thead>\n",
              "  <tbody>\n",
              "    <tr>\n",
              "      <th>0</th>\n",
              "      <td>1.0</td>\n",
              "      <td>1362076081</td>\n",
              "      <td>27649635</td>\n",
              "      <td>u:FO</td>\n",
              "      <td>de</td>\n",
              "      <td>en</td>\n",
              "      <td>76390c1350a8dac31186187e2fe1e178</td>\n",
              "      <td>lernt/lernen&lt;vblex&gt;&lt;pri&gt;&lt;p3&gt;&lt;sg&gt;</td>\n",
              "      <td>6</td>\n",
              "      <td>4</td>\n",
              "      <td>2</td>\n",
              "      <td>2</td>\n",
              "      <td>2</td>\n",
              "      <td>0</td>\n",
              "      <td>0.0</td>\n",
              "      <td>0.333333</td>\n",
              "      <td>2013-02-28 18:28:01</td>\n",
              "    </tr>\n",
              "    <tr>\n",
              "      <th>1</th>\n",
              "      <td>0.5</td>\n",
              "      <td>1362076081</td>\n",
              "      <td>27649635</td>\n",
              "      <td>u:FO</td>\n",
              "      <td>de</td>\n",
              "      <td>en</td>\n",
              "      <td>7dfd7086f3671685e2cf1c1da72796d7</td>\n",
              "      <td>die/die&lt;det&gt;&lt;def&gt;&lt;f&gt;&lt;sg&gt;&lt;nom&gt;</td>\n",
              "      <td>4</td>\n",
              "      <td>4</td>\n",
              "      <td>2</td>\n",
              "      <td>1</td>\n",
              "      <td>0</td>\n",
              "      <td>1</td>\n",
              "      <td>0.5</td>\n",
              "      <td>0.000000</td>\n",
              "      <td>2013-02-28 18:28:01</td>\n",
              "    </tr>\n",
              "    <tr>\n",
              "      <th>2</th>\n",
              "      <td>1.0</td>\n",
              "      <td>1362076081</td>\n",
              "      <td>27649635</td>\n",
              "      <td>u:FO</td>\n",
              "      <td>de</td>\n",
              "      <td>en</td>\n",
              "      <td>35a54c25a2cda8127343f6a82e6f6b7d</td>\n",
              "      <td>mann/mann&lt;n&gt;&lt;m&gt;&lt;sg&gt;&lt;nom&gt;</td>\n",
              "      <td>5</td>\n",
              "      <td>4</td>\n",
              "      <td>1</td>\n",
              "      <td>1</td>\n",
              "      <td>1</td>\n",
              "      <td>0</td>\n",
              "      <td>0.0</td>\n",
              "      <td>0.200000</td>\n",
              "      <td>2013-02-28 18:28:01</td>\n",
              "    </tr>\n",
              "    <tr>\n",
              "      <th>3</th>\n",
              "      <td>0.5</td>\n",
              "      <td>1362076081</td>\n",
              "      <td>27649635</td>\n",
              "      <td>u:FO</td>\n",
              "      <td>de</td>\n",
              "      <td>en</td>\n",
              "      <td>0cf63ffe3dda158bc3dbd55682b355ae</td>\n",
              "      <td>frau/frau&lt;n&gt;&lt;f&gt;&lt;sg&gt;&lt;nom&gt;</td>\n",
              "      <td>6</td>\n",
              "      <td>5</td>\n",
              "      <td>2</td>\n",
              "      <td>1</td>\n",
              "      <td>1</td>\n",
              "      <td>1</td>\n",
              "      <td>0.5</td>\n",
              "      <td>0.166667</td>\n",
              "      <td>2013-02-28 18:28:01</td>\n",
              "    </tr>\n",
              "    <tr>\n",
              "      <th>4</th>\n",
              "      <td>1.0</td>\n",
              "      <td>1362076081</td>\n",
              "      <td>27649635</td>\n",
              "      <td>u:FO</td>\n",
              "      <td>de</td>\n",
              "      <td>en</td>\n",
              "      <td>84920990d78044db53c1b012f5bf9ab5</td>\n",
              "      <td>das/das&lt;det&gt;&lt;def&gt;&lt;nt&gt;&lt;sg&gt;&lt;nom&gt;</td>\n",
              "      <td>4</td>\n",
              "      <td>4</td>\n",
              "      <td>1</td>\n",
              "      <td>1</td>\n",
              "      <td>0</td>\n",
              "      <td>0</td>\n",
              "      <td>0.0</td>\n",
              "      <td>0.000000</td>\n",
              "      <td>2013-02-28 18:28:01</td>\n",
              "    </tr>\n",
              "  </tbody>\n",
              "</table>\n",
              "</div>\n",
              "      <button class=\"colab-df-convert\" onclick=\"convertToInteractive('df-11be55f5-1a33-467a-9a7b-35aab7f1d8ba')\"\n",
              "              title=\"Convert this dataframe to an interactive table.\"\n",
              "              style=\"display:none;\">\n",
              "        \n",
              "  <svg xmlns=\"http://www.w3.org/2000/svg\" height=\"24px\"viewBox=\"0 0 24 24\"\n",
              "       width=\"24px\">\n",
              "    <path d=\"M0 0h24v24H0V0z\" fill=\"none\"/>\n",
              "    <path d=\"M18.56 5.44l.94 2.06.94-2.06 2.06-.94-2.06-.94-.94-2.06-.94 2.06-2.06.94zm-11 1L8.5 8.5l.94-2.06 2.06-.94-2.06-.94L8.5 2.5l-.94 2.06-2.06.94zm10 10l.94 2.06.94-2.06 2.06-.94-2.06-.94-.94-2.06-.94 2.06-2.06.94z\"/><path d=\"M17.41 7.96l-1.37-1.37c-.4-.4-.92-.59-1.43-.59-.52 0-1.04.2-1.43.59L10.3 9.45l-7.72 7.72c-.78.78-.78 2.05 0 2.83L4 21.41c.39.39.9.59 1.41.59.51 0 1.02-.2 1.41-.59l7.78-7.78 2.81-2.81c.8-.78.8-2.07 0-2.86zM5.41 20L4 18.59l7.72-7.72 1.47 1.35L5.41 20z\"/>\n",
              "  </svg>\n",
              "      </button>\n",
              "      \n",
              "  <style>\n",
              "    .colab-df-container {\n",
              "      display:flex;\n",
              "      flex-wrap:wrap;\n",
              "      gap: 12px;\n",
              "    }\n",
              "\n",
              "    .colab-df-convert {\n",
              "      background-color: #E8F0FE;\n",
              "      border: none;\n",
              "      border-radius: 50%;\n",
              "      cursor: pointer;\n",
              "      display: none;\n",
              "      fill: #1967D2;\n",
              "      height: 32px;\n",
              "      padding: 0 0 0 0;\n",
              "      width: 32px;\n",
              "    }\n",
              "\n",
              "    .colab-df-convert:hover {\n",
              "      background-color: #E2EBFA;\n",
              "      box-shadow: 0px 1px 2px rgba(60, 64, 67, 0.3), 0px 1px 3px 1px rgba(60, 64, 67, 0.15);\n",
              "      fill: #174EA6;\n",
              "    }\n",
              "\n",
              "    [theme=dark] .colab-df-convert {\n",
              "      background-color: #3B4455;\n",
              "      fill: #D2E3FC;\n",
              "    }\n",
              "\n",
              "    [theme=dark] .colab-df-convert:hover {\n",
              "      background-color: #434B5C;\n",
              "      box-shadow: 0px 1px 3px 1px rgba(0, 0, 0, 0.15);\n",
              "      filter: drop-shadow(0px 1px 2px rgba(0, 0, 0, 0.3));\n",
              "      fill: #FFFFFF;\n",
              "    }\n",
              "  </style>\n",
              "\n",
              "      <script>\n",
              "        const buttonEl =\n",
              "          document.querySelector('#df-11be55f5-1a33-467a-9a7b-35aab7f1d8ba button.colab-df-convert');\n",
              "        buttonEl.style.display =\n",
              "          google.colab.kernel.accessAllowed ? 'block' : 'none';\n",
              "\n",
              "        async function convertToInteractive(key) {\n",
              "          const element = document.querySelector('#df-11be55f5-1a33-467a-9a7b-35aab7f1d8ba');\n",
              "          const dataTable =\n",
              "            await google.colab.kernel.invokeFunction('convertToInteractive',\n",
              "                                                     [key], {});\n",
              "          if (!dataTable) return;\n",
              "\n",
              "          const docLinkHtml = 'Like what you see? Visit the ' +\n",
              "            '<a target=\"_blank\" href=https://colab.research.google.com/notebooks/data_table.ipynb>data table notebook</a>'\n",
              "            + ' to learn more about interactive tables.';\n",
              "          element.innerHTML = '';\n",
              "          dataTable['output_type'] = 'display_data';\n",
              "          await google.colab.output.renderOutput(dataTable, element);\n",
              "          const docLink = document.createElement('div');\n",
              "          docLink.innerHTML = docLinkHtml;\n",
              "          element.appendChild(docLink);\n",
              "        }\n",
              "      </script>\n",
              "    </div>\n",
              "  </div>\n",
              "  "
            ]
          },
          "metadata": {},
          "execution_count": 3
        }
      ]
    },
    {
      "cell_type": "code",
      "source": [
        "#dataframe.info()"
      ],
      "metadata": {
        "id": "PAB4iJ9uLjVh"
      },
      "execution_count": null,
      "outputs": []
    },
    {
      "cell_type": "code",
      "source": [
        "#dataframe['p_recall'] = dataframe['p_recall'].astype(int)\n",
        "dataframe['user_id'] = dataframe['user_id'].astype(str)\n",
        "dataframe['lexeme_id'] = dataframe['lexeme_id'].astype(str)"
      ],
      "metadata": {
        "id": "FKyjCYWuLtfb"
      },
      "execution_count": null,
      "outputs": []
    },
    {
      "cell_type": "code",
      "source": [
        "sample_data = dataframe[:1000]"
      ],
      "metadata": {
        "id": "ohZWHBLGMuA5"
      },
      "execution_count": null,
      "outputs": []
    },
    {
      "cell_type": "code",
      "source": [
        "item_response = pd.pivot_table(sample_data, values= \"p_recall\", index=\"user_id\", columns=\"lexeme_id\")\n"
      ],
      "metadata": {
        "id": "ubPRrpCtMJAI"
      },
      "execution_count": null,
      "outputs": []
    },
    {
      "cell_type": "code",
      "source": [
        "import numpy as np\n",
        "\n",
        "class IRTModel:\n",
        "    def __init__(self, n_items, n_factors=1, alpha=None, beta=None):\n",
        "        self.n_items = n_items\n",
        "        self.n_factors = n_factors\n",
        "        self.alpha = alpha if alpha is not None else np.random.normal(size=n_items)\n",
        "        self.beta = beta if beta is not None else np.random.normal(size=(n_factors, n_items))\n",
        "\n",
        "    def fit(self, X, n_iter=100, learning_rate=0.1):\n",
        "        old_loglik = float('-inf')\n",
        "        for i in range(n_iter):\n",
        "            loglik = self._log_likelihood(X)\n",
        "            if loglik is not None and loglik > old_loglik:\n",
        "                old_loglik = loglik\n",
        "            else:\n",
        "                break\n",
        "            gradients = self._compute_gradients(X)\n",
        "            self.alpha += learning_rate * gradients['alpha']\n",
        "            self.beta += learning_rate * gradients['beta']\n",
        "\n",
        "    def _log_likelihood(self, X):\n",
        "        pass\n",
        "\n",
        "    def _compute_gradients(self, X):\n",
        "        pass\n"
      ],
      "metadata": {
        "id": "owNTdb8wQVxP"
      },
      "execution_count": null,
      "outputs": []
    },
    {
      "cell_type": "code",
      "source": [
        "#initiating the model \n",
        "model = IRTModel(n_items=len(item_response.columns))"
      ],
      "metadata": {
        "id": "aCbS-sGgNJqM"
      },
      "execution_count": null,
      "outputs": []
    },
    {
      "cell_type": "code",
      "source": [
        "#fitting the model \n",
        "model.fit(item_response.values)\n",
        "\n",
        "# Print the estimated item difficulty parameters\n",
        "print(\"Estimated item difficulties:\", model.alpha)"
      ],
      "metadata": {
        "colab": {
          "base_uri": "https://localhost:8080/"
        },
        "id": "_SoeHs0PM83K",
        "outputId": "f888619d-1943-42ab-8dd7-3da2f4b3c870"
      },
      "execution_count": null,
      "outputs": [
        {
          "output_type": "stream",
          "name": "stdout",
          "text": [
            "Estimated item difficulties: [ 2.01339084e+00 -5.32966028e-01  6.58201137e-01  4.76803132e-01\n",
            "  7.20007649e-01  2.50363922e+00 -3.99375536e-01 -1.32523746e-01\n",
            " -1.17760808e-01 -2.66938703e-01 -1.47124715e+00  1.36840972e+00\n",
            " -2.58447687e-01  3.86588261e-01  1.15464411e+00  9.32401537e-01\n",
            "  3.38446681e-01 -6.65753194e-01 -1.54083078e+00 -1.05255334e+00\n",
            "  2.31978595e-01  1.01717892e+00 -3.61873768e-01 -1.05558402e-02\n",
            " -1.12874892e+00  6.37633755e-01  7.18696680e-01  7.61143761e-01\n",
            " -2.30882659e-01  9.17956991e-01 -2.72763928e-02 -1.04833981e+00\n",
            "  2.55453066e-02 -9.39445414e-01  4.04528153e-01 -5.07397748e-01\n",
            " -2.62760595e-02 -1.72701297e+00 -1.44900114e+00 -5.67031154e-01\n",
            "  7.09758326e-01 -2.66172447e-01 -4.44556946e-01 -4.72318333e-01\n",
            " -4.19011823e-01  7.97200461e-02  2.61390266e-01  8.52492115e-01\n",
            "  1.19165394e+00  1.43378564e-01  5.57790912e-01 -8.81802877e-02\n",
            "  1.74931337e+00  2.44625258e+00 -3.38930676e-02  1.30637672e+00\n",
            "  1.97942513e-01 -2.50176279e-01  3.16992284e-01 -4.47007291e-01\n",
            "  6.22977992e-01 -5.22625374e-01 -3.81027971e-01  7.91376955e-01\n",
            " -4.77376613e-02  4.92391368e-02 -6.62844393e-01 -1.18167557e+00\n",
            "  1.11523869e+00 -2.24465838e-01 -1.72878983e+00 -2.45775465e-02\n",
            "  1.28341567e+00  1.02165421e-01 -1.36499228e+00 -8.18250699e-01\n",
            " -1.87708357e-01  5.92177952e-02 -1.19400679e+00 -1.48496520e+00\n",
            " -2.08924855e+00 -2.31280046e+00 -1.83340329e-01  1.57386231e+00\n",
            " -1.29736449e+00 -8.79752869e-01  1.05684880e-01 -3.78693343e-02\n",
            " -6.69967061e-01 -1.16859745e-01  2.21390762e+00 -1.85810455e+00\n",
            "  4.92679461e-01  1.99630028e+00  1.12143709e+00  2.34096902e-01\n",
            "  1.04225066e+00  3.02110578e-01 -5.07045004e-01 -4.32568777e-01\n",
            " -9.52469638e-01  8.61953095e-01  6.08003589e-01 -4.17193410e-02\n",
            "  1.08722983e-01 -2.69618824e-01  1.31409040e+00  6.26360890e-02\n",
            " -2.67293659e-01 -2.77382334e-01  6.47717824e-02 -1.04585319e-01\n",
            "  4.95435363e-01 -1.65753344e+00 -9.56416135e-01 -2.76362689e-01\n",
            " -1.95023200e+00  1.30742700e-01 -1.27016324e-01 -3.58526783e-01\n",
            "  1.19078514e+00  4.79539292e-02  1.11764418e+00 -2.08132136e-01\n",
            "  6.51715907e-01  6.61318230e-01  7.84695777e-01 -1.80677214e+00\n",
            " -1.07611836e+00 -1.14066555e+00 -5.90370483e-01  1.58443471e+00\n",
            "  1.16457618e+00  1.34867838e+00 -2.72368522e+00  2.06046346e+00\n",
            " -1.82815892e+00  9.55333011e-01 -4.69096188e-01  2.14789320e+00\n",
            "  1.29545721e+00 -1.16108441e+00 -3.44636503e-02 -5.95540472e-01\n",
            " -5.17575405e-01  7.03064861e-01 -5.81361060e-01  2.56175222e+00\n",
            "  1.75263589e-01 -2.00673603e+00 -1.43891496e-01  2.70770697e-01\n",
            " -1.54602009e+00  8.64502308e-02 -4.72699776e-01 -4.04604061e-01\n",
            " -8.39433210e-02 -5.14829009e-01  1.96020645e-03  8.83339236e-01\n",
            " -1.15356867e+00  7.40916768e-01  1.11045367e-01  1.39761137e+00\n",
            "  1.79178984e+00 -2.57016801e+00 -1.27295383e+00  4.66746386e-01\n",
            " -1.20518900e+00  9.76458764e-01  7.05365761e-03 -1.11888235e-01\n",
            "  5.37688415e-02  2.83744544e-01 -5.10472903e-01 -9.26842882e-01\n",
            "  2.10000302e-01 -7.39936761e-01  1.82176623e-01 -1.50795559e+00\n",
            " -7.80563713e-01  4.61439664e-01  2.90947877e-01 -3.78244003e-01\n",
            "  3.32282944e-01  5.83840560e-01  2.88532584e+00  9.65355272e-01\n",
            " -9.92371769e-02 -8.69739295e-01  1.97474176e+00 -1.79212422e+00\n",
            " -1.27851306e+00 -1.45948806e+00 -7.25467179e-01 -1.15365630e+00\n",
            " -7.48629309e-01 -3.87809614e-01 -5.91766223e-01 -1.05404738e+00\n",
            " -1.14034709e+00  7.88105157e-01  1.89774224e+00  1.18868422e+00\n",
            " -2.30653849e-03 -1.05033584e-01  3.42566384e-02 -5.74107399e-01\n",
            "  6.80481347e-01 -1.23167505e+00 -9.80021529e-02 -6.59091618e-01\n",
            "  3.02887289e-01  8.10855672e-01  9.26934760e-01  2.11632088e-01\n",
            "  1.88531976e-01  7.63018402e-02  6.73513400e-01 -1.86523720e+00\n",
            " -4.11418192e-01  3.48657499e-01  1.78332585e-01 -5.97292516e-02\n",
            " -1.41118687e+00 -1.68970146e+00  1.39439589e+00  1.15405106e+00\n",
            "  1.72068672e+00 -2.94309945e-01  1.32177995e+00  6.81124590e-01\n",
            " -1.15999069e+00 -9.01700761e-01  1.15185260e+00  1.03977480e-01\n",
            "  4.81705767e-01  1.36787458e+00  6.52404315e-01  1.38252852e-01\n",
            "  1.07408554e+00  7.93422016e-01  4.42690371e-02 -2.60806338e+00\n",
            " -4.00402874e-01  1.68260131e-01 -1.72958991e-01  9.35436329e-01\n",
            "  9.90600263e-01 -7.06400039e-01  7.80729021e-03 -1.04112762e+00\n",
            " -1.23094722e-01  9.21979413e-01  3.29040269e-01 -1.87491008e-01\n",
            " -2.75214626e-01 -6.51989820e-01 -5.93620728e-01 -1.79030673e+00\n",
            " -1.22571847e+00  2.62666079e-01  7.35746269e-01 -1.21912166e+00\n",
            " -5.27984800e-01  1.05547170e+00  1.17813804e+00 -1.73774275e-01\n",
            " -1.44076377e+00 -2.86392368e-01 -1.42052206e+00  3.47776716e-01\n",
            "  1.10620920e+00 -3.62833493e-01 -9.11461707e-02  8.67163855e-01\n",
            " -2.48988934e-01 -1.18521282e+00  4.32043176e-01  2.20683244e-02\n",
            " -9.67102944e-01 -5.17769180e-01 -3.40111058e-01 -2.00190404e-01\n",
            " -7.85700616e-01 -1.15938602e-01  4.82949817e-01 -7.11500505e-01\n",
            " -1.62181005e-01 -8.01425448e-01 -3.42023796e-01  7.09984989e-02\n",
            " -1.32860067e+00  1.38519025e+00  1.66168700e+00  6.27187937e-01\n",
            "  2.67628864e-01  1.86145967e-01 -1.03406029e+00  6.18328154e-01\n",
            " -1.54077357e+00 -1.80799672e-01  2.33194549e-01 -7.35268833e-01\n",
            "  2.69026508e+00  6.92855267e-01 -1.33202403e+00  8.18747627e-01\n",
            " -1.96951715e+00  1.22306894e+00 -6.99579133e-01 -1.93027653e-01\n",
            " -1.65707905e+00  3.01204489e-01  2.25090292e-01  1.96465854e-01\n",
            " -3.07980026e-01 -7.32660907e-01 -7.63988440e-01 -1.17622210e+00\n",
            "  6.50487980e-01  3.29555588e-02 -8.39787507e-01 -1.30256153e-01\n",
            "  1.34092086e+00 -2.58407152e-01 -4.23518660e-01  1.72787186e+00\n",
            "  5.69100626e-01  1.79930146e-01  8.56951034e-01 -5.68342820e-01\n",
            " -6.28561739e-01 -1.35831342e+00 -1.35383532e+00 -1.39813391e+00\n",
            " -1.10777018e+00  8.91206176e-01  1.14197351e+00  7.98188188e-02\n",
            " -7.43044673e-01  1.87035184e+00 -3.45576562e-01  9.85668097e-01\n",
            " -2.14255134e-01 -1.22366805e+00 -1.80646072e-01  2.13153667e-01\n",
            " -9.75479090e-01  5.60592486e-01 -1.11076423e+00 -6.64325611e-01\n",
            " -1.04751176e-02 -6.47100124e-01 -4.81873187e-01 -1.07091479e+00\n",
            " -3.46518221e-01  2.71605472e-01 -8.68952132e-01  2.32626252e-01\n",
            "  1.13140523e-01 -2.33553524e-02 -2.24587969e-01  7.20944667e-01\n",
            "  1.11604166e+00  3.08415748e-01  1.19314621e+00 -1.20043562e+00\n",
            " -2.55944137e-01  9.44014190e-01  5.93785421e-02  1.46357936e+00\n",
            "  5.40264994e-01 -8.43712406e-01  9.34972284e-01 -3.87924663e-01\n",
            "  9.48227529e-01 -1.41341413e-01  9.02268772e-02 -6.14598069e-01\n",
            "  8.77971996e-01 -3.68234126e-01 -2.98967835e-01 -1.48754900e-01\n",
            " -1.93587633e+00  2.80656775e-01 -7.21702727e-01  6.10760158e-01\n",
            "  7.06907555e-01  7.49319815e-01  1.25674163e-01 -2.80660394e-01\n",
            " -6.30410073e-01  7.63641816e-01  8.84636172e-01  5.00265952e-01\n",
            " -2.35907373e+00 -3.01372024e-01 -1.06813019e+00  1.17323029e+00\n",
            " -1.04413782e+00  7.39502066e-01  4.85098741e-01  2.36383921e-01\n",
            "  1.14073200e+00  1.00246875e-02  1.79281548e-01  7.44133831e-01\n",
            " -5.35792204e-01 -3.94092041e-01  5.13629162e-01  1.32589156e+00\n",
            "  6.45244729e-01  1.17478150e+00 -5.53366551e-01 -1.77629806e+00\n",
            "  2.64275981e-01 -8.01017148e-01  4.42234279e-01  1.53492010e+00\n",
            "  5.67349614e-01 -1.18997375e+00  8.92793577e-02 -6.29514308e-01\n",
            "  8.48005224e-01  3.91880714e-01  1.96071304e-01 -9.21493732e-01\n",
            "  1.47871313e+00 -1.51801926e-01 -8.12966827e-01 -9.82069792e-02\n",
            "  8.06485620e-01 -7.83103181e-01  5.14416748e-03 -5.04803207e-01\n",
            " -6.20174251e-01 -2.49614807e+00 -3.20492768e-02 -4.23365616e-03\n",
            " -1.46445614e-02  1.77881243e+00  5.50094036e-01 -2.30013202e-01\n",
            " -6.87785966e-01 -1.27233413e+00  1.36549757e-01 -1.35569051e+00\n",
            " -2.85937544e+00  3.72344161e-01  1.19839166e+00 -6.32916316e-01\n",
            "  1.81240957e+00 -7.63112859e-01 -3.21798477e-01 -6.89621059e-01\n",
            " -7.25724167e-01 -5.30135179e-01  4.43476691e-01  5.39593096e-01\n",
            " -1.12894350e+00  1.74077554e+00  1.67666111e+00  1.43364590e+00\n",
            " -4.76699616e-01  2.61993237e-01 -1.85502952e-01  3.82238497e-01\n",
            "  7.65438000e-01 -1.59133883e-01  4.87110423e-01  1.73577063e+00\n",
            "  1.25370724e+00 -9.98961366e-01 -9.93869888e-01  6.14342600e-01\n",
            " -8.43509028e-01 -3.06306560e-01 -1.15631919e+00  6.95674816e-01\n",
            " -7.93581439e-01  3.74808984e-01 -7.45701325e-01  5.00309521e-01\n",
            "  5.13153175e-01  1.38159483e+00 -3.28614355e-01  7.26570617e-01\n",
            "  3.67325532e-01 -1.47633351e+00 -3.59796948e-01 -2.73348970e-01\n",
            " -1.89840607e-01 -9.39583122e-01  7.17925981e-01  4.68376085e-01\n",
            "  2.93461182e-01  2.08997142e+00 -2.95053444e-01 -6.66109344e-01\n",
            "  2.46708284e-01 -2.36142712e-01 -8.51012195e-01  2.19889863e-01\n",
            "  8.57039035e-01 -5.83727937e-01  1.35239385e-02 -5.42825122e-01\n",
            "  1.48656067e+00 -2.27797634e-01  5.45991617e-01 -1.08077493e+00\n",
            "  4.76331318e-01 -2.95764139e-01 -8.30965884e-01  5.80999186e-01\n",
            " -1.97379064e+00  1.46181724e+00 -5.58682308e-01 -1.79493590e-01\n",
            "  8.34865719e-01  9.17307282e-01  1.02222597e+00  9.73160223e-01\n",
            "  9.98381372e-01 -8.68428718e-01  6.33009690e-01 -4.08613587e-01\n",
            " -1.85294290e-01 -1.74702500e-01  1.26220030e+00  6.65001119e-01\n",
            "  1.16191085e+00 -4.81541345e-01  9.44366159e-01  7.19716513e-01\n",
            " -1.51751759e+00  1.06191949e+00  3.65334603e-01  2.40550247e+00\n",
            "  1.32000770e+00 -1.94180117e+00 -5.57672608e-02  5.08651762e-01\n",
            "  1.98807540e+00  1.95235659e+00  9.24236474e-01 -7.15476147e-01\n",
            "  5.89684684e-01  1.05039571e-01  8.56592704e-01 -1.76925051e+00\n",
            " -4.20001656e-01  8.20802346e-01  8.59094155e-01 -4.08818042e-01\n",
            " -1.36539881e+00 -7.30864444e-01  1.09917584e+00  1.08776112e+00\n",
            "  3.19762856e-01 -7.30877365e-01 -3.76122438e-01  3.99320079e-01\n",
            "  7.36230006e-01 -7.59017802e-01 -1.47002712e+00  9.77453796e-01\n",
            "  1.92669888e+00 -9.13773299e-01  3.33175774e-01  2.27998779e-02\n",
            "  1.23480422e+00 -8.35284351e-01  8.91738564e-01 -1.37433946e-01\n",
            " -5.82558853e-01  5.94936028e-01  1.21599646e+00 -9.96434178e-01\n",
            "  3.93211202e-01 -3.34353355e-01  1.20532261e+00  9.96717309e-01\n",
            "  3.46717017e-01  1.21381930e-01  8.71223211e-01 -7.03391368e-02\n",
            " -5.25001587e-01  2.34805940e+00 -4.61369740e-02 -1.74453378e+00\n",
            "  4.52486937e-01  7.28996263e-01  6.75605437e-01  3.10238860e-01\n",
            " -7.69821061e-01 -2.46835494e-01 -3.45593910e-02 -1.07646883e+00\n",
            " -1.10493115e+00 -3.90005632e-01  1.56802039e+00 -1.09695012e+00\n",
            "  4.85494575e-01 -6.07281379e-01  1.09236688e+00 -5.21300807e-01\n",
            " -6.66686606e-01  9.59778217e-01]\n"
          ]
        }
      ]
    },
    {
      "cell_type": "code",
      "source": [
        "import pyirt"
      ],
      "metadata": {
        "id": "Oiy5ZgBqm1lf"
      },
      "execution_count": null,
      "outputs": []
    },
    {
      "cell_type": "code",
      "source": [
        "from pyirt import irt"
      ],
      "metadata": {
        "id": "Tkc4xIErnByh"
      },
      "execution_count": null,
      "outputs": []
    },
    {
      "cell_type": "code",
      "source": [
        "import numpy as np\n",
        "from scipy.optimize import minimize\n",
        "\n",
        "class IRTModel:\n",
        "    def __init__(self, num_items, num_subjects):\n",
        "        self.num_items = num_items\n",
        "        self.num_subjects = num_subjects\n",
        "        self.item_params = None\n",
        "\n",
        "    def fit(self, X, y):\n",
        "        # X: a matrix of shape (num_subjects, num_items)\n",
        "        # y: a matrix of shape (num_subjects, num_items) representing the response data (0 or 1)\n",
        "\n",
        "        def neg_log_likelihood(params):\n",
        "            discrimination = params[:self.num_items]\n",
        "            difficulty = params[self.num_items:]\n",
        "\n",
        "            p = 1 / (1 + np.exp(-discrimination * (X - difficulty)))\n",
        "            return -np.sum(y * np.log(p) + (1 - y) * np.log(1 - p))\n",
        "\n",
        "        init_params = np.zeros(self.num_items + self.num_subjects)\n",
        "        results = minimize(neg_log_likelihood, init_params, method='L-BFGS-B')\n",
        "        self.item_params = results.x\n",
        "\n",
        "    def predict(self, X):\n",
        "        discrimination = self.item_params[:self.num_items]\n",
        "        difficulty = self.item_params[self.num_items:]\n",
        "        p = 1 / (1 + np.exp(-discrimination * (X - difficulty)))\n",
        "        return p\n"
      ],
      "metadata": {
        "id": "mS_0LaWunn4M"
      },
      "execution_count": null,
      "outputs": []
    },
    {
      "cell_type": "code",
      "source": [
        "data = dataframe\n",
        "data['p_recall'] = data['p_recall'].astype(int)"
      ],
      "metadata": {
        "id": "y7OZkd0swQ55"
      },
      "execution_count": null,
      "outputs": []
    },
    {
      "cell_type": "code",
      "source": [
        "# Load data\n",
        "data = data.loc[:, [\"user_id\", \"lexeme_id\", \"p_recall\"]]\n",
        "# Convert data to 0/1 format\n",
        "data[\"p_recall\"] = np.where(data[\"p_recall\"] == 1, 1, 0)\n",
        "data"
      ],
      "metadata": {
        "colab": {
          "base_uri": "https://localhost:8080/",
          "height": 423
        },
        "id": "jYEztvtkxG0L",
        "outputId": "44a1d3ed-f742-408f-9a6e-1348ccea85f9"
      },
      "execution_count": null,
      "outputs": [
        {
          "output_type": "execute_result",
          "data": {
            "text/plain": [
              "         user_id                         lexeme_id  p_recall\n",
              "0           u:FO  76390c1350a8dac31186187e2fe1e178         1\n",
              "1           u:FO  7dfd7086f3671685e2cf1c1da72796d7         0\n",
              "2           u:FO  35a54c25a2cda8127343f6a82e6f6b7d         1\n",
              "3           u:FO  0cf63ffe3dda158bc3dbd55682b355ae         0\n",
              "4           u:FO  84920990d78044db53c1b012f5bf9ab5         1\n",
              "...          ...                               ...       ...\n",
              "12854221  u:i5D8  d5efc552aaea3109eb5388aa1ec8673d         0\n",
              "12854222  u:i5D8  a826c47947d68549fa81e19cafa57ba0         0\n",
              "12854223  u:i5D8  5e29d77697d23070a1fb92eb6c90e9b6         1\n",
              "12854224  u:i5D8  cdfecc9247566d40bb964a218c54c783         0\n",
              "12854225  u:i5D8  c52ab45d4e22ee7580041911159e3c0c         0\n",
              "\n",
              "[12854226 rows x 3 columns]"
            ],
            "text/html": [
              "\n",
              "  <div id=\"df-3d2b3560-45ac-4f70-9037-bd0269ed6a5c\">\n",
              "    <div class=\"colab-df-container\">\n",
              "      <div>\n",
              "<style scoped>\n",
              "    .dataframe tbody tr th:only-of-type {\n",
              "        vertical-align: middle;\n",
              "    }\n",
              "\n",
              "    .dataframe tbody tr th {\n",
              "        vertical-align: top;\n",
              "    }\n",
              "\n",
              "    .dataframe thead th {\n",
              "        text-align: right;\n",
              "    }\n",
              "</style>\n",
              "<table border=\"1\" class=\"dataframe\">\n",
              "  <thead>\n",
              "    <tr style=\"text-align: right;\">\n",
              "      <th></th>\n",
              "      <th>user_id</th>\n",
              "      <th>lexeme_id</th>\n",
              "      <th>p_recall</th>\n",
              "    </tr>\n",
              "  </thead>\n",
              "  <tbody>\n",
              "    <tr>\n",
              "      <th>0</th>\n",
              "      <td>u:FO</td>\n",
              "      <td>76390c1350a8dac31186187e2fe1e178</td>\n",
              "      <td>1</td>\n",
              "    </tr>\n",
              "    <tr>\n",
              "      <th>1</th>\n",
              "      <td>u:FO</td>\n",
              "      <td>7dfd7086f3671685e2cf1c1da72796d7</td>\n",
              "      <td>0</td>\n",
              "    </tr>\n",
              "    <tr>\n",
              "      <th>2</th>\n",
              "      <td>u:FO</td>\n",
              "      <td>35a54c25a2cda8127343f6a82e6f6b7d</td>\n",
              "      <td>1</td>\n",
              "    </tr>\n",
              "    <tr>\n",
              "      <th>3</th>\n",
              "      <td>u:FO</td>\n",
              "      <td>0cf63ffe3dda158bc3dbd55682b355ae</td>\n",
              "      <td>0</td>\n",
              "    </tr>\n",
              "    <tr>\n",
              "      <th>4</th>\n",
              "      <td>u:FO</td>\n",
              "      <td>84920990d78044db53c1b012f5bf9ab5</td>\n",
              "      <td>1</td>\n",
              "    </tr>\n",
              "    <tr>\n",
              "      <th>...</th>\n",
              "      <td>...</td>\n",
              "      <td>...</td>\n",
              "      <td>...</td>\n",
              "    </tr>\n",
              "    <tr>\n",
              "      <th>12854221</th>\n",
              "      <td>u:i5D8</td>\n",
              "      <td>d5efc552aaea3109eb5388aa1ec8673d</td>\n",
              "      <td>0</td>\n",
              "    </tr>\n",
              "    <tr>\n",
              "      <th>12854222</th>\n",
              "      <td>u:i5D8</td>\n",
              "      <td>a826c47947d68549fa81e19cafa57ba0</td>\n",
              "      <td>0</td>\n",
              "    </tr>\n",
              "    <tr>\n",
              "      <th>12854223</th>\n",
              "      <td>u:i5D8</td>\n",
              "      <td>5e29d77697d23070a1fb92eb6c90e9b6</td>\n",
              "      <td>1</td>\n",
              "    </tr>\n",
              "    <tr>\n",
              "      <th>12854224</th>\n",
              "      <td>u:i5D8</td>\n",
              "      <td>cdfecc9247566d40bb964a218c54c783</td>\n",
              "      <td>0</td>\n",
              "    </tr>\n",
              "    <tr>\n",
              "      <th>12854225</th>\n",
              "      <td>u:i5D8</td>\n",
              "      <td>c52ab45d4e22ee7580041911159e3c0c</td>\n",
              "      <td>0</td>\n",
              "    </tr>\n",
              "  </tbody>\n",
              "</table>\n",
              "<p>12854226 rows × 3 columns</p>\n",
              "</div>\n",
              "      <button class=\"colab-df-convert\" onclick=\"convertToInteractive('df-3d2b3560-45ac-4f70-9037-bd0269ed6a5c')\"\n",
              "              title=\"Convert this dataframe to an interactive table.\"\n",
              "              style=\"display:none;\">\n",
              "        \n",
              "  <svg xmlns=\"http://www.w3.org/2000/svg\" height=\"24px\"viewBox=\"0 0 24 24\"\n",
              "       width=\"24px\">\n",
              "    <path d=\"M0 0h24v24H0V0z\" fill=\"none\"/>\n",
              "    <path d=\"M18.56 5.44l.94 2.06.94-2.06 2.06-.94-2.06-.94-.94-2.06-.94 2.06-2.06.94zm-11 1L8.5 8.5l.94-2.06 2.06-.94-2.06-.94L8.5 2.5l-.94 2.06-2.06.94zm10 10l.94 2.06.94-2.06 2.06-.94-2.06-.94-.94-2.06-.94 2.06-2.06.94z\"/><path d=\"M17.41 7.96l-1.37-1.37c-.4-.4-.92-.59-1.43-.59-.52 0-1.04.2-1.43.59L10.3 9.45l-7.72 7.72c-.78.78-.78 2.05 0 2.83L4 21.41c.39.39.9.59 1.41.59.51 0 1.02-.2 1.41-.59l7.78-7.78 2.81-2.81c.8-.78.8-2.07 0-2.86zM5.41 20L4 18.59l7.72-7.72 1.47 1.35L5.41 20z\"/>\n",
              "  </svg>\n",
              "      </button>\n",
              "      \n",
              "  <style>\n",
              "    .colab-df-container {\n",
              "      display:flex;\n",
              "      flex-wrap:wrap;\n",
              "      gap: 12px;\n",
              "    }\n",
              "\n",
              "    .colab-df-convert {\n",
              "      background-color: #E8F0FE;\n",
              "      border: none;\n",
              "      border-radius: 50%;\n",
              "      cursor: pointer;\n",
              "      display: none;\n",
              "      fill: #1967D2;\n",
              "      height: 32px;\n",
              "      padding: 0 0 0 0;\n",
              "      width: 32px;\n",
              "    }\n",
              "\n",
              "    .colab-df-convert:hover {\n",
              "      background-color: #E2EBFA;\n",
              "      box-shadow: 0px 1px 2px rgba(60, 64, 67, 0.3), 0px 1px 3px 1px rgba(60, 64, 67, 0.15);\n",
              "      fill: #174EA6;\n",
              "    }\n",
              "\n",
              "    [theme=dark] .colab-df-convert {\n",
              "      background-color: #3B4455;\n",
              "      fill: #D2E3FC;\n",
              "    }\n",
              "\n",
              "    [theme=dark] .colab-df-convert:hover {\n",
              "      background-color: #434B5C;\n",
              "      box-shadow: 0px 1px 3px 1px rgba(0, 0, 0, 0.15);\n",
              "      filter: drop-shadow(0px 1px 2px rgba(0, 0, 0, 0.3));\n",
              "      fill: #FFFFFF;\n",
              "    }\n",
              "  </style>\n",
              "\n",
              "      <script>\n",
              "        const buttonEl =\n",
              "          document.querySelector('#df-3d2b3560-45ac-4f70-9037-bd0269ed6a5c button.colab-df-convert');\n",
              "        buttonEl.style.display =\n",
              "          google.colab.kernel.accessAllowed ? 'block' : 'none';\n",
              "\n",
              "        async function convertToInteractive(key) {\n",
              "          const element = document.querySelector('#df-3d2b3560-45ac-4f70-9037-bd0269ed6a5c');\n",
              "          const dataTable =\n",
              "            await google.colab.kernel.invokeFunction('convertToInteractive',\n",
              "                                                     [key], {});\n",
              "          if (!dataTable) return;\n",
              "\n",
              "          const docLinkHtml = 'Like what you see? Visit the ' +\n",
              "            '<a target=\"_blank\" href=https://colab.research.google.com/notebooks/data_table.ipynb>data table notebook</a>'\n",
              "            + ' to learn more about interactive tables.';\n",
              "          element.innerHTML = '';\n",
              "          dataTable['output_type'] = 'display_data';\n",
              "          await google.colab.output.renderOutput(dataTable, element);\n",
              "          const docLink = document.createElement('div');\n",
              "          docLink.innerHTML = docLinkHtml;\n",
              "          element.appendChild(docLink);\n",
              "        }\n",
              "      </script>\n",
              "    </div>\n",
              "  </div>\n",
              "  "
            ]
          },
          "metadata": {},
          "execution_count": 38
        }
      ]
    },
    {
      "cell_type": "code",
      "source": [
        "import pandas as pd\n",
        "import numpy as np\n",
        "from scipy.optimize import minimize\n",
        "\n",
        "# Load data\n",
        "data = data.loc[:, [\"user_id\", \"lexeme_id\", \"p_recall\"]]\n",
        "\n",
        "# Convert data to 0/1 format\n",
        "data[\"p_recall\"] = np.where(data[\"p_recall\"] == 1, 1, 0)\n",
        "\n",
        "# Define log-likelihood function for 2PL model\n",
        "def log_likelihood_2pl(theta, a, b, k, r):\n",
        "    \"\"\"\n",
        "    Compute the log-likelihood function for the 2PL model.\n",
        "\n",
        "    Parameters:\n",
        "    -----------\n",
        "    theta : array-like\n",
        "        Vector of ability parameters.\n",
        "    a : array-like\n",
        "        Vector of discrimination parameters.\n",
        "    b : array-like\n",
        "        Vector of difficulty parameters.\n",
        "    k : array-like\n",
        "        Vector of guessing parameters.\n",
        "    r : array-like\n",
        "        Vector of slipping parameters.\n",
        "\n",
        "    Returns:\n",
        "    --------\n",
        "    log_likelihood : float\n",
        "        Log-likelihood of the data given the model parameters.\n",
        "    \"\"\"\n",
        "    p = 1 / (1 + np.exp(-a*(theta-b)))\n",
        "    log_likelihood = np.sum(r*np.log(p) + (1-r)*np.log(1-p) + k*(1-p)*np.log(p) + (1-k)*p*np.log(1-p))\n",
        "    return log_likelihood\n",
        "\n",
        "# Define function to optimize log-likelihood\n",
        "def optimize_log_likelihood(theta, a, b, k, r, args):\n",
        "    \"\"\"\n",
        "    Function to optimize the log-likelihood function.\n",
        "\n",
        "    Parameters:\n",
        "    -----------\n",
        "    theta : array-like\n",
        "        Vector of ability parameters.\n",
        "    a : array-like\n",
        "        Vector of discrimination parameters.\n",
        "    b : array-like\n",
        "        Vector of difficulty parameters.\n",
        "    k : array-like\n",
        "        Vector of guessing parameters.\n",
        "    r : array-like\n",
        "        Vector of slipping parameters.\n",
        "    args : tuple\n",
        "        Tuple containing the data.\n",
        "\n",
        "    Returns:\n",
        "    --------\n",
        "    neg_log_likelihood : float\n",
        "        Negative log-likelihood of the data given the model parameters.\n",
        "    \"\"\"\n",
        "    data = args[0]\n",
        "    theta = np.array(theta)\n",
        "    a = np.array(a)\n",
        "    b = np.array(b)\n",
        "    k = np.array(k)\n",
        "    r = np.array(r)\n",
        "    neg_log_likelihood = -log_likelihood_2pl(theta, a, b, k, r)\n",
        "    return neg_log_likelihood\n",
        "\n",
        "# Initialize model parameters\n",
        "n_items = data[\"lexeme_id\"].nunique()\n",
        "n_users = data[\"user_id\"].nunique()\n",
        "theta = np.zeros(n_users)\n",
        "a = np.ones(n_items)\n",
        "b = np.zeros(n_items)\n",
        "k = np.zeros(n_items)\n",
        "r = np.zeros(n_items)\n",
        "\n",
        "# Optimize log-likelihood\n",
        "bounds = [(None, None)]*n_users + [(0, None)]*n_items + [(-5, 5)]*n_items + [(0, 1)]*n_items + [(0, 1)]*n_items\n",
        "result = minimize(optimize_log_likelihood, x0=list(theta) + list(a) + list(b) + list(k) + list(r),\n",
        "                  args=(a, b, k, r, (data,)), method='L-BFGS-B', bounds=bounds)\n",
        "optimized_params = result.x\n",
        "\n",
        "# Extract ability parameters\n",
        "theta_hat = optimized_params[:n_users]\n",
        "\n",
        "# Extract discrimination, difficulty, guessing, and slipping parameters\n",
        "a_hat = optimized_params[n_users:n_users+n_items]\n",
        "b_hat\n"
      ],
      "metadata": {
        "colab": {
          "base_uri": "https://localhost:8080/",
          "height": 447
        },
        "id": "GUMyW4WTu2Ch",
        "outputId": "f2401124-d7bc-4984-a44f-5832466e90a2"
      },
      "execution_count": null,
      "outputs": [
        {
          "output_type": "error",
          "ename": "ValueError",
          "evalue": "ignored",
          "traceback": [
            "\u001b[0;31m---------------------------------------------------------------------------\u001b[0m",
            "\u001b[0;31mValueError\u001b[0m                                Traceback (most recent call last)",
            "\u001b[0;32m<ipython-input-92-044a96198f66>\u001b[0m in \u001b[0;36m<module>\u001b[0;34m\u001b[0m\n\u001b[1;32m     81\u001b[0m \u001b[0;31m# Optimize log-likelihood\u001b[0m\u001b[0;34m\u001b[0m\u001b[0;34m\u001b[0m\u001b[0;34m\u001b[0m\u001b[0m\n\u001b[1;32m     82\u001b[0m \u001b[0mbounds\u001b[0m \u001b[0;34m=\u001b[0m \u001b[0;34m[\u001b[0m\u001b[0;34m(\u001b[0m\u001b[0;32mNone\u001b[0m\u001b[0;34m,\u001b[0m \u001b[0;32mNone\u001b[0m\u001b[0;34m)\u001b[0m\u001b[0;34m]\u001b[0m\u001b[0;34m*\u001b[0m\u001b[0mn_users\u001b[0m \u001b[0;34m+\u001b[0m \u001b[0;34m[\u001b[0m\u001b[0;34m(\u001b[0m\u001b[0;36m0\u001b[0m\u001b[0;34m,\u001b[0m \u001b[0;32mNone\u001b[0m\u001b[0;34m)\u001b[0m\u001b[0;34m]\u001b[0m\u001b[0;34m*\u001b[0m\u001b[0mn_items\u001b[0m \u001b[0;34m+\u001b[0m \u001b[0;34m[\u001b[0m\u001b[0;34m(\u001b[0m\u001b[0;34m-\u001b[0m\u001b[0;36m5\u001b[0m\u001b[0;34m,\u001b[0m \u001b[0;36m5\u001b[0m\u001b[0;34m)\u001b[0m\u001b[0;34m]\u001b[0m\u001b[0;34m*\u001b[0m\u001b[0mn_items\u001b[0m \u001b[0;34m+\u001b[0m \u001b[0;34m[\u001b[0m\u001b[0;34m(\u001b[0m\u001b[0;36m0\u001b[0m\u001b[0;34m,\u001b[0m \u001b[0;36m1\u001b[0m\u001b[0;34m)\u001b[0m\u001b[0;34m]\u001b[0m\u001b[0;34m*\u001b[0m\u001b[0mn_items\u001b[0m \u001b[0;34m+\u001b[0m \u001b[0;34m[\u001b[0m\u001b[0;34m(\u001b[0m\u001b[0;36m0\u001b[0m\u001b[0;34m,\u001b[0m \u001b[0;36m1\u001b[0m\u001b[0;34m)\u001b[0m\u001b[0;34m]\u001b[0m\u001b[0;34m*\u001b[0m\u001b[0mn_items\u001b[0m\u001b[0;34m\u001b[0m\u001b[0;34m\u001b[0m\u001b[0m\n\u001b[0;32m---> 83\u001b[0;31m result = minimize(optimize_log_likelihood, x0=list(theta) + list(a) + list(b) + list(k) + list(r),\n\u001b[0m\u001b[1;32m     84\u001b[0m                   args=(a, b, k, r, (data,)), method='L-BFGS-B', bounds=bounds)\n\u001b[1;32m     85\u001b[0m \u001b[0moptimized_params\u001b[0m \u001b[0;34m=\u001b[0m \u001b[0mresult\u001b[0m\u001b[0;34m.\u001b[0m\u001b[0mx\u001b[0m\u001b[0;34m\u001b[0m\u001b[0;34m\u001b[0m\u001b[0m\n",
            "\u001b[0;32m/usr/local/lib/python3.8/dist-packages/scipy/optimize/_minimize.py\u001b[0m in \u001b[0;36mminimize\u001b[0;34m(fun, x0, args, method, jac, hess, hessp, bounds, constraints, tol, callback, options)\u001b[0m\n\u001b[1;32m    621\u001b[0m                                   **options)\n\u001b[1;32m    622\u001b[0m     \u001b[0;32melif\u001b[0m \u001b[0mmeth\u001b[0m \u001b[0;34m==\u001b[0m \u001b[0;34m'l-bfgs-b'\u001b[0m\u001b[0;34m:\u001b[0m\u001b[0;34m\u001b[0m\u001b[0;34m\u001b[0m\u001b[0m\n\u001b[0;32m--> 623\u001b[0;31m         return _minimize_lbfgsb(fun, x0, args, jac, bounds,\n\u001b[0m\u001b[1;32m    624\u001b[0m                                 callback=callback, **options)\n\u001b[1;32m    625\u001b[0m     \u001b[0;32melif\u001b[0m \u001b[0mmeth\u001b[0m \u001b[0;34m==\u001b[0m \u001b[0;34m'tnc'\u001b[0m\u001b[0;34m:\u001b[0m\u001b[0;34m\u001b[0m\u001b[0;34m\u001b[0m\u001b[0m\n",
            "\u001b[0;32m/usr/local/lib/python3.8/dist-packages/scipy/optimize/lbfgsb.py\u001b[0m in \u001b[0;36m_minimize_lbfgsb\u001b[0;34m(fun, x0, args, jac, bounds, disp, maxcor, ftol, gtol, eps, maxfun, maxiter, iprint, callback, maxls, finite_diff_rel_step, **unknown_options)\u001b[0m\n\u001b[1;32m    304\u001b[0m             \u001b[0miprint\u001b[0m \u001b[0;34m=\u001b[0m \u001b[0mdisp\u001b[0m\u001b[0;34m\u001b[0m\u001b[0;34m\u001b[0m\u001b[0m\n\u001b[1;32m    305\u001b[0m \u001b[0;34m\u001b[0m\u001b[0m\n\u001b[0;32m--> 306\u001b[0;31m     sf = _prepare_scalar_function(fun, x0, jac=jac, args=args, epsilon=eps,\n\u001b[0m\u001b[1;32m    307\u001b[0m                                   \u001b[0mbounds\u001b[0m\u001b[0;34m=\u001b[0m\u001b[0mnew_bounds\u001b[0m\u001b[0;34m,\u001b[0m\u001b[0;34m\u001b[0m\u001b[0;34m\u001b[0m\u001b[0m\n\u001b[1;32m    308\u001b[0m                                   finite_diff_rel_step=finite_diff_rel_step)\n",
            "\u001b[0;32m/usr/local/lib/python3.8/dist-packages/scipy/optimize/optimize.py\u001b[0m in \u001b[0;36m_prepare_scalar_function\u001b[0;34m(fun, x0, jac, args, bounds, epsilon, finite_diff_rel_step, hess)\u001b[0m\n\u001b[1;32m    259\u001b[0m     \u001b[0;31m# ScalarFunction caches. Reuse of fun(x) during grad\u001b[0m\u001b[0;34m\u001b[0m\u001b[0;34m\u001b[0m\u001b[0;34m\u001b[0m\u001b[0m\n\u001b[1;32m    260\u001b[0m     \u001b[0;31m# calculation reduces overall function evaluations.\u001b[0m\u001b[0;34m\u001b[0m\u001b[0;34m\u001b[0m\u001b[0;34m\u001b[0m\u001b[0m\n\u001b[0;32m--> 261\u001b[0;31m     sf = ScalarFunction(fun, x0, args, grad, hess,\n\u001b[0m\u001b[1;32m    262\u001b[0m                         finite_diff_rel_step, bounds, epsilon=epsilon)\n\u001b[1;32m    263\u001b[0m \u001b[0;34m\u001b[0m\u001b[0m\n",
            "\u001b[0;32m/usr/local/lib/python3.8/dist-packages/scipy/optimize/_differentiable_functions.py\u001b[0m in \u001b[0;36m__init__\u001b[0;34m(self, fun, x0, args, grad, hess, finite_diff_rel_step, finite_diff_bounds, epsilon)\u001b[0m\n\u001b[1;32m    138\u001b[0m \u001b[0;34m\u001b[0m\u001b[0m\n\u001b[1;32m    139\u001b[0m         \u001b[0mself\u001b[0m\u001b[0;34m.\u001b[0m\u001b[0m_update_fun_impl\u001b[0m \u001b[0;34m=\u001b[0m \u001b[0mupdate_fun\u001b[0m\u001b[0;34m\u001b[0m\u001b[0;34m\u001b[0m\u001b[0m\n\u001b[0;32m--> 140\u001b[0;31m         \u001b[0mself\u001b[0m\u001b[0;34m.\u001b[0m\u001b[0m_update_fun\u001b[0m\u001b[0;34m(\u001b[0m\u001b[0;34m)\u001b[0m\u001b[0;34m\u001b[0m\u001b[0;34m\u001b[0m\u001b[0m\n\u001b[0m\u001b[1;32m    141\u001b[0m \u001b[0;34m\u001b[0m\u001b[0m\n\u001b[1;32m    142\u001b[0m         \u001b[0;31m# Gradient evaluation\u001b[0m\u001b[0;34m\u001b[0m\u001b[0;34m\u001b[0m\u001b[0;34m\u001b[0m\u001b[0m\n",
            "\u001b[0;32m/usr/local/lib/python3.8/dist-packages/scipy/optimize/_differentiable_functions.py\u001b[0m in \u001b[0;36m_update_fun\u001b[0;34m(self)\u001b[0m\n\u001b[1;32m    231\u001b[0m     \u001b[0;32mdef\u001b[0m \u001b[0m_update_fun\u001b[0m\u001b[0;34m(\u001b[0m\u001b[0mself\u001b[0m\u001b[0;34m)\u001b[0m\u001b[0;34m:\u001b[0m\u001b[0;34m\u001b[0m\u001b[0;34m\u001b[0m\u001b[0m\n\u001b[1;32m    232\u001b[0m         \u001b[0;32mif\u001b[0m \u001b[0;32mnot\u001b[0m \u001b[0mself\u001b[0m\u001b[0;34m.\u001b[0m\u001b[0mf_updated\u001b[0m\u001b[0;34m:\u001b[0m\u001b[0;34m\u001b[0m\u001b[0;34m\u001b[0m\u001b[0m\n\u001b[0;32m--> 233\u001b[0;31m             \u001b[0mself\u001b[0m\u001b[0;34m.\u001b[0m\u001b[0m_update_fun_impl\u001b[0m\u001b[0;34m(\u001b[0m\u001b[0;34m)\u001b[0m\u001b[0;34m\u001b[0m\u001b[0;34m\u001b[0m\u001b[0m\n\u001b[0m\u001b[1;32m    234\u001b[0m             \u001b[0mself\u001b[0m\u001b[0;34m.\u001b[0m\u001b[0mf_updated\u001b[0m \u001b[0;34m=\u001b[0m \u001b[0;32mTrue\u001b[0m\u001b[0;34m\u001b[0m\u001b[0;34m\u001b[0m\u001b[0m\n\u001b[1;32m    235\u001b[0m \u001b[0;34m\u001b[0m\u001b[0m\n",
            "\u001b[0;32m/usr/local/lib/python3.8/dist-packages/scipy/optimize/_differentiable_functions.py\u001b[0m in \u001b[0;36mupdate_fun\u001b[0;34m()\u001b[0m\n\u001b[1;32m    135\u001b[0m \u001b[0;34m\u001b[0m\u001b[0m\n\u001b[1;32m    136\u001b[0m         \u001b[0;32mdef\u001b[0m \u001b[0mupdate_fun\u001b[0m\u001b[0;34m(\u001b[0m\u001b[0;34m)\u001b[0m\u001b[0;34m:\u001b[0m\u001b[0;34m\u001b[0m\u001b[0;34m\u001b[0m\u001b[0m\n\u001b[0;32m--> 137\u001b[0;31m             \u001b[0mself\u001b[0m\u001b[0;34m.\u001b[0m\u001b[0mf\u001b[0m \u001b[0;34m=\u001b[0m \u001b[0mfun_wrapped\u001b[0m\u001b[0;34m(\u001b[0m\u001b[0mself\u001b[0m\u001b[0;34m.\u001b[0m\u001b[0mx\u001b[0m\u001b[0;34m)\u001b[0m\u001b[0;34m\u001b[0m\u001b[0;34m\u001b[0m\u001b[0m\n\u001b[0m\u001b[1;32m    138\u001b[0m \u001b[0;34m\u001b[0m\u001b[0m\n\u001b[1;32m    139\u001b[0m         \u001b[0mself\u001b[0m\u001b[0;34m.\u001b[0m\u001b[0m_update_fun_impl\u001b[0m \u001b[0;34m=\u001b[0m \u001b[0mupdate_fun\u001b[0m\u001b[0;34m\u001b[0m\u001b[0;34m\u001b[0m\u001b[0m\n",
            "\u001b[0;32m/usr/local/lib/python3.8/dist-packages/scipy/optimize/_differentiable_functions.py\u001b[0m in \u001b[0;36mfun_wrapped\u001b[0;34m(x)\u001b[0m\n\u001b[1;32m    132\u001b[0m             \u001b[0;31m# Overwriting results in undefined behaviour because\u001b[0m\u001b[0;34m\u001b[0m\u001b[0;34m\u001b[0m\u001b[0;34m\u001b[0m\u001b[0m\n\u001b[1;32m    133\u001b[0m             \u001b[0;31m# fun(self.x) will change self.x, with the two no longer linked.\u001b[0m\u001b[0;34m\u001b[0m\u001b[0;34m\u001b[0m\u001b[0;34m\u001b[0m\u001b[0m\n\u001b[0;32m--> 134\u001b[0;31m             \u001b[0;32mreturn\u001b[0m \u001b[0mfun\u001b[0m\u001b[0;34m(\u001b[0m\u001b[0mnp\u001b[0m\u001b[0;34m.\u001b[0m\u001b[0mcopy\u001b[0m\u001b[0;34m(\u001b[0m\u001b[0mx\u001b[0m\u001b[0;34m)\u001b[0m\u001b[0;34m,\u001b[0m \u001b[0;34m*\u001b[0m\u001b[0margs\u001b[0m\u001b[0;34m)\u001b[0m\u001b[0;34m\u001b[0m\u001b[0;34m\u001b[0m\u001b[0m\n\u001b[0m\u001b[1;32m    135\u001b[0m \u001b[0;34m\u001b[0m\u001b[0m\n\u001b[1;32m    136\u001b[0m         \u001b[0;32mdef\u001b[0m \u001b[0mupdate_fun\u001b[0m\u001b[0;34m(\u001b[0m\u001b[0;34m)\u001b[0m\u001b[0;34m:\u001b[0m\u001b[0;34m\u001b[0m\u001b[0;34m\u001b[0m\u001b[0m\n",
            "\u001b[0;32m<ipython-input-92-044a96198f66>\u001b[0m in \u001b[0;36moptimize_log_likelihood\u001b[0;34m(theta, a, b, k, r, args)\u001b[0m\n\u001b[1;32m     67\u001b[0m     \u001b[0mk\u001b[0m \u001b[0;34m=\u001b[0m \u001b[0mnp\u001b[0m\u001b[0;34m.\u001b[0m\u001b[0marray\u001b[0m\u001b[0;34m(\u001b[0m\u001b[0mk\u001b[0m\u001b[0;34m)\u001b[0m\u001b[0;34m\u001b[0m\u001b[0;34m\u001b[0m\u001b[0m\n\u001b[1;32m     68\u001b[0m     \u001b[0mr\u001b[0m \u001b[0;34m=\u001b[0m \u001b[0mnp\u001b[0m\u001b[0;34m.\u001b[0m\u001b[0marray\u001b[0m\u001b[0;34m(\u001b[0m\u001b[0mr\u001b[0m\u001b[0;34m)\u001b[0m\u001b[0;34m\u001b[0m\u001b[0;34m\u001b[0m\u001b[0m\n\u001b[0;32m---> 69\u001b[0;31m     \u001b[0mneg_log_likelihood\u001b[0m \u001b[0;34m=\u001b[0m \u001b[0;34m-\u001b[0m\u001b[0mlog_likelihood_2pl\u001b[0m\u001b[0;34m(\u001b[0m\u001b[0mtheta\u001b[0m\u001b[0;34m,\u001b[0m \u001b[0ma\u001b[0m\u001b[0;34m,\u001b[0m \u001b[0mb\u001b[0m\u001b[0;34m,\u001b[0m \u001b[0mk\u001b[0m\u001b[0;34m,\u001b[0m \u001b[0mr\u001b[0m\u001b[0;34m)\u001b[0m\u001b[0;34m\u001b[0m\u001b[0;34m\u001b[0m\u001b[0m\n\u001b[0m\u001b[1;32m     70\u001b[0m     \u001b[0;32mreturn\u001b[0m \u001b[0mneg_log_likelihood\u001b[0m\u001b[0;34m\u001b[0m\u001b[0;34m\u001b[0m\u001b[0m\n\u001b[1;32m     71\u001b[0m \u001b[0;34m\u001b[0m\u001b[0m\n",
            "\u001b[0;32m<ipython-input-92-044a96198f66>\u001b[0m in \u001b[0;36mlog_likelihood_2pl\u001b[0;34m(theta, a, b, k, r)\u001b[0m\n\u001b[1;32m     32\u001b[0m         \u001b[0mLog\u001b[0m\u001b[0;34m-\u001b[0m\u001b[0mlikelihood\u001b[0m \u001b[0mof\u001b[0m \u001b[0mthe\u001b[0m \u001b[0mdata\u001b[0m \u001b[0mgiven\u001b[0m \u001b[0mthe\u001b[0m \u001b[0mmodel\u001b[0m \u001b[0mparameters\u001b[0m\u001b[0;34m.\u001b[0m\u001b[0;34m\u001b[0m\u001b[0;34m\u001b[0m\u001b[0m\n\u001b[1;32m     33\u001b[0m     \"\"\"\n\u001b[0;32m---> 34\u001b[0;31m     \u001b[0mp\u001b[0m \u001b[0;34m=\u001b[0m \u001b[0;36m1\u001b[0m \u001b[0;34m/\u001b[0m \u001b[0;34m(\u001b[0m\u001b[0;36m1\u001b[0m \u001b[0;34m+\u001b[0m \u001b[0mnp\u001b[0m\u001b[0;34m.\u001b[0m\u001b[0mexp\u001b[0m\u001b[0;34m(\u001b[0m\u001b[0;34m-\u001b[0m\u001b[0ma\u001b[0m\u001b[0;34m*\u001b[0m\u001b[0;34m(\u001b[0m\u001b[0mtheta\u001b[0m\u001b[0;34m-\u001b[0m\u001b[0mb\u001b[0m\u001b[0;34m)\u001b[0m\u001b[0;34m)\u001b[0m\u001b[0;34m)\u001b[0m\u001b[0;34m\u001b[0m\u001b[0;34m\u001b[0m\u001b[0m\n\u001b[0m\u001b[1;32m     35\u001b[0m     \u001b[0mlog_likelihood\u001b[0m \u001b[0;34m=\u001b[0m \u001b[0mnp\u001b[0m\u001b[0;34m.\u001b[0m\u001b[0msum\u001b[0m\u001b[0;34m(\u001b[0m\u001b[0mr\u001b[0m\u001b[0;34m*\u001b[0m\u001b[0mnp\u001b[0m\u001b[0;34m.\u001b[0m\u001b[0mlog\u001b[0m\u001b[0;34m(\u001b[0m\u001b[0mp\u001b[0m\u001b[0;34m)\u001b[0m \u001b[0;34m+\u001b[0m \u001b[0;34m(\u001b[0m\u001b[0;36m1\u001b[0m\u001b[0;34m-\u001b[0m\u001b[0mr\u001b[0m\u001b[0;34m)\u001b[0m\u001b[0;34m*\u001b[0m\u001b[0mnp\u001b[0m\u001b[0;34m.\u001b[0m\u001b[0mlog\u001b[0m\u001b[0;34m(\u001b[0m\u001b[0;36m1\u001b[0m\u001b[0;34m-\u001b[0m\u001b[0mp\u001b[0m\u001b[0;34m)\u001b[0m \u001b[0;34m+\u001b[0m \u001b[0mk\u001b[0m\u001b[0;34m*\u001b[0m\u001b[0;34m(\u001b[0m\u001b[0;36m1\u001b[0m\u001b[0;34m-\u001b[0m\u001b[0mp\u001b[0m\u001b[0;34m)\u001b[0m\u001b[0;34m*\u001b[0m\u001b[0mnp\u001b[0m\u001b[0;34m.\u001b[0m\u001b[0mlog\u001b[0m\u001b[0;34m(\u001b[0m\u001b[0mp\u001b[0m\u001b[0;34m)\u001b[0m \u001b[0;34m+\u001b[0m \u001b[0;34m(\u001b[0m\u001b[0;36m1\u001b[0m\u001b[0;34m-\u001b[0m\u001b[0mk\u001b[0m\u001b[0;34m)\u001b[0m\u001b[0;34m*\u001b[0m\u001b[0mp\u001b[0m\u001b[0;34m*\u001b[0m\u001b[0mnp\u001b[0m\u001b[0;34m.\u001b[0m\u001b[0mlog\u001b[0m\u001b[0;34m(\u001b[0m\u001b[0;36m1\u001b[0m\u001b[0;34m-\u001b[0m\u001b[0mp\u001b[0m\u001b[0;34m)\u001b[0m\u001b[0;34m)\u001b[0m\u001b[0;34m\u001b[0m\u001b[0;34m\u001b[0m\u001b[0m\n\u001b[1;32m     36\u001b[0m     \u001b[0;32mreturn\u001b[0m \u001b[0mlog_likelihood\u001b[0m\u001b[0;34m\u001b[0m\u001b[0;34m\u001b[0m\u001b[0m\n",
            "\u001b[0;31mValueError\u001b[0m: operands could not be broadcast together with shapes (192338,) (19279,) "
          ]
        }
      ]
    },
    {
      "cell_type": "code",
      "source": [
        "import stan\n",
        "from stan import model, fit "
      ],
      "metadata": {
        "id": "8UUgj4AO3ZN5"
      },
      "execution_count": null,
      "outputs": []
    },
    {
      "cell_type": "code",
      "source": [
        "pip install pystan 3.1.1\n"
      ],
      "metadata": {
        "colab": {
          "base_uri": "https://localhost:8080/"
        },
        "id": "0loemp1t5ONo",
        "outputId": "64a61a3c-dd88-4eac-f720-ca3bba4fa638"
      },
      "execution_count": null,
      "outputs": [
        {
          "output_type": "stream",
          "name": "stdout",
          "text": [
            "Looking in indexes: https://pypi.org/simple, https://us-python.pkg.dev/colab-wheels/public/simple/\n",
            "\u001b[31mERROR: Could not find a version that satisfies the requirement pystan-3.1.1 (from versions: none)\u001b[0m\u001b[31m\n",
            "\u001b[0m\u001b[31mERROR: No matching distribution found for pystan-3.1.1\u001b[0m\u001b[31m\n",
            "\u001b[0m"
          ]
        }
      ]
    },
    {
      "cell_type": "code",
      "source": [
        "python3 -m pip install pystan"
      ],
      "metadata": {
        "colab": {
          "base_uri": "https://localhost:8080/",
          "height": 133
        },
        "id": "L8ub6vb75HX4",
        "outputId": "7a41129d-878e-46e8-8674-ab4dcc00b422"
      },
      "execution_count": null,
      "outputs": [
        {
          "output_type": "error",
          "ename": "SyntaxError",
          "evalue": "ignored",
          "traceback": [
            "\u001b[0;36m  File \u001b[0;32m\"<ipython-input-57-7371cf1dfc24>\"\u001b[0;36m, line \u001b[0;32m1\u001b[0m\n\u001b[0;31m    python3 -m pip install pystan\u001b[0m\n\u001b[0m               ^\u001b[0m\n\u001b[0;31mSyntaxError\u001b[0m\u001b[0;31m:\u001b[0m invalid syntax\n"
          ]
        }
      ]
    },
    {
      "cell_type": "code",
      "source": [
        "help(stan)"
      ],
      "metadata": {
        "colab": {
          "base_uri": "https://localhost:8080/"
        },
        "id": "21McG4GL4d9K",
        "outputId": "8bcbfea2-c4c2-4b67-f89f-5cbc5ec8841e"
      },
      "execution_count": null,
      "outputs": [
        {
          "output_type": "stream",
          "name": "stdout",
          "text": [
            "Help on package stan:\n",
            "\n",
            "NAME\n",
            "    stan\n",
            "\n",
            "PACKAGE CONTENTS\n",
            "    common\n",
            "    fit\n",
            "    model\n",
            "    plugins\n",
            "\n",
            "VERSION\n",
            "    3.3.0\n",
            "\n",
            "FILE\n",
            "    /usr/local/lib/python3.8/dist-packages/stan/__init__.py\n",
            "\n",
            "\n"
          ]
        }
      ]
    },
    {
      "cell_type": "code",
      "source": [
        "stan_code = \"\"\"\n",
        "data {\n",
        "  int<lower=1> J;                     // number of students\n",
        "  int<lower=1> K;                     // number of questions\n",
        "  int<lower=1> N;                     // number of observations\n",
        "  array[N] int<lower=1, upper=J> jj;  // student for observation n\n",
        "  array[N] int<lower=1, upper=K> kk;  // question for observation n\n",
        "  array[N] int<lower=0, upper=1> y;   // correctness for observation n\n",
        "}\n",
        "\n",
        "parameters {\n",
        "  real delta;            // mean student ability\n",
        "  array[J] real alpha;   // ability of student j - mean ability\n",
        "  array[K] real beta;    // difficulty of question k\n",
        "}\n",
        "\n",
        "model {\n",
        "  alpha ~ std_normal();         // informative true prior\n",
        "  beta ~ std_normal();          // informative true prior\n",
        "  delta ~ normal(0.75, 1);      // informative true prior\n",
        "  for (n in 1:N) {\n",
        "    y[n] ~ bernoulli_logit(alpha[jj[n]] - beta[kk[n]] + delta);\n",
        "  }\n",
        "}\n",
        "\n",
        "\"\"\""
      ],
      "metadata": {
        "id": "Fp15rVuj3cBj"
      },
      "execution_count": null,
      "outputs": []
    },
    {
      "cell_type": "code",
      "source": [
        "async def main():\n",
        "    print(1)\n",
        "    \n",
        "await main()"
      ],
      "metadata": {
        "colab": {
          "base_uri": "https://localhost:8080/"
        },
        "id": "JU8lDSgX7bmW",
        "outputId": "16e4b7fe-7a50-4473-dad2-67868f7c56a8"
      },
      "execution_count": null,
      "outputs": [
        {
          "output_type": "stream",
          "name": "stdout",
          "text": [
            "1\n"
          ]
        }
      ]
    },
    {
      "cell_type": "code",
      "source": [
        "stan_model = stan.build(stan_code)"
      ],
      "metadata": {
        "colab": {
          "base_uri": "https://localhost:8080/",
          "height": 320
        },
        "id": "QCwdZxkW4Jrs",
        "outputId": "b23b710e-a229-42d6-8b68-cef828eab477"
      },
      "execution_count": null,
      "outputs": [
        {
          "output_type": "error",
          "ename": "RuntimeError",
          "evalue": "ignored",
          "traceback": [
            "\u001b[0;31m---------------------------------------------------------------------------\u001b[0m",
            "\u001b[0;31mRuntimeError\u001b[0m                              Traceback (most recent call last)",
            "\u001b[0;32m<ipython-input-69-2f5f6c5d41c8>\u001b[0m in \u001b[0;36m<module>\u001b[0;34m\u001b[0m\n\u001b[0;32m----> 1\u001b[0;31m \u001b[0mstan_model\u001b[0m \u001b[0;34m=\u001b[0m \u001b[0mstan\u001b[0m\u001b[0;34m.\u001b[0m\u001b[0mbuild\u001b[0m\u001b[0;34m(\u001b[0m\u001b[0mstan_code\u001b[0m\u001b[0;34m)\u001b[0m\u001b[0;34m\u001b[0m\u001b[0;34m\u001b[0m\u001b[0m\n\u001b[0m",
            "\u001b[0;32m/usr/local/lib/python3.8/dist-packages/stan/model.py\u001b[0m in \u001b[0;36mbuild\u001b[0;34m(program_code, data, random_seed)\u001b[0m\n\u001b[1;32m    515\u001b[0m \u001b[0;34m\u001b[0m\u001b[0m\n\u001b[1;32m    516\u001b[0m     \u001b[0;32mtry\u001b[0m\u001b[0;34m:\u001b[0m\u001b[0;34m\u001b[0m\u001b[0;34m\u001b[0m\u001b[0m\n\u001b[0;32m--> 517\u001b[0;31m         \u001b[0;32mreturn\u001b[0m \u001b[0masyncio\u001b[0m\u001b[0;34m.\u001b[0m\u001b[0mrun\u001b[0m\u001b[0;34m(\u001b[0m\u001b[0mgo\u001b[0m\u001b[0;34m(\u001b[0m\u001b[0;34m)\u001b[0m\u001b[0;34m)\u001b[0m\u001b[0;34m\u001b[0m\u001b[0;34m\u001b[0m\u001b[0m\n\u001b[0m\u001b[1;32m    518\u001b[0m     \u001b[0;32mexcept\u001b[0m \u001b[0mKeyboardInterrupt\u001b[0m\u001b[0;34m:\u001b[0m\u001b[0;34m\u001b[0m\u001b[0;34m\u001b[0m\u001b[0m\n\u001b[1;32m    519\u001b[0m         \u001b[0;32mreturn\u001b[0m  \u001b[0;31m# type: ignore\u001b[0m\u001b[0;34m\u001b[0m\u001b[0;34m\u001b[0m\u001b[0m\n",
            "\u001b[0;32m/usr/lib/python3.8/asyncio/runners.py\u001b[0m in \u001b[0;36mrun\u001b[0;34m(main, debug)\u001b[0m\n\u001b[1;32m     31\u001b[0m     \"\"\"\n\u001b[1;32m     32\u001b[0m     \u001b[0;32mif\u001b[0m \u001b[0mevents\u001b[0m\u001b[0;34m.\u001b[0m\u001b[0m_get_running_loop\u001b[0m\u001b[0;34m(\u001b[0m\u001b[0;34m)\u001b[0m \u001b[0;32mis\u001b[0m \u001b[0;32mnot\u001b[0m \u001b[0;32mNone\u001b[0m\u001b[0;34m:\u001b[0m\u001b[0;34m\u001b[0m\u001b[0;34m\u001b[0m\u001b[0m\n\u001b[0;32m---> 33\u001b[0;31m         raise RuntimeError(\n\u001b[0m\u001b[1;32m     34\u001b[0m             \"asyncio.run() cannot be called from a running event loop\")\n\u001b[1;32m     35\u001b[0m \u001b[0;34m\u001b[0m\u001b[0m\n",
            "\u001b[0;31mRuntimeError\u001b[0m: asyncio.run() cannot be called from a running event loop"
          ]
        }
      ]
    },
    {
      "cell_type": "code",
      "source": [],
      "metadata": {
        "id": "vME_pyng_ZGR"
      },
      "execution_count": null,
      "outputs": []
    },
    {
      "cell_type": "code",
      "source": [],
      "metadata": {
        "id": "OVzVVn4V_ZID"
      },
      "execution_count": null,
      "outputs": []
    },
    {
      "cell_type": "code",
      "source": [
        "#2 PL\n",
        "\n",
        "stan_code = \"\"\"\n",
        "data {\n",
        "  int<lower=1> J;                     // number of students\n",
        "  int<lower=1> K;                     // number of questions\n",
        "  int<lower=1> N;                     // number of observations\n",
        "  array[N] int<lower=1, upper=J> jj;  // student for observation n\n",
        "  array[N] int<lower=1, upper=K> kk;  // question for observation n\n",
        "  array[N] int<lower=0, upper=1> y;   // correctness for observation n\n",
        "}\n",
        "parameters {\n",
        "  real mu_beta;                // mean question difficulty\n",
        "  vector[J] alpha;             // ability for j - mean\n",
        "  vector[K] beta;              // difficulty for k\n",
        "  vector<lower=0>[K] gamma;    // discrimination of k\n",
        "  real<lower=0> sigma_beta;    // scale of difficulties\n",
        "  real<lower=0> sigma_gamma;   // scale of log discrimination\n",
        "}\n",
        "model {\n",
        "  alpha ~ std_normal();\n",
        "  beta ~ normal(0, sigma_beta);\n",
        "  gamma ~ lognormal(0, sigma_gamma);\n",
        "  mu_beta ~ cauchy(0, 5);\n",
        "  sigma_beta ~ cauchy(0, 5);\n",
        "  sigma_gamma ~ cauchy(0, 5);\n",
        "  y ~ bernoulli_logit(gamma[kk] .* (alpha[jj] - (beta[kk] + mu_beta)));\n",
        "}\n",
        "\n",
        "\"\"\"\n",
        "stan_model = stan.build(stan_code)"
      ],
      "metadata": {
        "colab": {
          "base_uri": "https://localhost:8080/",
          "height": 357
        },
        "id": "KWIneIoB7thi",
        "outputId": "81a70ee5-60e2-4afc-8591-8edfa720018a"
      },
      "execution_count": null,
      "outputs": [
        {
          "output_type": "error",
          "ename": "RuntimeError",
          "evalue": "ignored",
          "traceback": [
            "\u001b[0;31m---------------------------------------------------------------------------\u001b[0m",
            "\u001b[0;31mRuntimeError\u001b[0m                              Traceback (most recent call last)",
            "\u001b[0;32m<ipython-input-71-f6571c3bd7e2>\u001b[0m in \u001b[0;36m<module>\u001b[0;34m\u001b[0m\n\u001b[1;32m     29\u001b[0m \u001b[0;34m\u001b[0m\u001b[0m\n\u001b[1;32m     30\u001b[0m \"\"\"\n\u001b[0;32m---> 31\u001b[0;31m \u001b[0mstan_model\u001b[0m \u001b[0;34m=\u001b[0m \u001b[0mstan\u001b[0m\u001b[0;34m.\u001b[0m\u001b[0mbuild\u001b[0m\u001b[0;34m(\u001b[0m\u001b[0mstan_code\u001b[0m\u001b[0;34m)\u001b[0m\u001b[0;34m\u001b[0m\u001b[0;34m\u001b[0m\u001b[0m\n\u001b[0m",
            "\u001b[0;32m/usr/local/lib/python3.8/dist-packages/stan/model.py\u001b[0m in \u001b[0;36mbuild\u001b[0;34m(program_code, data, random_seed)\u001b[0m\n\u001b[1;32m    515\u001b[0m \u001b[0;34m\u001b[0m\u001b[0m\n\u001b[1;32m    516\u001b[0m     \u001b[0;32mtry\u001b[0m\u001b[0;34m:\u001b[0m\u001b[0;34m\u001b[0m\u001b[0;34m\u001b[0m\u001b[0m\n\u001b[0;32m--> 517\u001b[0;31m         \u001b[0;32mreturn\u001b[0m \u001b[0masyncio\u001b[0m\u001b[0;34m.\u001b[0m\u001b[0mrun\u001b[0m\u001b[0;34m(\u001b[0m\u001b[0mgo\u001b[0m\u001b[0;34m(\u001b[0m\u001b[0;34m)\u001b[0m\u001b[0;34m)\u001b[0m\u001b[0;34m\u001b[0m\u001b[0;34m\u001b[0m\u001b[0m\n\u001b[0m\u001b[1;32m    518\u001b[0m     \u001b[0;32mexcept\u001b[0m \u001b[0mKeyboardInterrupt\u001b[0m\u001b[0;34m:\u001b[0m\u001b[0;34m\u001b[0m\u001b[0;34m\u001b[0m\u001b[0m\n\u001b[1;32m    519\u001b[0m         \u001b[0;32mreturn\u001b[0m  \u001b[0;31m# type: ignore\u001b[0m\u001b[0;34m\u001b[0m\u001b[0;34m\u001b[0m\u001b[0m\n",
            "\u001b[0;32m/usr/lib/python3.8/asyncio/runners.py\u001b[0m in \u001b[0;36mrun\u001b[0;34m(main, debug)\u001b[0m\n\u001b[1;32m     31\u001b[0m     \"\"\"\n\u001b[1;32m     32\u001b[0m     \u001b[0;32mif\u001b[0m \u001b[0mevents\u001b[0m\u001b[0;34m.\u001b[0m\u001b[0m_get_running_loop\u001b[0m\u001b[0;34m(\u001b[0m\u001b[0;34m)\u001b[0m \u001b[0;32mis\u001b[0m \u001b[0;32mnot\u001b[0m \u001b[0;32mNone\u001b[0m\u001b[0;34m:\u001b[0m\u001b[0;34m\u001b[0m\u001b[0;34m\u001b[0m\u001b[0m\n\u001b[0;32m---> 33\u001b[0;31m         raise RuntimeError(\n\u001b[0m\u001b[1;32m     34\u001b[0m             \"asyncio.run() cannot be called from a running event loop\")\n\u001b[1;32m     35\u001b[0m \u001b[0;34m\u001b[0m\u001b[0m\n",
            "\u001b[0;31mRuntimeError\u001b[0m: asyncio.run() cannot be called from a running event loop"
          ]
        }
      ]
    },
    {
      "cell_type": "code",
      "source": [
        "data = dataframe\n",
        "J = len(data['user_id'])\n",
        "K = len(data['lexeme_id'])\n",
        "N = len(data['mistakes'])"
      ],
      "metadata": {
        "id": "ng8AHVFQ9Tvb"
      },
      "execution_count": null,
      "outputs": []
    },
    {
      "cell_type": "code",
      "source": [
        "J"
      ],
      "metadata": {
        "colab": {
          "base_uri": "https://localhost:8080/"
        },
        "id": "kb9bTtYf-AJX",
        "outputId": "200296d6-8108-4abb-ae6b-ec3218c5fe4c"
      },
      "execution_count": null,
      "outputs": [
        {
          "output_type": "execute_result",
          "data": {
            "text/plain": [
              "12854226"
            ]
          },
          "metadata": {},
          "execution_count": 76
        }
      ]
    },
    {
      "cell_type": "code",
      "source": [
        "import concurrent.futures\n",
        "\n",
        "def run_model():\n",
        "    stan_code = \"\"\"\n",
        "    data {\n",
        "      int<lower=1> user_id ;                     // number of Users \n",
        "      int<lower=1> K;                     // number of Lexemes \n",
        "      int<lower=1> N;                     // number of observations\n",
        "      array[N] int<lower=1, upper=J> jj;  // student for observation n\n",
        "      array[N] int<lower=1, upper=K> kk;  // question for observation n\n",
        "      array[N] int<lower=0, upper=1> y;   // correctness for observation n\n",
        "    }\n",
        "    parameters {\n",
        "      real mu_beta;                // mean question difficulty\n",
        "      vector[user_id] alpha;             // ability for j - mean\n",
        "      vector[K] beta;              // difficulty for k\n",
        "      vector<lower=0>[K] gamma;    // discrimination of k\n",
        "      real<lower=0> sigma_beta;    // scale of difficulties\n",
        "      real<lower=0> sigma_gamma;   // scale of log discrimination\n",
        "    }\n",
        "    model {\n",
        "      alpha ~ std_normal();\n",
        "      beta ~ normal(0, sigma_beta);\n",
        "      gamma ~ lognormal(0, sigma_gamma);\n",
        "      mu_beta ~ cauchy(0, 5);\n",
        "      sigma_beta ~ cauchy(0, 5);\n",
        "      sigma_gamma ~ cauchy(0, 5);\n",
        "      y ~ bernoulli_logit(gamma[kk] .* (alpha[jj] - (beta[kk] + mu_beta)));\n",
        "    }\n",
        "\n",
        "    \"\"\"\n",
        "    stan_model = stan.build(stan_code)\n",
        "\n",
        "with concurrent.futures.ThreadPoolExecutor() as executor:\n",
        "    future = executor.submit(run_model)\n",
        "    result = future.result()\n"
      ],
      "metadata": {
        "colab": {
          "base_uri": "https://localhost:8080/",
          "height": 666
        },
        "id": "5toZ6ouX8x7I",
        "outputId": "fc2a2c47-345d-44fd-9ff9-e106002157c2"
      },
      "execution_count": null,
      "outputs": [
        {
          "output_type": "stream",
          "name": "stdout",
          "text": [
            "Building..."
          ]
        },
        {
          "output_type": "stream",
          "name": "stderr",
          "text": [
            "CRITICAL:httpstan:Exception while compiling `program_code`: `ValueError(\"Semantic error in '/tmp/httpstan_sxv85m9s/model_z4d43rwo.stan', line 6, column 34 to column 35:\\n   -------------------------------------------------\\n     4:        int<lower=1> K;                     // number of Lexemes \\n     5:        int<lower=1> N;                     // number of observations\\n     6:        array[N] int<lower=1, upper=J> jj;  // student for observation n\\n                                           ^\\n     7:        array[N] int<lower=1, upper=K> kk;  // question for observation n\\n     8:        array[N] int<lower=0, upper=1> y;   // correctness for observation n\\n   -------------------------------------------------\\n\\nIdentifier 'J' not in scope.\")`\n",
            "Exception while compiling `program_code`: `ValueError(\"Semantic error in '/tmp/httpstan_sxv85m9s/model_z4d43rwo.stan', line 6, column 34 to column 35:\\n   -------------------------------------------------\\n     4:        int<lower=1> K;                     // number of Lexemes \\n     5:        int<lower=1> N;                     // number of observations\\n     6:        array[N] int<lower=1, upper=J> jj;  // student for observation n\\n                                           ^\\n     7:        array[N] int<lower=1, upper=K> kk;  // question for observation n\\n     8:        array[N] int<lower=0, upper=1> y;   // correctness for observation n\\n   -------------------------------------------------\\n\\nIdentifier 'J' not in scope.\")`\n",
            "Exception while compiling `program_code`: `ValueError(\"Semantic error in '/tmp/httpstan_sxv85m9s/model_z4d43rwo.stan', line 6, column 34 to column 35:\\n   -------------------------------------------------\\n     4:        int<lower=1> K;                     // number of Lexemes \\n     5:        int<lower=1> N;                     // number of observations\\n     6:        array[N] int<lower=1, upper=J> jj;  // student for observation n\\n                                           ^\\n     7:        array[N] int<lower=1, upper=K> kk;  // question for observation n\\n     8:        array[N] int<lower=0, upper=1> y;   // correctness for observation n\\n   -------------------------------------------------\\n\\nIdentifier 'J' not in scope.\")`\n"
          ]
        },
        {
          "output_type": "stream",
          "name": "stdout",
          "text": [
            "\n"
          ]
        },
        {
          "output_type": "stream",
          "name": "stderr",
          "text": [
            "Building: Semantic error:   -------------------------------------------------\n",
            "     4:        int<lower=1> K;                     // number of Lexemes \n",
            "     5:        int<lower=1> N;                     // number of observations\n",
            "     6:        array[N] int<lower=1, upper=J> jj;  // student for observation n\n",
            "                                           ^\n",
            "     7:        array[N] int<lower=1, upper=K> kk;  // question for observation n\n",
            "     8:        array[N] int<lower=0, upper=1> y;   // correctness for observation n\n",
            "   -------------------------------------------------\n",
            "\n",
            "Identifier 'J' not in scope."
          ]
        },
        {
          "output_type": "error",
          "ename": "ValueError",
          "evalue": "ignored",
          "traceback": [
            "\u001b[0;31m---------------------------------------------------------------------------\u001b[0m",
            "\u001b[0;31mValueError\u001b[0m                                Traceback (most recent call last)",
            "\u001b[0;32m<ipython-input-80-a60384e18c05>\u001b[0m in \u001b[0;36m<module>\u001b[0;34m\u001b[0m\n\u001b[1;32m     34\u001b[0m \u001b[0;32mwith\u001b[0m \u001b[0mconcurrent\u001b[0m\u001b[0;34m.\u001b[0m\u001b[0mfutures\u001b[0m\u001b[0;34m.\u001b[0m\u001b[0mThreadPoolExecutor\u001b[0m\u001b[0;34m(\u001b[0m\u001b[0;34m)\u001b[0m \u001b[0;32mas\u001b[0m \u001b[0mexecutor\u001b[0m\u001b[0;34m:\u001b[0m\u001b[0;34m\u001b[0m\u001b[0;34m\u001b[0m\u001b[0m\n\u001b[1;32m     35\u001b[0m     \u001b[0mfuture\u001b[0m \u001b[0;34m=\u001b[0m \u001b[0mexecutor\u001b[0m\u001b[0;34m.\u001b[0m\u001b[0msubmit\u001b[0m\u001b[0;34m(\u001b[0m\u001b[0mrun_model\u001b[0m\u001b[0;34m)\u001b[0m\u001b[0;34m\u001b[0m\u001b[0;34m\u001b[0m\u001b[0m\n\u001b[0;32m---> 36\u001b[0;31m     \u001b[0mresult\u001b[0m \u001b[0;34m=\u001b[0m \u001b[0mfuture\u001b[0m\u001b[0;34m.\u001b[0m\u001b[0mresult\u001b[0m\u001b[0;34m(\u001b[0m\u001b[0;34m)\u001b[0m\u001b[0;34m\u001b[0m\u001b[0;34m\u001b[0m\u001b[0m\n\u001b[0m",
            "\u001b[0;32m/usr/lib/python3.8/concurrent/futures/_base.py\u001b[0m in \u001b[0;36mresult\u001b[0;34m(self, timeout)\u001b[0m\n\u001b[1;32m    442\u001b[0m                     \u001b[0;32mraise\u001b[0m \u001b[0mCancelledError\u001b[0m\u001b[0;34m(\u001b[0m\u001b[0;34m)\u001b[0m\u001b[0;34m\u001b[0m\u001b[0;34m\u001b[0m\u001b[0m\n\u001b[1;32m    443\u001b[0m                 \u001b[0;32melif\u001b[0m \u001b[0mself\u001b[0m\u001b[0;34m.\u001b[0m\u001b[0m_state\u001b[0m \u001b[0;34m==\u001b[0m \u001b[0mFINISHED\u001b[0m\u001b[0;34m:\u001b[0m\u001b[0;34m\u001b[0m\u001b[0;34m\u001b[0m\u001b[0m\n\u001b[0;32m--> 444\u001b[0;31m                     \u001b[0;32mreturn\u001b[0m \u001b[0mself\u001b[0m\u001b[0;34m.\u001b[0m\u001b[0m__get_result\u001b[0m\u001b[0;34m(\u001b[0m\u001b[0;34m)\u001b[0m\u001b[0;34m\u001b[0m\u001b[0;34m\u001b[0m\u001b[0m\n\u001b[0m\u001b[1;32m    445\u001b[0m                 \u001b[0;32melse\u001b[0m\u001b[0;34m:\u001b[0m\u001b[0;34m\u001b[0m\u001b[0;34m\u001b[0m\u001b[0m\n\u001b[1;32m    446\u001b[0m                     \u001b[0;32mraise\u001b[0m \u001b[0mTimeoutError\u001b[0m\u001b[0;34m(\u001b[0m\u001b[0;34m)\u001b[0m\u001b[0;34m\u001b[0m\u001b[0;34m\u001b[0m\u001b[0m\n",
            "\u001b[0;32m/usr/lib/python3.8/concurrent/futures/_base.py\u001b[0m in \u001b[0;36m__get_result\u001b[0;34m(self)\u001b[0m\n\u001b[1;32m    387\u001b[0m         \u001b[0;32mif\u001b[0m \u001b[0mself\u001b[0m\u001b[0;34m.\u001b[0m\u001b[0m_exception\u001b[0m\u001b[0;34m:\u001b[0m\u001b[0;34m\u001b[0m\u001b[0;34m\u001b[0m\u001b[0m\n\u001b[1;32m    388\u001b[0m             \u001b[0;32mtry\u001b[0m\u001b[0;34m:\u001b[0m\u001b[0;34m\u001b[0m\u001b[0;34m\u001b[0m\u001b[0m\n\u001b[0;32m--> 389\u001b[0;31m                 \u001b[0;32mraise\u001b[0m \u001b[0mself\u001b[0m\u001b[0;34m.\u001b[0m\u001b[0m_exception\u001b[0m\u001b[0;34m\u001b[0m\u001b[0;34m\u001b[0m\u001b[0m\n\u001b[0m\u001b[1;32m    390\u001b[0m             \u001b[0;32mfinally\u001b[0m\u001b[0;34m:\u001b[0m\u001b[0;34m\u001b[0m\u001b[0;34m\u001b[0m\u001b[0m\n\u001b[1;32m    391\u001b[0m                 \u001b[0;31m# Break a reference cycle with the exception in self._exception\u001b[0m\u001b[0;34m\u001b[0m\u001b[0;34m\u001b[0m\u001b[0;34m\u001b[0m\u001b[0m\n",
            "\u001b[0;32m/usr/lib/python3.8/concurrent/futures/thread.py\u001b[0m in \u001b[0;36mrun\u001b[0;34m(self)\u001b[0m\n\u001b[1;32m     55\u001b[0m \u001b[0;34m\u001b[0m\u001b[0m\n\u001b[1;32m     56\u001b[0m         \u001b[0;32mtry\u001b[0m\u001b[0;34m:\u001b[0m\u001b[0;34m\u001b[0m\u001b[0;34m\u001b[0m\u001b[0m\n\u001b[0;32m---> 57\u001b[0;31m             \u001b[0mresult\u001b[0m \u001b[0;34m=\u001b[0m \u001b[0mself\u001b[0m\u001b[0;34m.\u001b[0m\u001b[0mfn\u001b[0m\u001b[0;34m(\u001b[0m\u001b[0;34m*\u001b[0m\u001b[0mself\u001b[0m\u001b[0;34m.\u001b[0m\u001b[0margs\u001b[0m\u001b[0;34m,\u001b[0m \u001b[0;34m**\u001b[0m\u001b[0mself\u001b[0m\u001b[0;34m.\u001b[0m\u001b[0mkwargs\u001b[0m\u001b[0;34m)\u001b[0m\u001b[0;34m\u001b[0m\u001b[0;34m\u001b[0m\u001b[0m\n\u001b[0m\u001b[1;32m     58\u001b[0m         \u001b[0;32mexcept\u001b[0m \u001b[0mBaseException\u001b[0m \u001b[0;32mas\u001b[0m \u001b[0mexc\u001b[0m\u001b[0;34m:\u001b[0m\u001b[0;34m\u001b[0m\u001b[0;34m\u001b[0m\u001b[0m\n\u001b[1;32m     59\u001b[0m             \u001b[0mself\u001b[0m\u001b[0;34m.\u001b[0m\u001b[0mfuture\u001b[0m\u001b[0;34m.\u001b[0m\u001b[0mset_exception\u001b[0m\u001b[0;34m(\u001b[0m\u001b[0mexc\u001b[0m\u001b[0;34m)\u001b[0m\u001b[0;34m\u001b[0m\u001b[0;34m\u001b[0m\u001b[0m\n",
            "\u001b[0;32m<ipython-input-80-a60384e18c05>\u001b[0m in \u001b[0;36mrun_model\u001b[0;34m()\u001b[0m\n\u001b[1;32m     30\u001b[0m \u001b[0;34m\u001b[0m\u001b[0m\n\u001b[1;32m     31\u001b[0m     \"\"\"\n\u001b[0;32m---> 32\u001b[0;31m     \u001b[0mstan_model\u001b[0m \u001b[0;34m=\u001b[0m \u001b[0mstan\u001b[0m\u001b[0;34m.\u001b[0m\u001b[0mbuild\u001b[0m\u001b[0;34m(\u001b[0m\u001b[0mstan_code\u001b[0m\u001b[0;34m)\u001b[0m\u001b[0;34m\u001b[0m\u001b[0;34m\u001b[0m\u001b[0m\n\u001b[0m\u001b[1;32m     33\u001b[0m \u001b[0;34m\u001b[0m\u001b[0m\n\u001b[1;32m     34\u001b[0m \u001b[0;32mwith\u001b[0m \u001b[0mconcurrent\u001b[0m\u001b[0;34m.\u001b[0m\u001b[0mfutures\u001b[0m\u001b[0;34m.\u001b[0m\u001b[0mThreadPoolExecutor\u001b[0m\u001b[0;34m(\u001b[0m\u001b[0;34m)\u001b[0m \u001b[0;32mas\u001b[0m \u001b[0mexecutor\u001b[0m\u001b[0;34m:\u001b[0m\u001b[0;34m\u001b[0m\u001b[0;34m\u001b[0m\u001b[0m\n",
            "\u001b[0;32m/usr/local/lib/python3.8/dist-packages/stan/model.py\u001b[0m in \u001b[0;36mbuild\u001b[0;34m(program_code, data, random_seed)\u001b[0m\n\u001b[1;32m    515\u001b[0m \u001b[0;34m\u001b[0m\u001b[0m\n\u001b[1;32m    516\u001b[0m     \u001b[0;32mtry\u001b[0m\u001b[0;34m:\u001b[0m\u001b[0;34m\u001b[0m\u001b[0;34m\u001b[0m\u001b[0m\n\u001b[0;32m--> 517\u001b[0;31m         \u001b[0;32mreturn\u001b[0m \u001b[0masyncio\u001b[0m\u001b[0;34m.\u001b[0m\u001b[0mrun\u001b[0m\u001b[0;34m(\u001b[0m\u001b[0mgo\u001b[0m\u001b[0;34m(\u001b[0m\u001b[0;34m)\u001b[0m\u001b[0;34m)\u001b[0m\u001b[0;34m\u001b[0m\u001b[0;34m\u001b[0m\u001b[0m\n\u001b[0m\u001b[1;32m    518\u001b[0m     \u001b[0;32mexcept\u001b[0m \u001b[0mKeyboardInterrupt\u001b[0m\u001b[0;34m:\u001b[0m\u001b[0;34m\u001b[0m\u001b[0;34m\u001b[0m\u001b[0m\n\u001b[1;32m    519\u001b[0m         \u001b[0;32mreturn\u001b[0m  \u001b[0;31m# type: ignore\u001b[0m\u001b[0;34m\u001b[0m\u001b[0;34m\u001b[0m\u001b[0m\n",
            "\u001b[0;32m/usr/lib/python3.8/asyncio/runners.py\u001b[0m in \u001b[0;36mrun\u001b[0;34m(main, debug)\u001b[0m\n\u001b[1;32m     42\u001b[0m         \u001b[0;32mif\u001b[0m \u001b[0mdebug\u001b[0m \u001b[0;32mis\u001b[0m \u001b[0;32mnot\u001b[0m \u001b[0;32mNone\u001b[0m\u001b[0;34m:\u001b[0m\u001b[0;34m\u001b[0m\u001b[0;34m\u001b[0m\u001b[0m\n\u001b[1;32m     43\u001b[0m             \u001b[0mloop\u001b[0m\u001b[0;34m.\u001b[0m\u001b[0mset_debug\u001b[0m\u001b[0;34m(\u001b[0m\u001b[0mdebug\u001b[0m\u001b[0;34m)\u001b[0m\u001b[0;34m\u001b[0m\u001b[0;34m\u001b[0m\u001b[0m\n\u001b[0;32m---> 44\u001b[0;31m         \u001b[0;32mreturn\u001b[0m \u001b[0mloop\u001b[0m\u001b[0;34m.\u001b[0m\u001b[0mrun_until_complete\u001b[0m\u001b[0;34m(\u001b[0m\u001b[0mmain\u001b[0m\u001b[0;34m)\u001b[0m\u001b[0;34m\u001b[0m\u001b[0;34m\u001b[0m\u001b[0m\n\u001b[0m\u001b[1;32m     45\u001b[0m     \u001b[0;32mfinally\u001b[0m\u001b[0;34m:\u001b[0m\u001b[0;34m\u001b[0m\u001b[0;34m\u001b[0m\u001b[0m\n\u001b[1;32m     46\u001b[0m         \u001b[0;32mtry\u001b[0m\u001b[0;34m:\u001b[0m\u001b[0;34m\u001b[0m\u001b[0;34m\u001b[0m\u001b[0m\n",
            "\u001b[0;32m/usr/lib/python3.8/asyncio/base_events.py\u001b[0m in \u001b[0;36mrun_until_complete\u001b[0;34m(self, future)\u001b[0m\n\u001b[1;32m    614\u001b[0m             \u001b[0;32mraise\u001b[0m \u001b[0mRuntimeError\u001b[0m\u001b[0;34m(\u001b[0m\u001b[0;34m'Event loop stopped before Future completed.'\u001b[0m\u001b[0;34m)\u001b[0m\u001b[0;34m\u001b[0m\u001b[0;34m\u001b[0m\u001b[0m\n\u001b[1;32m    615\u001b[0m \u001b[0;34m\u001b[0m\u001b[0m\n\u001b[0;32m--> 616\u001b[0;31m         \u001b[0;32mreturn\u001b[0m \u001b[0mfuture\u001b[0m\u001b[0;34m.\u001b[0m\u001b[0mresult\u001b[0m\u001b[0;34m(\u001b[0m\u001b[0;34m)\u001b[0m\u001b[0;34m\u001b[0m\u001b[0;34m\u001b[0m\u001b[0m\n\u001b[0m\u001b[1;32m    617\u001b[0m \u001b[0;34m\u001b[0m\u001b[0m\n\u001b[1;32m    618\u001b[0m     \u001b[0;32mdef\u001b[0m \u001b[0mstop\u001b[0m\u001b[0;34m(\u001b[0m\u001b[0mself\u001b[0m\u001b[0;34m)\u001b[0m\u001b[0;34m:\u001b[0m\u001b[0;34m\u001b[0m\u001b[0;34m\u001b[0m\u001b[0m\n",
            "\u001b[0;32m/usr/local/lib/python3.8/dist-packages/stan/model.py\u001b[0m in \u001b[0;36mgo\u001b[0;34m()\u001b[0m\n\u001b[1;32m    492\u001b[0m                     \u001b[0mbuilding_output\u001b[0m\u001b[0;34m.\u001b[0m\u001b[0mwrite_line\u001b[0m\u001b[0;34m(\u001b[0m\u001b[0;34mf\"<info>Building:</info> <error>{error_type}:</error>\"\u001b[0m\u001b[0;34m)\u001b[0m\u001b[0;34m\u001b[0m\u001b[0;34m\u001b[0m\u001b[0m\n\u001b[1;32m    493\u001b[0m                     \u001b[0mbuilding_output\u001b[0m\u001b[0;34m.\u001b[0m\u001b[0mwrite_line\u001b[0m\u001b[0;34m(\u001b[0m\u001b[0;34mf\"<error>{exception_body_without_first_line}</error>\"\u001b[0m\u001b[0;34m)\u001b[0m\u001b[0;34m\u001b[0m\u001b[0;34m\u001b[0m\u001b[0m\n\u001b[0;32m--> 494\u001b[0;31m                     \u001b[0;32mraise\u001b[0m \u001b[0mValueError\u001b[0m\u001b[0;34m(\u001b[0m\u001b[0merror_type\u001b[0m\u001b[0;34m)\u001b[0m\u001b[0;34m\u001b[0m\u001b[0;34m\u001b[0m\u001b[0m\n\u001b[0m\u001b[1;32m    495\u001b[0m                 \u001b[0;32melse\u001b[0m\u001b[0;34m:\u001b[0m\u001b[0;34m\u001b[0m\u001b[0;34m\u001b[0m\u001b[0m\n\u001b[1;32m    496\u001b[0m                     \u001b[0;32mraise\u001b[0m \u001b[0mRuntimeError\u001b[0m\u001b[0;34m(\u001b[0m\u001b[0mexception_body\u001b[0m\u001b[0;34m)\u001b[0m\u001b[0;34m\u001b[0m\u001b[0;34m\u001b[0m\u001b[0m\n",
            "\u001b[0;31mValueError\u001b[0m: Semantic error"
          ]
        }
      ]
    },
    {
      "cell_type": "code",
      "source": [
        "import stan\n",
        "\n",
        "# Define the Stan model\n",
        "stan_code = \"\"\"\n",
        "data {\n",
        "  int<lower=1> J;                     // number of students\n",
        "  int<lower=1> K;                     // number of questions\n",
        "  int<lower=1> N;                     // number of observations\n",
        "  array[N] int<lower=1, upper=J> jj;  // student for observation n\n",
        "  array[N] int<lower=1, upper=K> kk;  // question for observation n\n",
        "  array[N] int<lower=0, upper=1> y;   // correctness for observation n\n",
        "}\n",
        "parameters {\n",
        "  real mu_beta;                // mean question difficulty\n",
        "  vector[J] alpha;             // ability for j - mean\n",
        "  vector[K] beta;              // difficulty for k\n",
        "  vector<lower=0>[K] gamma;    // discrimination of k\n",
        "  real<lower=0> sigma_beta;    // scale of difficulties\n",
        "  real<lower=0> sigma_gamma;   // scale of log discrimination\n",
        "}\n",
        "model {\n",
        "  alpha ~ std_normal();\n",
        "  beta ~ normal(0, sigma_beta);\n",
        "  gamma ~ lognormal(0, sigma_gamma);\n",
        "  mu_beta ~ cauchy(0, 5);\n",
        "  sigma_beta ~ cauchy(0, 5);\n",
        "  sigma_gamma ~ cauchy(0, 5);\n",
        "  y ~ bernoulli_logit(gamma[kk] .* (alpha[jj] - (beta[kk] + mu_beta)));\n",
        "}\n",
        "\"\"\"\n",
        "\n",
        "# Define the data\n",
        "data = {\n",
        "    'J': 800,\n",
        "    'K': 20,\n",
        "    'N': len(data),\n",
        "    'jj': data.user_id.values.astype(int),\n",
        "    'kk': data.question.values.astype(int),\n",
        "    'y': data.p_recall.values.astype(int)\n",
        "}\n",
        "\n",
        "# Compile the model\n",
        "model = stan.build(stan_code, data=data)\n",
        "\n",
        "# Fit the model\n",
        "fit = model.sample(num_chains=4)\n",
        "\n",
        "# Print the summary of the fit\n",
        "print(fit.summary())\n"
      ],
      "metadata": {
        "colab": {
          "base_uri": "https://localhost:8080/",
          "height": 242
        },
        "id": "5Qlnuk8L_aIr",
        "outputId": "c1acfe1b-21d1-451e-ceb9-846f9809e957"
      },
      "execution_count": null,
      "outputs": [
        {
          "output_type": "error",
          "ename": "ValueError",
          "evalue": "ignored",
          "traceback": [
            "\u001b[0;31m---------------------------------------------------------------------------\u001b[0m",
            "\u001b[0;31mValueError\u001b[0m                                Traceback (most recent call last)",
            "\u001b[0;32m<ipython-input-84-84f9162fbd49>\u001b[0m in \u001b[0;36m<module>\u001b[0;34m\u001b[0m\n\u001b[1;32m     35\u001b[0m     \u001b[0;34m'K'\u001b[0m\u001b[0;34m:\u001b[0m \u001b[0;36m20\u001b[0m\u001b[0;34m,\u001b[0m\u001b[0;34m\u001b[0m\u001b[0;34m\u001b[0m\u001b[0m\n\u001b[1;32m     36\u001b[0m     \u001b[0;34m'N'\u001b[0m\u001b[0;34m:\u001b[0m \u001b[0mlen\u001b[0m\u001b[0;34m(\u001b[0m\u001b[0mdata\u001b[0m\u001b[0;34m)\u001b[0m\u001b[0;34m,\u001b[0m\u001b[0;34m\u001b[0m\u001b[0;34m\u001b[0m\u001b[0m\n\u001b[0;32m---> 37\u001b[0;31m     \u001b[0;34m'jj'\u001b[0m\u001b[0;34m:\u001b[0m \u001b[0mdata\u001b[0m\u001b[0;34m.\u001b[0m\u001b[0muser_id\u001b[0m\u001b[0;34m.\u001b[0m\u001b[0mvalues\u001b[0m\u001b[0;34m.\u001b[0m\u001b[0mastype\u001b[0m\u001b[0;34m(\u001b[0m\u001b[0mint\u001b[0m\u001b[0;34m)\u001b[0m\u001b[0;34m,\u001b[0m\u001b[0;34m\u001b[0m\u001b[0;34m\u001b[0m\u001b[0m\n\u001b[0m\u001b[1;32m     38\u001b[0m     \u001b[0;34m'kk'\u001b[0m\u001b[0;34m:\u001b[0m \u001b[0mdata\u001b[0m\u001b[0;34m.\u001b[0m\u001b[0mquestion\u001b[0m\u001b[0;34m.\u001b[0m\u001b[0mvalues\u001b[0m\u001b[0;34m.\u001b[0m\u001b[0mastype\u001b[0m\u001b[0;34m(\u001b[0m\u001b[0mint\u001b[0m\u001b[0;34m)\u001b[0m\u001b[0;34m,\u001b[0m\u001b[0;34m\u001b[0m\u001b[0;34m\u001b[0m\u001b[0m\n\u001b[1;32m     39\u001b[0m     \u001b[0;34m'y'\u001b[0m\u001b[0;34m:\u001b[0m \u001b[0mdata\u001b[0m\u001b[0;34m.\u001b[0m\u001b[0mp_recall\u001b[0m\u001b[0;34m.\u001b[0m\u001b[0mvalues\u001b[0m\u001b[0;34m.\u001b[0m\u001b[0mastype\u001b[0m\u001b[0;34m(\u001b[0m\u001b[0mint\u001b[0m\u001b[0;34m)\u001b[0m\u001b[0;34m\u001b[0m\u001b[0;34m\u001b[0m\u001b[0m\n",
            "\u001b[0;31mValueError\u001b[0m: invalid literal for int() with base 10: 'u:FO'"
          ]
        }
      ]
    }
  ]
}