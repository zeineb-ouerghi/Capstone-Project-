{
  "cells": [
    {
      "cell_type": "markdown",
      "metadata": {
        "id": "view-in-github",
        "colab_type": "text"
      },
      "source": [
        "<a href=\"https://colab.research.google.com/github/zeineb-ouerghi/Capstone-Project-/blob/main/Capstone_Workbook.ipynb\" target=\"_parent\"><img src=\"https://colab.research.google.com/assets/colab-badge.svg\" alt=\"Open In Colab\"/></a>"
      ]
    },
    {
      "cell_type": "markdown",
      "metadata": {
        "id": "jDX1ic304_h2"
      },
      "source": [
        "#Capstone Project \n",
        "### MetaData For the Spaced Repitition Dataset from Duolingo\n",
        "* p_recall - proportion of exercises from this lesson/practice where the word/lexeme was correctly recalled\n",
        "* timestamp - UNIX timestamp of the current lesson/practice\n",
        "* delta - time (in seconds) since the last lesson/practice that included this word/lexeme\n",
        "* user_id - student user ID who did the lesson/practice (anonymized)\n",
        "learning_language - language being learned\n",
        "* ui_language - user interface language (presumably native to the student)\n",
        "* lexeme_id - system ID for the lexeme tag (i.e., word)\n",
        "* lexeme_string - lexeme tag (see below)\n",
        "* history_seen - total times user has seen the word/lexeme prior to this lesson/practice\n",
        "* history_correct - total times user has been correct for the word/lexeme prior to this lesson/practice\n",
        "* session_seen - times the user saw the word/lexeme during this lesson/practice\n",
        "* session_correct - times the user got the word/lexeme correct during this lesson/practice"
      ]
    },
    {
      "cell_type": "markdown",
      "source": [
        "###Installing Packages "
      ],
      "metadata": {
        "id": "Xo5VdHvovBLt"
      }
    },
    {
      "cell_type": "code",
      "execution_count": 1,
      "metadata": {
        "id": "j83sTFY74_h6",
        "outputId": "02ddfded-6e92-4fad-8471-dc37af85c633",
        "colab": {
          "base_uri": "https://localhost:8080/"
        }
      },
      "outputs": [
        {
          "output_type": "stream",
          "name": "stdout",
          "text": [
            "Looking in indexes: https://pypi.org/simple, https://us-python.pkg.dev/colab-wheels/public/simple/\n",
            "Requirement already satisfied: plotly in /usr/local/lib/python3.7/dist-packages (5.5.0)\n",
            "Requirement already satisfied: six in /usr/local/lib/python3.7/dist-packages (from plotly) (1.15.0)\n",
            "Requirement already satisfied: tenacity>=6.2.0 in /usr/local/lib/python3.7/dist-packages (from plotly) (8.1.0)\n"
          ]
        }
      ],
      "source": [
        "#installing packages \n",
        "!pip install plotly"
      ]
    },
    {
      "cell_type": "code",
      "execution_count": null,
      "metadata": {
        "id": "TEqLdop34_h8",
        "outputId": "4d9677d2-2f4b-4d49-d862-37e04ddecdec",
        "colab": {
          "base_uri": "https://localhost:8080/"
        }
      },
      "outputs": [
        {
          "output_type": "stream",
          "name": "stdout",
          "text": [
            "Looking in indexes: https://pypi.org/simple, https://us-python.pkg.dev/colab-wheels/public/simple/\n",
            "Collecting path\n",
            "  Downloading path-16.5.0-py3-none-any.whl (26 kB)\n",
            "Installing collected packages: path\n",
            "Successfully installed path-16.5.0\n"
          ]
        }
      ],
      "source": [
        "pip install path"
      ]
    },
    {
      "cell_type": "code",
      "execution_count": null,
      "metadata": {
        "id": "lP0EkxPj4_h8",
        "outputId": "6a64d469-d106-4084-cefa-a07ce3ce0d8f",
        "colab": {
          "base_uri": "https://localhost:8080/"
        }
      },
      "outputs": [
        {
          "output_type": "stream",
          "name": "stdout",
          "text": [
            "Looking in indexes: https://pypi.org/simple, https://us-python.pkg.dev/colab-wheels/public/simple/\n",
            "Collecting fastparquet\n",
            "  Downloading fastparquet-0.8.1-cp37-cp37m-manylinux_2_17_x86_64.manylinux2014_x86_64.whl (1.5 MB)\n",
            "\u001b[K     |████████████████████████████████| 1.5 MB 5.3 MB/s \n",
            "\u001b[?25hRequirement already satisfied: numpy>=1.18 in /usr/local/lib/python3.7/dist-packages (from fastparquet) (1.21.6)\n",
            "Collecting pandas>=1.1.0\n",
            "  Downloading pandas-1.3.5-cp37-cp37m-manylinux_2_17_x86_64.manylinux2014_x86_64.whl (11.3 MB)\n",
            "\u001b[K     |████████████████████████████████| 11.3 MB 36.3 MB/s \n",
            "\u001b[?25hCollecting cramjam>=2.3.0\n",
            "  Downloading cramjam-2.6.0-cp37-cp37m-manylinux_2_17_x86_64.manylinux2014_x86_64.whl (1.7 MB)\n",
            "\u001b[K     |████████████████████████████████| 1.7 MB 42.9 MB/s \n",
            "\u001b[?25hRequirement already satisfied: fsspec in /usr/local/lib/python3.7/dist-packages (from fastparquet) (2022.10.0)\n",
            "Requirement already satisfied: python-dateutil>=2.7.3 in /usr/local/lib/python3.7/dist-packages (from pandas>=1.1.0->fastparquet) (2.8.2)\n",
            "Requirement already satisfied: pytz>=2017.3 in /usr/local/lib/python3.7/dist-packages (from pandas>=1.1.0->fastparquet) (2022.5)\n",
            "Requirement already satisfied: six>=1.5 in /usr/local/lib/python3.7/dist-packages (from python-dateutil>=2.7.3->pandas>=1.1.0->fastparquet) (1.15.0)\n",
            "Installing collected packages: pandas, cramjam, fastparquet\n",
            "  Attempting uninstall: pandas\n",
            "    Found existing installation: pandas 0.25.0\n",
            "    Uninstalling pandas-0.25.0:\n",
            "      Successfully uninstalled pandas-0.25.0\n",
            "Successfully installed cramjam-2.6.0 fastparquet-0.8.1 pandas-1.3.5\n"
          ]
        }
      ],
      "source": [
        "pip install fastparquet"
      ]
    },
    {
      "cell_type": "code",
      "execution_count": null,
      "metadata": {
        "id": "VrJvxhem4_h9",
        "outputId": "49d8b9af-a721-45c5-a153-522c1ab58afb",
        "colab": {
          "base_uri": "https://localhost:8080/"
        }
      },
      "outputs": [
        {
          "output_type": "stream",
          "name": "stdout",
          "text": [
            "Looking in indexes: https://pypi.org/simple, https://us-python.pkg.dev/colab-wheels/public/simple/\n",
            "Collecting parquet\n",
            "  Downloading parquet-1.3.1-py3-none-any.whl (24 kB)\n",
            "Collecting thriftpy2\n",
            "  Downloading thriftpy2-0.4.14.tar.gz (361 kB)\n",
            "\u001b[K     |████████████████████████████████| 361 kB 7.8 MB/s \n",
            "\u001b[?25hCollecting ply<4.0,>=3.4\n",
            "  Downloading ply-3.11-py2.py3-none-any.whl (49 kB)\n",
            "\u001b[K     |████████████████████████████████| 49 kB 3.3 MB/s \n",
            "\u001b[?25hBuilding wheels for collected packages: thriftpy2\n",
            "  Building wheel for thriftpy2 (setup.py) ... \u001b[?25l\u001b[?25hdone\n",
            "  Created wheel for thriftpy2: filename=thriftpy2-0.4.14-cp37-cp37m-linux_x86_64.whl size=953337 sha256=02f5f661a11c07f070c13f63b0fd7930095fc714b7964e4cfe0a108d03305350\n",
            "  Stored in directory: /root/.cache/pip/wheels/2a/f5/49/9c0d851aa64b58db72883cf9393cc824d536bdf13f5c83cff4\n",
            "Successfully built thriftpy2\n",
            "Installing collected packages: ply, thriftpy2, parquet\n",
            "Successfully installed parquet-1.3.1 ply-3.11 thriftpy2-0.4.14\n"
          ]
        }
      ],
      "source": [
        "pip install parquet "
      ]
    },
    {
      "cell_type": "code",
      "source": [
        "! pip install https://github.com/pandas-profiling/pandas-profiling/archive/master.zip "
      ],
      "metadata": {
        "colab": {
          "base_uri": "https://localhost:8080/"
        },
        "id": "8uZO9DB9bWxc",
        "outputId": "91d655e3-c720-4321-b0c1-af3774a55e28"
      },
      "execution_count": 1,
      "outputs": [
        {
          "output_type": "stream",
          "name": "stdout",
          "text": [
            "Looking in indexes: https://pypi.org/simple, https://us-python.pkg.dev/colab-wheels/public/simple/\n",
            "Collecting https://github.com/pandas-profiling/pandas-profiling/archive/master.zip\n",
            "  Downloading https://github.com/pandas-profiling/pandas-profiling/archive/master.zip (22.0 MB)\n",
            "\u001b[K     |████████████████████████████████| 22.0 MB 6.0 MB/s \n",
            "\u001b[?25hRequirement already satisfied: scipy<1.10,>=1.4.1 in /usr/local/lib/python3.7/dist-packages (from pandas-profiling==3.4.0) (1.7.3)\n",
            "Requirement already satisfied: pandas!=1.4.0,<1.6,>1.1 in /usr/local/lib/python3.7/dist-packages (from pandas-profiling==3.4.0) (1.3.5)\n",
            "Requirement already satisfied: matplotlib<3.6,>=3.2 in /usr/local/lib/python3.7/dist-packages (from pandas-profiling==3.4.0) (3.2.2)\n",
            "Requirement already satisfied: pydantic<1.11,>=1.8.1 in /usr/local/lib/python3.7/dist-packages (from pandas-profiling==3.4.0) (1.10.2)\n",
            "Requirement already satisfied: PyYAML<6.1,>=5.0.0 in /usr/local/lib/python3.7/dist-packages (from pandas-profiling==3.4.0) (6.0)\n",
            "Requirement already satisfied: jinja2<3.2,>=2.11.1 in /usr/local/lib/python3.7/dist-packages (from pandas-profiling==3.4.0) (2.11.3)\n",
            "Collecting visions[type_image_path]==0.7.5\n",
            "  Downloading visions-0.7.5-py3-none-any.whl (102 kB)\n",
            "\u001b[K     |████████████████████████████████| 102 kB 5.2 MB/s \n",
            "\u001b[?25hRequirement already satisfied: numpy<1.24,>=1.16.0 in /usr/local/lib/python3.7/dist-packages (from pandas-profiling==3.4.0) (1.21.6)\n",
            "Collecting htmlmin==0.1.12\n",
            "  Downloading htmlmin-0.1.12.tar.gz (19 kB)\n",
            "Requirement already satisfied: missingno<0.6,>=0.4.2 in /usr/local/lib/python3.7/dist-packages (from pandas-profiling==3.4.0) (0.5.1)\n",
            "Collecting phik<0.13,>=0.11.1\n",
            "  Downloading phik-0.12.2-cp37-cp37m-manylinux_2_17_x86_64.manylinux2014_x86_64.whl (690 kB)\n",
            "\u001b[K     |████████████████████████████████| 690 kB 37.1 MB/s \n",
            "\u001b[?25hCollecting requests<2.29,>=2.24.0\n",
            "  Downloading requests-2.28.1-py3-none-any.whl (62 kB)\n",
            "\u001b[K     |████████████████████████████████| 62 kB 1.3 MB/s \n",
            "\u001b[?25hRequirement already satisfied: tqdm<4.65,>=4.48.2 in /usr/local/lib/python3.7/dist-packages (from pandas-profiling==3.4.0) (4.64.1)\n",
            "Requirement already satisfied: seaborn<0.13,>=0.10.1 in /usr/local/lib/python3.7/dist-packages (from pandas-profiling==3.4.0) (0.11.2)\n",
            "Collecting multimethod<1.10,>=1.4\n",
            "  Downloading multimethod-1.9-py3-none-any.whl (10 kB)\n",
            "Collecting statsmodels<0.14,>=0.13.2\n",
            "  Downloading statsmodels-0.13.2-cp37-cp37m-manylinux_2_17_x86_64.manylinux2014_x86_64.whl (9.8 MB)\n",
            "\u001b[K     |████████████████████████████████| 9.8 MB 52.5 MB/s \n",
            "\u001b[?25hRequirement already satisfied: attrs>=19.3.0 in /usr/local/lib/python3.7/dist-packages (from visions[type_image_path]==0.7.5->pandas-profiling==3.4.0) (22.1.0)\n",
            "Collecting tangled-up-in-unicode>=0.0.4\n",
            "  Downloading tangled_up_in_unicode-0.2.0-py3-none-any.whl (4.7 MB)\n",
            "\u001b[K     |████████████████████████████████| 4.7 MB 46.0 MB/s \n",
            "\u001b[?25hRequirement already satisfied: networkx>=2.4 in /usr/local/lib/python3.7/dist-packages (from visions[type_image_path]==0.7.5->pandas-profiling==3.4.0) (2.6.3)\n",
            "Requirement already satisfied: Pillow in /usr/local/lib/python3.7/dist-packages (from visions[type_image_path]==0.7.5->pandas-profiling==3.4.0) (7.1.2)\n",
            "Collecting imagehash\n",
            "  Downloading ImageHash-4.3.1-py2.py3-none-any.whl (296 kB)\n",
            "\u001b[K     |████████████████████████████████| 296 kB 44.2 MB/s \n",
            "\u001b[?25hRequirement already satisfied: MarkupSafe>=0.23 in /usr/local/lib/python3.7/dist-packages (from jinja2<3.2,>=2.11.1->pandas-profiling==3.4.0) (2.0.1)\n",
            "Requirement already satisfied: python-dateutil>=2.1 in /usr/local/lib/python3.7/dist-packages (from matplotlib<3.6,>=3.2->pandas-profiling==3.4.0) (2.8.2)\n",
            "Requirement already satisfied: cycler>=0.10 in /usr/local/lib/python3.7/dist-packages (from matplotlib<3.6,>=3.2->pandas-profiling==3.4.0) (0.11.0)\n",
            "Requirement already satisfied: kiwisolver>=1.0.1 in /usr/local/lib/python3.7/dist-packages (from matplotlib<3.6,>=3.2->pandas-profiling==3.4.0) (1.4.4)\n",
            "Requirement already satisfied: pyparsing!=2.0.4,!=2.1.2,!=2.1.6,>=2.0.1 in /usr/local/lib/python3.7/dist-packages (from matplotlib<3.6,>=3.2->pandas-profiling==3.4.0) (3.0.9)\n",
            "Requirement already satisfied: typing-extensions in /usr/local/lib/python3.7/dist-packages (from kiwisolver>=1.0.1->matplotlib<3.6,>=3.2->pandas-profiling==3.4.0) (4.1.1)\n",
            "Requirement already satisfied: pytz>=2017.3 in /usr/local/lib/python3.7/dist-packages (from pandas!=1.4.0,<1.6,>1.1->pandas-profiling==3.4.0) (2022.5)\n",
            "Requirement already satisfied: joblib>=0.14.1 in /usr/local/lib/python3.7/dist-packages (from phik<0.13,>=0.11.1->pandas-profiling==3.4.0) (1.2.0)\n",
            "Requirement already satisfied: six>=1.5 in /usr/local/lib/python3.7/dist-packages (from python-dateutil>=2.1->matplotlib<3.6,>=3.2->pandas-profiling==3.4.0) (1.15.0)\n",
            "Requirement already satisfied: certifi>=2017.4.17 in /usr/local/lib/python3.7/dist-packages (from requests<2.29,>=2.24.0->pandas-profiling==3.4.0) (2022.9.24)\n",
            "Requirement already satisfied: charset-normalizer<3,>=2 in /usr/local/lib/python3.7/dist-packages (from requests<2.29,>=2.24.0->pandas-profiling==3.4.0) (2.1.1)\n",
            "Requirement already satisfied: idna<4,>=2.5 in /usr/local/lib/python3.7/dist-packages (from requests<2.29,>=2.24.0->pandas-profiling==3.4.0) (2.10)\n",
            "Requirement already satisfied: urllib3<1.27,>=1.21.1 in /usr/local/lib/python3.7/dist-packages (from requests<2.29,>=2.24.0->pandas-profiling==3.4.0) (1.24.3)\n",
            "Requirement already satisfied: patsy>=0.5.2 in /usr/local/lib/python3.7/dist-packages (from statsmodels<0.14,>=0.13.2->pandas-profiling==3.4.0) (0.5.3)\n",
            "Requirement already satisfied: packaging>=21.3 in /usr/local/lib/python3.7/dist-packages (from statsmodels<0.14,>=0.13.2->pandas-profiling==3.4.0) (21.3)\n",
            "Requirement already satisfied: PyWavelets in /usr/local/lib/python3.7/dist-packages (from imagehash->visions[type_image_path]==0.7.5->pandas-profiling==3.4.0) (1.3.0)\n",
            "Building wheels for collected packages: pandas-profiling, htmlmin\n",
            "  Building wheel for pandas-profiling (setup.py) ... \u001b[?25l\u001b[?25hdone\n",
            "  Created wheel for pandas-profiling: filename=pandas_profiling-3.4.0-py2.py3-none-any.whl size=315269 sha256=9b76631e7f9dd0f1d7c4d0e1c601c90663481e9fa99d12486779d38b278c4375\n",
            "  Stored in directory: /tmp/pip-ephem-wheel-cache-xrdcvcpe/wheels/cc/d5/09/083fb07c9363a2f45854b0e3a7de7d7c560f07da74b9e9769d\n",
            "  Building wheel for htmlmin (setup.py) ... \u001b[?25l\u001b[?25hdone\n",
            "  Created wheel for htmlmin: filename=htmlmin-0.1.12-py3-none-any.whl size=27098 sha256=f279e6562daa3ee476c3a20c2de860684f86bb2e8fa3e6ca3870ebcf2e98e52f\n",
            "  Stored in directory: /root/.cache/pip/wheels/70/e1/52/5b14d250ba868768823940c3229e9950d201a26d0bd3ee8655\n",
            "Successfully built pandas-profiling htmlmin\n",
            "Installing collected packages: tangled-up-in-unicode, multimethod, visions, imagehash, statsmodels, requests, phik, htmlmin, pandas-profiling\n",
            "  Attempting uninstall: statsmodels\n",
            "    Found existing installation: statsmodels 0.12.2\n",
            "    Uninstalling statsmodels-0.12.2:\n",
            "      Successfully uninstalled statsmodels-0.12.2\n",
            "  Attempting uninstall: requests\n",
            "    Found existing installation: requests 2.23.0\n",
            "    Uninstalling requests-2.23.0:\n",
            "      Successfully uninstalled requests-2.23.0\n",
            "  Attempting uninstall: pandas-profiling\n",
            "    Found existing installation: pandas-profiling 1.4.1\n",
            "    Uninstalling pandas-profiling-1.4.1:\n",
            "      Successfully uninstalled pandas-profiling-1.4.1\n",
            "Successfully installed htmlmin-0.1.12 imagehash-4.3.1 multimethod-1.9 pandas-profiling-3.4.0 phik-0.12.2 requests-2.28.1 statsmodels-0.13.2 tangled-up-in-unicode-0.2.0 visions-0.7.5\n"
          ]
        }
      ]
    },
    {
      "cell_type": "code",
      "source": [
        "! pip install pandas==0.25."
      ],
      "metadata": {
        "colab": {
          "base_uri": "https://localhost:8080/"
        },
        "id": "jFu4fYGBPCDN",
        "outputId": "57831d6f-8e59-45c8-d5d6-8dad52d9a6ee"
      },
      "execution_count": null,
      "outputs": [
        {
          "output_type": "stream",
          "name": "stdout",
          "text": [
            "Looking in indexes: https://pypi.org/simple, https://us-python.pkg.dev/colab-wheels/public/simple/\n",
            "Requirement already satisfied: pandas==0.25. in /usr/local/lib/python3.7/dist-packages (0.25.0)\n",
            "Requirement already satisfied: numpy>=1.13.3 in /usr/local/lib/python3.7/dist-packages (from pandas==0.25.) (1.21.6)\n",
            "Requirement already satisfied: pytz>=2017.2 in /usr/local/lib/python3.7/dist-packages (from pandas==0.25.) (2022.5)\n",
            "Requirement already satisfied: python-dateutil>=2.6.1 in /usr/local/lib/python3.7/dist-packages (from pandas==0.25.) (2.8.2)\n",
            "Requirement already satisfied: six>=1.5 in /usr/local/lib/python3.7/dist-packages (from python-dateutil>=2.6.1->pandas==0.25.) (1.15.0)\n"
          ]
        }
      ]
    },
    {
      "cell_type": "code",
      "source": [
        "!pip install pandas-profiling==2.7.1 "
      ],
      "metadata": {
        "colab": {
          "base_uri": "https://localhost:8080/",
          "height": 1000
        },
        "id": "yiswe6Tr8MLA",
        "outputId": "b877c354-b9f1-483f-8cba-8dc1b892d8a4"
      },
      "execution_count": 7,
      "outputs": [
        {
          "output_type": "stream",
          "name": "stdout",
          "text": [
            "Looking in indexes: https://pypi.org/simple, https://us-python.pkg.dev/colab-wheels/public/simple/\n",
            "Collecting pandas-profiling==2.7.1\n",
            "  Downloading pandas_profiling-2.7.1-py2.py3-none-any.whl (252 kB)\n",
            "\u001b[K     |████████████████████████████████| 252 kB 5.1 MB/s \n",
            "\u001b[?25hRequirement already satisfied: requests>=2.23.0 in /usr/local/lib/python3.7/dist-packages (from pandas-profiling==2.7.1) (2.28.1)\n",
            "Collecting confuse>=1.0.0\n",
            "  Downloading confuse-2.0.0-py3-none-any.whl (24 kB)\n",
            "Requirement already satisfied: htmlmin>=0.1.12 in /usr/local/lib/python3.7/dist-packages (from pandas-profiling==2.7.1) (0.1.12)\n",
            "Requirement already satisfied: numpy>=1.16.0 in /usr/local/lib/python3.7/dist-packages (from pandas-profiling==2.7.1) (1.21.6)\n",
            "Requirement already satisfied: scipy>=1.4.1 in /usr/local/lib/python3.7/dist-packages (from pandas-profiling==2.7.1) (1.7.3)\n",
            "Requirement already satisfied: missingno>=0.4.2 in /usr/local/lib/python3.7/dist-packages (from pandas-profiling==2.7.1) (0.5.1)\n",
            "Requirement already satisfied: joblib in /usr/local/lib/python3.7/dist-packages (from pandas-profiling==2.7.1) (1.2.0)\n",
            "Requirement already satisfied: tangled-up-in-unicode>=0.0.4 in /usr/local/lib/python3.7/dist-packages (from pandas-profiling==2.7.1) (0.2.0)\n",
            "Requirement already satisfied: tqdm>=4.43.0 in /usr/local/lib/python3.7/dist-packages (from pandas-profiling==2.7.1) (4.64.1)\n",
            "Requirement already satisfied: pandas!=1.0.0,!=1.0.1,!=1.0.2,>=0.25.3 in /usr/local/lib/python3.7/dist-packages (from pandas-profiling==2.7.1) (1.3.5)\n",
            "Requirement already satisfied: jinja2>=2.11.1 in /usr/local/lib/python3.7/dist-packages (from pandas-profiling==2.7.1) (2.11.3)\n",
            "Requirement already satisfied: ipywidgets>=7.5.1 in /usr/local/lib/python3.7/dist-packages (from pandas-profiling==2.7.1) (7.7.1)\n",
            "Requirement already satisfied: phik>=0.9.10 in /usr/local/lib/python3.7/dist-packages (from pandas-profiling==2.7.1) (0.12.2)\n",
            "Requirement already satisfied: astropy>=4.0 in /usr/local/lib/python3.7/dist-packages (from pandas-profiling==2.7.1) (4.3.1)\n",
            "Collecting visions[type_image_path]==0.4.1\n",
            "  Downloading visions-0.4.1-py3-none-any.whl (58 kB)\n",
            "\u001b[K     |████████████████████████████████| 58 kB 6.1 MB/s \n",
            "\u001b[?25hRequirement already satisfied: matplotlib>=3.2.0 in /usr/local/lib/python3.7/dist-packages (from pandas-profiling==2.7.1) (3.2.2)\n",
            "Requirement already satisfied: networkx>=2.4 in /usr/local/lib/python3.7/dist-packages (from visions[type_image_path]==0.4.1->pandas-profiling==2.7.1) (2.6.3)\n",
            "Requirement already satisfied: attrs>=19.3.0 in /usr/local/lib/python3.7/dist-packages (from visions[type_image_path]==0.4.1->pandas-profiling==2.7.1) (22.1.0)\n",
            "Requirement already satisfied: imagehash in /usr/local/lib/python3.7/dist-packages (from visions[type_image_path]==0.4.1->pandas-profiling==2.7.1) (4.3.1)\n",
            "Requirement already satisfied: Pillow in /usr/local/lib/python3.7/dist-packages (from visions[type_image_path]==0.4.1->pandas-profiling==2.7.1) (7.1.2)\n",
            "Requirement already satisfied: importlib-metadata in /usr/local/lib/python3.7/dist-packages (from astropy>=4.0->pandas-profiling==2.7.1) (4.13.0)\n",
            "Requirement already satisfied: pyerfa>=1.7.3 in /usr/local/lib/python3.7/dist-packages (from astropy>=4.0->pandas-profiling==2.7.1) (2.0.0.1)\n",
            "Requirement already satisfied: pyyaml in /usr/local/lib/python3.7/dist-packages (from confuse>=1.0.0->pandas-profiling==2.7.1) (6.0)\n",
            "Requirement already satisfied: traitlets>=4.3.1 in /usr/local/lib/python3.7/dist-packages (from ipywidgets>=7.5.1->pandas-profiling==2.7.1) (5.1.1)\n",
            "Requirement already satisfied: ipython-genutils~=0.2.0 in /usr/local/lib/python3.7/dist-packages (from ipywidgets>=7.5.1->pandas-profiling==2.7.1) (0.2.0)\n",
            "Requirement already satisfied: ipython>=4.0.0 in /usr/local/lib/python3.7/dist-packages (from ipywidgets>=7.5.1->pandas-profiling==2.7.1) (7.9.0)\n",
            "Requirement already satisfied: widgetsnbextension~=3.6.0 in /usr/local/lib/python3.7/dist-packages (from ipywidgets>=7.5.1->pandas-profiling==2.7.1) (3.6.1)\n",
            "Requirement already satisfied: jupyterlab-widgets>=1.0.0 in /usr/local/lib/python3.7/dist-packages (from ipywidgets>=7.5.1->pandas-profiling==2.7.1) (3.0.3)\n",
            "Requirement already satisfied: ipykernel>=4.5.1 in /usr/local/lib/python3.7/dist-packages (from ipywidgets>=7.5.1->pandas-profiling==2.7.1) (5.3.4)\n",
            "Requirement already satisfied: tornado>=4.2 in /usr/local/lib/python3.7/dist-packages (from ipykernel>=4.5.1->ipywidgets>=7.5.1->pandas-profiling==2.7.1) (5.1.1)\n",
            "Requirement already satisfied: jupyter-client in /usr/local/lib/python3.7/dist-packages (from ipykernel>=4.5.1->ipywidgets>=7.5.1->pandas-profiling==2.7.1) (6.1.12)\n",
            "Requirement already satisfied: pickleshare in /usr/local/lib/python3.7/dist-packages (from ipython>=4.0.0->ipywidgets>=7.5.1->pandas-profiling==2.7.1) (0.7.5)\n",
            "Requirement already satisfied: pygments in /usr/local/lib/python3.7/dist-packages (from ipython>=4.0.0->ipywidgets>=7.5.1->pandas-profiling==2.7.1) (2.6.1)\n",
            "Requirement already satisfied: pexpect in /usr/local/lib/python3.7/dist-packages (from ipython>=4.0.0->ipywidgets>=7.5.1->pandas-profiling==2.7.1) (4.8.0)\n",
            "Collecting jedi>=0.10\n",
            "  Downloading jedi-0.18.1-py2.py3-none-any.whl (1.6 MB)\n",
            "\u001b[K     |████████████████████████████████| 1.6 MB 49.8 MB/s \n",
            "\u001b[?25hRequirement already satisfied: setuptools>=18.5 in /usr/local/lib/python3.7/dist-packages (from ipython>=4.0.0->ipywidgets>=7.5.1->pandas-profiling==2.7.1) (57.4.0)\n",
            "Requirement already satisfied: backcall in /usr/local/lib/python3.7/dist-packages (from ipython>=4.0.0->ipywidgets>=7.5.1->pandas-profiling==2.7.1) (0.2.0)\n",
            "Requirement already satisfied: decorator in /usr/local/lib/python3.7/dist-packages (from ipython>=4.0.0->ipywidgets>=7.5.1->pandas-profiling==2.7.1) (4.4.2)\n",
            "Requirement already satisfied: prompt-toolkit<2.1.0,>=2.0.0 in /usr/local/lib/python3.7/dist-packages (from ipython>=4.0.0->ipywidgets>=7.5.1->pandas-profiling==2.7.1) (2.0.10)\n",
            "Requirement already satisfied: parso<0.9.0,>=0.8.0 in /usr/local/lib/python3.7/dist-packages (from jedi>=0.10->ipython>=4.0.0->ipywidgets>=7.5.1->pandas-profiling==2.7.1) (0.8.3)\n",
            "Requirement already satisfied: MarkupSafe>=0.23 in /usr/local/lib/python3.7/dist-packages (from jinja2>=2.11.1->pandas-profiling==2.7.1) (2.0.1)\n",
            "Requirement already satisfied: python-dateutil>=2.1 in /usr/local/lib/python3.7/dist-packages (from matplotlib>=3.2.0->pandas-profiling==2.7.1) (2.8.2)\n",
            "Requirement already satisfied: kiwisolver>=1.0.1 in /usr/local/lib/python3.7/dist-packages (from matplotlib>=3.2.0->pandas-profiling==2.7.1) (1.4.4)\n",
            "Requirement already satisfied: cycler>=0.10 in /usr/local/lib/python3.7/dist-packages (from matplotlib>=3.2.0->pandas-profiling==2.7.1) (0.11.0)\n",
            "Requirement already satisfied: pyparsing!=2.0.4,!=2.1.2,!=2.1.6,>=2.0.1 in /usr/local/lib/python3.7/dist-packages (from matplotlib>=3.2.0->pandas-profiling==2.7.1) (3.0.9)\n",
            "Requirement already satisfied: typing-extensions in /usr/local/lib/python3.7/dist-packages (from kiwisolver>=1.0.1->matplotlib>=3.2.0->pandas-profiling==2.7.1) (4.1.1)\n",
            "Requirement already satisfied: seaborn in /usr/local/lib/python3.7/dist-packages (from missingno>=0.4.2->pandas-profiling==2.7.1) (0.11.2)\n",
            "Requirement already satisfied: pytz>=2017.3 in /usr/local/lib/python3.7/dist-packages (from pandas!=1.0.0,!=1.0.1,!=1.0.2,>=0.25.3->pandas-profiling==2.7.1) (2022.5)\n",
            "Requirement already satisfied: six>=1.9.0 in /usr/local/lib/python3.7/dist-packages (from prompt-toolkit<2.1.0,>=2.0.0->ipython>=4.0.0->ipywidgets>=7.5.1->pandas-profiling==2.7.1) (1.15.0)\n",
            "Requirement already satisfied: wcwidth in /usr/local/lib/python3.7/dist-packages (from prompt-toolkit<2.1.0,>=2.0.0->ipython>=4.0.0->ipywidgets>=7.5.1->pandas-profiling==2.7.1) (0.2.5)\n",
            "Requirement already satisfied: urllib3<1.27,>=1.21.1 in /usr/local/lib/python3.7/dist-packages (from requests>=2.23.0->pandas-profiling==2.7.1) (1.24.3)\n",
            "Requirement already satisfied: certifi>=2017.4.17 in /usr/local/lib/python3.7/dist-packages (from requests>=2.23.0->pandas-profiling==2.7.1) (2022.9.24)\n",
            "Requirement already satisfied: idna<4,>=2.5 in /usr/local/lib/python3.7/dist-packages (from requests>=2.23.0->pandas-profiling==2.7.1) (2.10)\n",
            "Requirement already satisfied: charset-normalizer<3,>=2 in /usr/local/lib/python3.7/dist-packages (from requests>=2.23.0->pandas-profiling==2.7.1) (2.1.1)\n",
            "Requirement already satisfied: notebook>=4.4.1 in /usr/local/lib/python3.7/dist-packages (from widgetsnbextension~=3.6.0->ipywidgets>=7.5.1->pandas-profiling==2.7.1) (5.5.0)\n",
            "Requirement already satisfied: jupyter-core>=4.4.0 in /usr/local/lib/python3.7/dist-packages (from notebook>=4.4.1->widgetsnbextension~=3.6.0->ipywidgets>=7.5.1->pandas-profiling==2.7.1) (4.11.2)\n",
            "Requirement already satisfied: pyzmq>=17 in /usr/local/lib/python3.7/dist-packages (from notebook>=4.4.1->widgetsnbextension~=3.6.0->ipywidgets>=7.5.1->pandas-profiling==2.7.1) (23.2.1)\n",
            "Requirement already satisfied: terminado>=0.8.1 in /usr/local/lib/python3.7/dist-packages (from notebook>=4.4.1->widgetsnbextension~=3.6.0->ipywidgets>=7.5.1->pandas-profiling==2.7.1) (0.13.3)\n",
            "Requirement already satisfied: nbformat in /usr/local/lib/python3.7/dist-packages (from notebook>=4.4.1->widgetsnbextension~=3.6.0->ipywidgets>=7.5.1->pandas-profiling==2.7.1) (5.7.0)\n",
            "Requirement already satisfied: nbconvert in /usr/local/lib/python3.7/dist-packages (from notebook>=4.4.1->widgetsnbextension~=3.6.0->ipywidgets>=7.5.1->pandas-profiling==2.7.1) (5.6.1)\n",
            "Requirement already satisfied: Send2Trash in /usr/local/lib/python3.7/dist-packages (from notebook>=4.4.1->widgetsnbextension~=3.6.0->ipywidgets>=7.5.1->pandas-profiling==2.7.1) (1.8.0)\n",
            "Requirement already satisfied: ptyprocess in /usr/local/lib/python3.7/dist-packages (from terminado>=0.8.1->notebook>=4.4.1->widgetsnbextension~=3.6.0->ipywidgets>=7.5.1->pandas-profiling==2.7.1) (0.7.0)\n",
            "Requirement already satisfied: PyWavelets in /usr/local/lib/python3.7/dist-packages (from imagehash->visions[type_image_path]==0.4.1->pandas-profiling==2.7.1) (1.3.0)\n",
            "Requirement already satisfied: zipp>=0.5 in /usr/local/lib/python3.7/dist-packages (from importlib-metadata->astropy>=4.0->pandas-profiling==2.7.1) (3.9.0)\n",
            "Requirement already satisfied: testpath in /usr/local/lib/python3.7/dist-packages (from nbconvert->notebook>=4.4.1->widgetsnbextension~=3.6.0->ipywidgets>=7.5.1->pandas-profiling==2.7.1) (0.6.0)\n",
            "Requirement already satisfied: defusedxml in /usr/local/lib/python3.7/dist-packages (from nbconvert->notebook>=4.4.1->widgetsnbextension~=3.6.0->ipywidgets>=7.5.1->pandas-profiling==2.7.1) (0.7.1)\n",
            "Requirement already satisfied: bleach in /usr/local/lib/python3.7/dist-packages (from nbconvert->notebook>=4.4.1->widgetsnbextension~=3.6.0->ipywidgets>=7.5.1->pandas-profiling==2.7.1) (5.0.1)\n",
            "Requirement already satisfied: mistune<2,>=0.8.1 in /usr/local/lib/python3.7/dist-packages (from nbconvert->notebook>=4.4.1->widgetsnbextension~=3.6.0->ipywidgets>=7.5.1->pandas-profiling==2.7.1) (0.8.4)\n",
            "Requirement already satisfied: entrypoints>=0.2.2 in /usr/local/lib/python3.7/dist-packages (from nbconvert->notebook>=4.4.1->widgetsnbextension~=3.6.0->ipywidgets>=7.5.1->pandas-profiling==2.7.1) (0.4)\n",
            "Requirement already satisfied: pandocfilters>=1.4.1 in /usr/local/lib/python3.7/dist-packages (from nbconvert->notebook>=4.4.1->widgetsnbextension~=3.6.0->ipywidgets>=7.5.1->pandas-profiling==2.7.1) (1.5.0)\n",
            "Requirement already satisfied: jsonschema>=2.6 in /usr/local/lib/python3.7/dist-packages (from nbformat->notebook>=4.4.1->widgetsnbextension~=3.6.0->ipywidgets>=7.5.1->pandas-profiling==2.7.1) (4.3.3)\n",
            "Requirement already satisfied: fastjsonschema in /usr/local/lib/python3.7/dist-packages (from nbformat->notebook>=4.4.1->widgetsnbextension~=3.6.0->ipywidgets>=7.5.1->pandas-profiling==2.7.1) (2.16.2)\n",
            "Requirement already satisfied: pyrsistent!=0.17.0,!=0.17.1,!=0.17.2,>=0.14.0 in /usr/local/lib/python3.7/dist-packages (from jsonschema>=2.6->nbformat->notebook>=4.4.1->widgetsnbextension~=3.6.0->ipywidgets>=7.5.1->pandas-profiling==2.7.1) (0.18.1)\n",
            "Requirement already satisfied: importlib-resources>=1.4.0 in /usr/local/lib/python3.7/dist-packages (from jsonschema>=2.6->nbformat->notebook>=4.4.1->widgetsnbextension~=3.6.0->ipywidgets>=7.5.1->pandas-profiling==2.7.1) (5.10.0)\n",
            "Requirement already satisfied: webencodings in /usr/local/lib/python3.7/dist-packages (from bleach->nbconvert->notebook>=4.4.1->widgetsnbextension~=3.6.0->ipywidgets>=7.5.1->pandas-profiling==2.7.1) (0.5.1)\n",
            "Installing collected packages: jedi, visions, confuse, pandas-profiling\n",
            "  Attempting uninstall: visions\n",
            "    Found existing installation: visions 0.7.5\n",
            "    Uninstalling visions-0.7.5:\n",
            "      Successfully uninstalled visions-0.7.5\n",
            "  Attempting uninstall: pandas-profiling\n",
            "    Found existing installation: pandas-profiling 3.4.0\n",
            "    Uninstalling pandas-profiling-3.4.0:\n",
            "      Successfully uninstalled pandas-profiling-3.4.0\n",
            "Successfully installed confuse-2.0.0 jedi-0.18.1 pandas-profiling-2.7.1 visions-0.4.1\n"
          ]
        },
        {
          "output_type": "display_data",
          "data": {
            "application/vnd.colab-display-data+json": {
              "pip_warning": {
                "packages": [
                  "pandas_profiling",
                  "visions"
                ]
              }
            }
          },
          "metadata": {}
        }
      ]
    },
    {
      "cell_type": "markdown",
      "source": [
        "###Importing Libraries "
      ],
      "metadata": {
        "id": "xsqvtadqvG-B"
      }
    },
    {
      "cell_type": "code",
      "execution_count": 2,
      "metadata": {
        "id": "VoEbTPrg4_h9"
      },
      "outputs": [],
      "source": [
        "#importing from pandas_profilinh\n",
        "from datetime import datetime\n",
        "from pathlib import Path\n",
        "import pandas as pd\n",
        "import numpy as np\n",
        "from pandas_profiling import ProfileReport\n",
        "from sklearn.preprocessing import StandardScaler\n",
        "from sklearn.model_selection import train_test_split\n",
        "from sklearn.model_selection import KFold, cross_val_score\n",
        "from sklearn.pipeline import Pipeline\n",
        "import matplotlib.pyplot as plt\n",
        "from sklearn.decomposition import PCA\n",
        "from sklearn.metrics import classification_report\n",
        "%matplotlib inline"
      ]
    },
    {
      "cell_type": "code",
      "execution_count": 3,
      "metadata": {
        "id": "rv0AQ1T44_h-"
      },
      "outputs": [],
      "source": [
        "# Load packages\n",
        "import seaborn as sns\n",
        "from sklearn.model_selection import train_test_split\n",
        "from sklearn.linear_model import LogisticRegression\n",
        "from sklearn.metrics import (\n",
        "    accuracy_score,\n",
        "    confusion_matrix,\n",
        "    precision_score,\n",
        "    recall_score,\n",
        "    RocCurveDisplay,\n",
        ")\n",
        "from sklearn.model_selection import RandomizedSearchCV\n",
        "from sklearn.preprocessing import StandardScaler\n",
        "from sklearn import preprocessing\n",
        "from sklearn import utils"
      ]
    },
    {
      "cell_type": "code",
      "execution_count": 4,
      "metadata": {
        "id": "NEWR1kGY4_h_"
      },
      "outputs": [],
      "source": [
        "import plotly.express as px\n",
        "import plotly.graph_objects as go\n",
        "from plotly.subplots import make_subplots"
      ]
    },
    {
      "cell_type": "markdown",
      "metadata": {
        "id": "vL6AOZaM4_iA"
      },
      "source": [
        "### Data Acquisition "
      ]
    },
    {
      "cell_type": "code",
      "source": [
        "from google.colab import drive\n",
        "drive.mount('/content/drive')"
      ],
      "metadata": {
        "id": "Fi4iEYXUnlyp",
        "colab": {
          "base_uri": "https://localhost:8080/"
        },
        "outputId": "8374abad-d5b8-4212-e52b-205bfe8b8410"
      },
      "execution_count": 5,
      "outputs": [
        {
          "output_type": "stream",
          "name": "stdout",
          "text": [
            "Drive already mounted at /content/drive; to attempt to forcibly remount, call drive.mount(\"/content/drive\", force_remount=True).\n"
          ]
        }
      ]
    },
    {
      "cell_type": "code",
      "execution_count": 40,
      "metadata": {
        "colab": {
          "base_uri": "https://localhost:8080/",
          "height": 374
        },
        "id": "55NLJPr24_iA",
        "outputId": "29364dec-6ff3-4a30-fb67-4399828e2b9f"
      },
      "outputs": [
        {
          "output_type": "execute_result",
          "data": {
            "text/plain": [
              "   p_recall   timestamp     delta user_id learning_language ui_language  \\\n",
              "0       1.0  1362076081  27649635    u:FO                de          en   \n",
              "1       0.5  1362076081  27649635    u:FO                de          en   \n",
              "2       1.0  1362076081  27649635    u:FO                de          en   \n",
              "3       0.5  1362076081  27649635    u:FO                de          en   \n",
              "4       1.0  1362076081  27649635    u:FO                de          en   \n",
              "\n",
              "                          lexeme_id                     lexeme_string  \\\n",
              "0  76390c1350a8dac31186187e2fe1e178  lernt/lernen<vblex><pri><p3><sg>   \n",
              "1  7dfd7086f3671685e2cf1c1da72796d7     die/die<det><def><f><sg><nom>   \n",
              "2  35a54c25a2cda8127343f6a82e6f6b7d          mann/mann<n><m><sg><nom>   \n",
              "3  0cf63ffe3dda158bc3dbd55682b355ae          frau/frau<n><f><sg><nom>   \n",
              "4  84920990d78044db53c1b012f5bf9ab5    das/das<det><def><nt><sg><nom>   \n",
              "\n",
              "   history_seen  history_correct  session_seen  session_correct  \n",
              "0             6                4             2                2  \n",
              "1             4                4             2                1  \n",
              "2             5                4             1                1  \n",
              "3             6                5             2                1  \n",
              "4             4                4             1                1  "
            ],
            "text/html": [
              "\n",
              "  <div id=\"df-122cb52f-a83e-4824-b10f-5bf19ca27963\">\n",
              "    <div class=\"colab-df-container\">\n",
              "      <div>\n",
              "<style scoped>\n",
              "    .dataframe tbody tr th:only-of-type {\n",
              "        vertical-align: middle;\n",
              "    }\n",
              "\n",
              "    .dataframe tbody tr th {\n",
              "        vertical-align: top;\n",
              "    }\n",
              "\n",
              "    .dataframe thead th {\n",
              "        text-align: right;\n",
              "    }\n",
              "</style>\n",
              "<table border=\"1\" class=\"dataframe\">\n",
              "  <thead>\n",
              "    <tr style=\"text-align: right;\">\n",
              "      <th></th>\n",
              "      <th>p_recall</th>\n",
              "      <th>timestamp</th>\n",
              "      <th>delta</th>\n",
              "      <th>user_id</th>\n",
              "      <th>learning_language</th>\n",
              "      <th>ui_language</th>\n",
              "      <th>lexeme_id</th>\n",
              "      <th>lexeme_string</th>\n",
              "      <th>history_seen</th>\n",
              "      <th>history_correct</th>\n",
              "      <th>session_seen</th>\n",
              "      <th>session_correct</th>\n",
              "    </tr>\n",
              "  </thead>\n",
              "  <tbody>\n",
              "    <tr>\n",
              "      <th>0</th>\n",
              "      <td>1.0</td>\n",
              "      <td>1362076081</td>\n",
              "      <td>27649635</td>\n",
              "      <td>u:FO</td>\n",
              "      <td>de</td>\n",
              "      <td>en</td>\n",
              "      <td>76390c1350a8dac31186187e2fe1e178</td>\n",
              "      <td>lernt/lernen&lt;vblex&gt;&lt;pri&gt;&lt;p3&gt;&lt;sg&gt;</td>\n",
              "      <td>6</td>\n",
              "      <td>4</td>\n",
              "      <td>2</td>\n",
              "      <td>2</td>\n",
              "    </tr>\n",
              "    <tr>\n",
              "      <th>1</th>\n",
              "      <td>0.5</td>\n",
              "      <td>1362076081</td>\n",
              "      <td>27649635</td>\n",
              "      <td>u:FO</td>\n",
              "      <td>de</td>\n",
              "      <td>en</td>\n",
              "      <td>7dfd7086f3671685e2cf1c1da72796d7</td>\n",
              "      <td>die/die&lt;det&gt;&lt;def&gt;&lt;f&gt;&lt;sg&gt;&lt;nom&gt;</td>\n",
              "      <td>4</td>\n",
              "      <td>4</td>\n",
              "      <td>2</td>\n",
              "      <td>1</td>\n",
              "    </tr>\n",
              "    <tr>\n",
              "      <th>2</th>\n",
              "      <td>1.0</td>\n",
              "      <td>1362076081</td>\n",
              "      <td>27649635</td>\n",
              "      <td>u:FO</td>\n",
              "      <td>de</td>\n",
              "      <td>en</td>\n",
              "      <td>35a54c25a2cda8127343f6a82e6f6b7d</td>\n",
              "      <td>mann/mann&lt;n&gt;&lt;m&gt;&lt;sg&gt;&lt;nom&gt;</td>\n",
              "      <td>5</td>\n",
              "      <td>4</td>\n",
              "      <td>1</td>\n",
              "      <td>1</td>\n",
              "    </tr>\n",
              "    <tr>\n",
              "      <th>3</th>\n",
              "      <td>0.5</td>\n",
              "      <td>1362076081</td>\n",
              "      <td>27649635</td>\n",
              "      <td>u:FO</td>\n",
              "      <td>de</td>\n",
              "      <td>en</td>\n",
              "      <td>0cf63ffe3dda158bc3dbd55682b355ae</td>\n",
              "      <td>frau/frau&lt;n&gt;&lt;f&gt;&lt;sg&gt;&lt;nom&gt;</td>\n",
              "      <td>6</td>\n",
              "      <td>5</td>\n",
              "      <td>2</td>\n",
              "      <td>1</td>\n",
              "    </tr>\n",
              "    <tr>\n",
              "      <th>4</th>\n",
              "      <td>1.0</td>\n",
              "      <td>1362076081</td>\n",
              "      <td>27649635</td>\n",
              "      <td>u:FO</td>\n",
              "      <td>de</td>\n",
              "      <td>en</td>\n",
              "      <td>84920990d78044db53c1b012f5bf9ab5</td>\n",
              "      <td>das/das&lt;det&gt;&lt;def&gt;&lt;nt&gt;&lt;sg&gt;&lt;nom&gt;</td>\n",
              "      <td>4</td>\n",
              "      <td>4</td>\n",
              "      <td>1</td>\n",
              "      <td>1</td>\n",
              "    </tr>\n",
              "  </tbody>\n",
              "</table>\n",
              "</div>\n",
              "      <button class=\"colab-df-convert\" onclick=\"convertToInteractive('df-122cb52f-a83e-4824-b10f-5bf19ca27963')\"\n",
              "              title=\"Convert this dataframe to an interactive table.\"\n",
              "              style=\"display:none;\">\n",
              "        \n",
              "  <svg xmlns=\"http://www.w3.org/2000/svg\" height=\"24px\"viewBox=\"0 0 24 24\"\n",
              "       width=\"24px\">\n",
              "    <path d=\"M0 0h24v24H0V0z\" fill=\"none\"/>\n",
              "    <path d=\"M18.56 5.44l.94 2.06.94-2.06 2.06-.94-2.06-.94-.94-2.06-.94 2.06-2.06.94zm-11 1L8.5 8.5l.94-2.06 2.06-.94-2.06-.94L8.5 2.5l-.94 2.06-2.06.94zm10 10l.94 2.06.94-2.06 2.06-.94-2.06-.94-.94-2.06-.94 2.06-2.06.94z\"/><path d=\"M17.41 7.96l-1.37-1.37c-.4-.4-.92-.59-1.43-.59-.52 0-1.04.2-1.43.59L10.3 9.45l-7.72 7.72c-.78.78-.78 2.05 0 2.83L4 21.41c.39.39.9.59 1.41.59.51 0 1.02-.2 1.41-.59l7.78-7.78 2.81-2.81c.8-.78.8-2.07 0-2.86zM5.41 20L4 18.59l7.72-7.72 1.47 1.35L5.41 20z\"/>\n",
              "  </svg>\n",
              "      </button>\n",
              "      \n",
              "  <style>\n",
              "    .colab-df-container {\n",
              "      display:flex;\n",
              "      flex-wrap:wrap;\n",
              "      gap: 12px;\n",
              "    }\n",
              "\n",
              "    .colab-df-convert {\n",
              "      background-color: #E8F0FE;\n",
              "      border: none;\n",
              "      border-radius: 50%;\n",
              "      cursor: pointer;\n",
              "      display: none;\n",
              "      fill: #1967D2;\n",
              "      height: 32px;\n",
              "      padding: 0 0 0 0;\n",
              "      width: 32px;\n",
              "    }\n",
              "\n",
              "    .colab-df-convert:hover {\n",
              "      background-color: #E2EBFA;\n",
              "      box-shadow: 0px 1px 2px rgba(60, 64, 67, 0.3), 0px 1px 3px 1px rgba(60, 64, 67, 0.15);\n",
              "      fill: #174EA6;\n",
              "    }\n",
              "\n",
              "    [theme=dark] .colab-df-convert {\n",
              "      background-color: #3B4455;\n",
              "      fill: #D2E3FC;\n",
              "    }\n",
              "\n",
              "    [theme=dark] .colab-df-convert:hover {\n",
              "      background-color: #434B5C;\n",
              "      box-shadow: 0px 1px 3px 1px rgba(0, 0, 0, 0.15);\n",
              "      filter: drop-shadow(0px 1px 2px rgba(0, 0, 0, 0.3));\n",
              "      fill: #FFFFFF;\n",
              "    }\n",
              "  </style>\n",
              "\n",
              "      <script>\n",
              "        const buttonEl =\n",
              "          document.querySelector('#df-122cb52f-a83e-4824-b10f-5bf19ca27963 button.colab-df-convert');\n",
              "        buttonEl.style.display =\n",
              "          google.colab.kernel.accessAllowed ? 'block' : 'none';\n",
              "\n",
              "        async function convertToInteractive(key) {\n",
              "          const element = document.querySelector('#df-122cb52f-a83e-4824-b10f-5bf19ca27963');\n",
              "          const dataTable =\n",
              "            await google.colab.kernel.invokeFunction('convertToInteractive',\n",
              "                                                     [key], {});\n",
              "          if (!dataTable) return;\n",
              "\n",
              "          const docLinkHtml = 'Like what you see? Visit the ' +\n",
              "            '<a target=\"_blank\" href=https://colab.research.google.com/notebooks/data_table.ipynb>data table notebook</a>'\n",
              "            + ' to learn more about interactive tables.';\n",
              "          element.innerHTML = '';\n",
              "          dataTable['output_type'] = 'display_data';\n",
              "          await google.colab.output.renderOutput(dataTable, element);\n",
              "          const docLink = document.createElement('div');\n",
              "          docLink.innerHTML = docLinkHtml;\n",
              "          element.appendChild(docLink);\n",
              "        }\n",
              "      </script>\n",
              "    </div>\n",
              "  </div>\n",
              "  "
            ]
          },
          "metadata": {},
          "execution_count": 40
        }
      ],
      "source": [
        "## data acquisition \n",
        "## Spaced repetition DATA from Duolingo Research \n",
        "dataframe = pd.read_csv(\"/content/drive/MyDrive/Capstone Project/duolingodata.csv.gz\")\n",
        "dataframe.head()"
      ]
    },
    {
      "cell_type": "code",
      "source": [
        "from pandas_profiling import ProfileReport \n",
        "profile = ProfileReport(dataframe)"
      ],
      "metadata": {
        "id": "fc5qQLbWOv-G"
      },
      "execution_count": 7,
      "outputs": []
    },
    {
      "cell_type": "code",
      "source": [
        "#ProfileReport(dataframe)"
      ],
      "metadata": {
        "id": "tmzr9h5YhhH2"
      },
      "execution_count": 41,
      "outputs": []
    },
    {
      "cell_type": "code",
      "source": [
        "#data \n",
        "x = dataframe['learning_language'].unique()\n",
        "x"
      ],
      "metadata": {
        "id": "XiVQCBCYnO_Q",
        "colab": {
          "base_uri": "https://localhost:8080/"
        },
        "outputId": "ac779558-bdb6-48a4-cb1d-09032809ff58"
      },
      "execution_count": 9,
      "outputs": [
        {
          "output_type": "execute_result",
          "data": {
            "text/plain": [
              "array(['de', 'es', 'pt', 'en', 'fr', 'it'], dtype=object)"
            ]
          },
          "metadata": {},
          "execution_count": 9
        }
      ]
    },
    {
      "cell_type": "code",
      "source": [
        "language = dataframe.groupby([\"learning_language\"])[\"learning_language\"]\n",
        "print(language)"
      ],
      "metadata": {
        "colab": {
          "base_uri": "https://localhost:8080/"
        },
        "id": "eR_00wvL_9yS",
        "outputId": "c2593f87-8d4e-4d8c-b0ff-5a977e14c3f7"
      },
      "execution_count": 32,
      "outputs": [
        {
          "output_type": "stream",
          "name": "stdout",
          "text": [
            "<pandas.core.groupby.generic.SeriesGroupBy object at 0x7f645aff5910>\n"
          ]
        }
      ]
    },
    {
      "cell_type": "code",
      "source": [
        "dataframe['learning_language'].value_counts().plot(kind='bar')"
      ],
      "metadata": {
        "colab": {
          "base_uri": "https://localhost:8080/",
          "height": 296
        },
        "id": "TNGtADut_Vt_",
        "outputId": "6962c374-0ef0-4c4a-fab7-7105a12ba68c"
      },
      "execution_count": 26,
      "outputs": [
        {
          "output_type": "execute_result",
          "data": {
            "text/plain": [
              "<matplotlib.axes._subplots.AxesSubplot at 0x7f645b1d0b50>"
            ]
          },
          "metadata": {},
          "execution_count": 26
        },
        {
          "output_type": "display_data",
          "data": {
            "text/plain": [
              "<Figure size 432x288 with 1 Axes>"
            ],
            "image/png": "[encoded data removed]"
          },
          "metadata": {
            "needs_background": "light"
          }
        }
      ]
    },
    {
      "cell_type": "code",
      "source": [
        "#diamonds = sns.load_dataset(\"diamonds\")\n",
        "sns.catplot(\n",
        "    data=dataframe.sort_values(\"learning_language\"),\n",
        "    x=\"learning_language\", y=\"p_recall\", kind=\"boxen\"\n",
        ")"
      ],
      "metadata": {
        "colab": {
          "base_uri": "https://localhost:8080/",
          "height": 386
        },
        "id": "_mbsnEm8B51G",
        "outputId": "12878781-5bea-4661-fd3f-c9f61f6cce16"
      },
      "execution_count": 19,
      "outputs": [
        {
          "output_type": "execute_result",
          "data": {
            "text/plain": [
              "<seaborn.axisgrid.FacetGrid at 0x7fb56c62b1d0>"
            ]
          },
          "metadata": {},
          "execution_count": 19
        },
        {
          "output_type": "display_data",
          "data": {
            "text/plain": [
              "<Figure size 360x360 with 1 Axes>"
            ],
            "image/png": "[encoded data removed]"
          },
          "metadata": {
            "needs_background": "light"
          }
        }
      ]
    },
    {
      "cell_type": "code",
      "source": [
        "import plotly.express as px\n",
        "%matplotlib inline\n",
        "df = px.data.tips()\n",
        "fig = px.histogram(dataframe, x=\"learning_language\")\n",
        "fig.show(renderer = \"colab\")"
      ],
      "metadata": {
        "id": "BjRzqC7Oxpr4"
      },
      "execution_count": 20,
      "outputs": []
    },
    {
      "cell_type": "code",
      "source": [
        "#look at the p_recall based on the language learned \n",
        "# We have the choice of 6 languages: Deutsche, Espanol, Portuguese, English, French, Italian\n",
        "sns.violinplot(x = dataframe[\"learning_language\"], y = dataframe[\"p_recall\"])"
      ],
      "metadata": {
        "colab": {
          "base_uri": "https://localhost:8080/",
          "height": 297
        },
        "id": "OoJN7brir-3R",
        "outputId": "fedec98d-a684-4d7c-fe1d-2bc48157b9f5"
      },
      "execution_count": 19,
      "outputs": [
        {
          "output_type": "execute_result",
          "data": {
            "text/plain": [
              "<matplotlib.axes._subplots.AxesSubplot at 0x7f6475abfe90>"
            ]
          },
          "metadata": {},
          "execution_count": 19
        },
        {
          "output_type": "display_data",
          "data": {
            "text/plain": [
              "<Figure size 432x288 with 1 Axes>"
            ],
            "image/png": "[encoded data removed]"
          },
          "metadata": {
            "needs_background": "light"
          }
        }
      ]
    },
    {
      "cell_type": "code",
      "source": [
        "import plotly.express as px\n",
        "import plotly.graph_objects as go\n",
        "\n",
        "fig_price = px.violin(\n",
        "    dataframe, \n",
        "    x=\"learning_language\", \n",
        "    y=\"p_recall\", \n",
        "    color='learning_language'\n",
        ")\n",
        "fig_price.show()"
      ],
      "metadata": {
        "id": "cgFfRyy6nsnL"
      },
      "execution_count": 15,
      "outputs": []
    },
    {
      "cell_type": "markdown",
      "source": [
        "###Data Investigation"
      ],
      "metadata": {
        "id": "l-uCuBqVvOD1"
      }
    },
    {
      "cell_type": "code",
      "execution_count": null,
      "metadata": {
        "id": "O6hdItcz4_iA"
      },
      "outputs": [],
      "source": [
        "dataframe.describe()"
      ]
    },
    {
      "cell_type": "code",
      "execution_count": null,
      "metadata": {
        "id": "PmJzeEui4_iB"
      },
      "outputs": [],
      "source": [
        "dataframe.info()"
      ]
    },
    {
      "cell_type": "code",
      "source": [
        "#check if there are null values + drop the rows if they have null\n",
        "percent_null = [(i, dataframe[i].isnull().mean()) for i in dataframe]\n",
        "columns = (\"Column\", \"% null values\")\n",
        "percents = pd.DataFrame(percent_null, columns=columns)\n",
        "display(percents)\n"
      ],
      "metadata": {
        "id": "ioy7o4yDUHfa"
      },
      "execution_count": null,
      "outputs": []
    },
    {
      "cell_type": "code",
      "source": [
        "# Create a dataframe with the counts by income class and occupation\n",
        "counts_df = census.groupby([\"income\", \"race\"])[\"workclass\"].count().unstack()\n",
        "# then transpose one more time for plotting\n",
        "race_percents_df = counts_df.T.div(counts_df.T.sum()).T\n",
        "fig, ax = plt.subplots(figsize=(12,8))\n",
        "\n",
        "race_percents_df.plot(kind=\"bar\", stacked=True, ax=ax)\n",
        "\n",
        "ax.set_xlabel(\"Income Class\")\n",
        "ax.set_ylabel(\"Proportion\")\n",
        "plt.xticks(rotation=0)\n",
        "ax.legend()\n",
        "\n",
        "fig.suptitle(\"Race Proportion by Income class\");"
      ],
      "metadata": {
        "id": "glxGUvleX-yJ"
      },
      "execution_count": null,
      "outputs": []
    },
    {
      "cell_type": "markdown",
      "source": [
        "###Data Manipulation \n",
        "Adding more variables to the datasets to emphasize the error making process and the e"
      ],
      "metadata": {
        "id": "tFBKAARZvRo6"
      }
    },
    {
      "cell_type": "code",
      "execution_count": 34,
      "metadata": {
        "id": "912J_dIC4_iB",
        "colab": {
          "base_uri": "https://localhost:8080/",
          "height": 1000
        },
        "outputId": "cc793208-acd0-4b7a-d70d-29a23ce4b702"
      },
      "outputs": [
        {
          "output_type": "stream",
          "name": "stderr",
          "text": [
            "/usr/local/lib/python3.7/dist-packages/ipykernel_launcher.py:7: SettingWithCopyWarning:\n",
            "\n",
            "\n",
            "A value is trying to be set on a copy of a slice from a DataFrame.\n",
            "Try using .loc[row_indexer,col_indexer] = value instead\n",
            "\n",
            "See the caveats in the documentation: https://pandas.pydata.org/pandas-docs/stable/user_guide/indexing.html#returning-a-view-versus-a-copy\n",
            "\n",
            "/usr/local/lib/python3.7/dist-packages/ipykernel_launcher.py:8: SettingWithCopyWarning:\n",
            "\n",
            "\n",
            "A value is trying to be set on a copy of a slice from a DataFrame.\n",
            "Try using .loc[row_indexer,col_indexer] = value instead\n",
            "\n",
            "See the caveats in the documentation: https://pandas.pydata.org/pandas-docs/stable/user_guide/indexing.html#returning-a-view-versus-a-copy\n",
            "\n",
            "/usr/local/lib/python3.7/dist-packages/ipykernel_launcher.py:9: SettingWithCopyWarning:\n",
            "\n",
            "\n",
            "A value is trying to be set on a copy of a slice from a DataFrame.\n",
            "Try using .loc[row_indexer,col_indexer] = value instead\n",
            "\n",
            "See the caveats in the documentation: https://pandas.pydata.org/pandas-docs/stable/user_guide/indexing.html#returning-a-view-versus-a-copy\n",
            "\n",
            "/usr/local/lib/python3.7/dist-packages/ipykernel_launcher.py:10: SettingWithCopyWarning:\n",
            "\n",
            "\n",
            "A value is trying to be set on a copy of a slice from a DataFrame.\n",
            "Try using .loc[row_indexer,col_indexer] = value instead\n",
            "\n",
            "See the caveats in the documentation: https://pandas.pydata.org/pandas-docs/stable/user_guide/indexing.html#returning-a-view-versus-a-copy\n",
            "\n",
            "/usr/local/lib/python3.7/dist-packages/ipykernel_launcher.py:13: SettingWithCopyWarning:\n",
            "\n",
            "\n",
            "A value is trying to be set on a copy of a slice from a DataFrame.\n",
            "Try using .loc[row_indexer,col_indexer] = value instead\n",
            "\n",
            "See the caveats in the documentation: https://pandas.pydata.org/pandas-docs/stable/user_guide/indexing.html#returning-a-view-versus-a-copy\n",
            "\n"
          ]
        },
        {
          "output_type": "execute_result",
          "data": {
            "text/plain": [
              "     p_recall   timestamp   delta user_id learning_language ui_language  \\\n",
              "231       1.0  1362082530  261691  u:hiS4                fr          en   \n",
              "232       0.5  1362082530  231391  u:hiS4                fr          en   \n",
              "233       1.0  1362082530  232832  u:hiS4                fr          en   \n",
              "234       1.0  1362082530  196898  u:hiS4                fr          en   \n",
              "235       0.0  1362082530  274171  u:hiS4                fr          en   \n",
              "\n",
              "                            lexeme_id                lexeme_string  \\\n",
              "231  03a546003e03b545a6d419b6620b3749       la/le<det><def><f><sg>   \n",
              "232  8bd6d060bb604e17c936418f835d87c8     mon/mon<det><pos><m><sg>   \n",
              "233  1b279bb64bd6eba51ab37e4a61aad0c4    mes/mon<det><pos><mf><pl>   \n",
              "234  8e6df998cc5c26b86482a3040a5805e2       c'/ce<prn><tn><nt><sg>   \n",
              "235  3ec6ed7d5a122ac3018def0b4f621b12  nouveau/nouveau<adj><m><sg>   \n",
              "\n",
              "     history_seen  history_correct  session_seen  session_correct  mistakes  \\\n",
              "231            31               23             1                1         8   \n",
              "232            28               27             2                1         1   \n",
              "233             2                2             1                1         0   \n",
              "234            19               18             1                1         1   \n",
              "235             6                5             1                0         1   \n",
              "\n",
              "     session_mistakes  rate_of_error_per_session  general_rate_of_error  \\\n",
              "231                 0                        0.0               0.258065   \n",
              "232                 1                        0.5               0.035714   \n",
              "233                 0                        0.0               0.000000   \n",
              "234                 0                        0.0               0.052632   \n",
              "235                 1                        1.0               0.166667   \n",
              "\n",
              "               Datetime  \n",
              "231 2013-02-28 20:15:30  \n",
              "232 2013-02-28 20:15:30  \n",
              "233 2013-02-28 20:15:30  \n",
              "234 2013-02-28 20:15:30  \n",
              "235 2013-02-28 20:15:30  "
            ],
            "text/html": [
              "\n",
              "  <div id=\"df-4fb6fbdb-3777-4009-9cb2-a2c9f2e19c31\">\n",
              "    <div class=\"colab-df-container\">\n",
              "      <div>\n",
              "<style scoped>\n",
              "    .dataframe tbody tr th:only-of-type {\n",
              "        vertical-align: middle;\n",
              "    }\n",
              "\n",
              "    .dataframe tbody tr th {\n",
              "        vertical-align: top;\n",
              "    }\n",
              "\n",
              "    .dataframe thead th {\n",
              "        text-align: right;\n",
              "    }\n",
              "</style>\n",
              "<table border=\"1\" class=\"dataframe\">\n",
              "  <thead>\n",
              "    <tr style=\"text-align: right;\">\n",
              "      <th></th>\n",
              "      <th>p_recall</th>\n",
              "      <th>timestamp</th>\n",
              "      <th>delta</th>\n",
              "      <th>user_id</th>\n",
              "      <th>learning_language</th>\n",
              "      <th>ui_language</th>\n",
              "      <th>lexeme_id</th>\n",
              "      <th>lexeme_string</th>\n",
              "      <th>history_seen</th>\n",
              "      <th>history_correct</th>\n",
              "      <th>session_seen</th>\n",
              "      <th>session_correct</th>\n",
              "      <th>mistakes</th>\n",
              "      <th>session_mistakes</th>\n",
              "      <th>rate_of_error_per_session</th>\n",
              "      <th>general_rate_of_error</th>\n",
              "      <th>Datetime</th>\n",
              "    </tr>\n",
              "  </thead>\n",
              "  <tbody>\n",
              "    <tr>\n",
              "      <th>231</th>\n",
              "      <td>1.0</td>\n",
              "      <td>1362082530</td>\n",
              "      <td>261691</td>\n",
              "      <td>u:hiS4</td>\n",
              "      <td>fr</td>\n",
              "      <td>en</td>\n",
              "      <td>03a546003e03b545a6d419b6620b3749</td>\n",
              "      <td>la/le&lt;det&gt;&lt;def&gt;&lt;f&gt;&lt;sg&gt;</td>\n",
              "      <td>31</td>\n",
              "      <td>23</td>\n",
              "      <td>1</td>\n",
              "      <td>1</td>\n",
              "      <td>8</td>\n",
              "      <td>0</td>\n",
              "      <td>0.0</td>\n",
              "      <td>0.258065</td>\n",
              "      <td>2013-02-28 20:15:30</td>\n",
              "    </tr>\n",
              "    <tr>\n",
              "      <th>232</th>\n",
              "      <td>0.5</td>\n",
              "      <td>1362082530</td>\n",
              "      <td>231391</td>\n",
              "      <td>u:hiS4</td>\n",
              "      <td>fr</td>\n",
              "      <td>en</td>\n",
              "      <td>8bd6d060bb604e17c936418f835d87c8</td>\n",
              "      <td>mon/mon&lt;det&gt;&lt;pos&gt;&lt;m&gt;&lt;sg&gt;</td>\n",
              "      <td>28</td>\n",
              "      <td>27</td>\n",
              "      <td>2</td>\n",
              "      <td>1</td>\n",
              "      <td>1</td>\n",
              "      <td>1</td>\n",
              "      <td>0.5</td>\n",
              "      <td>0.035714</td>\n",
              "      <td>2013-02-28 20:15:30</td>\n",
              "    </tr>\n",
              "    <tr>\n",
              "      <th>233</th>\n",
              "      <td>1.0</td>\n",
              "      <td>1362082530</td>\n",
              "      <td>232832</td>\n",
              "      <td>u:hiS4</td>\n",
              "      <td>fr</td>\n",
              "      <td>en</td>\n",
              "      <td>1b279bb64bd6eba51ab37e4a61aad0c4</td>\n",
              "      <td>mes/mon&lt;det&gt;&lt;pos&gt;&lt;mf&gt;&lt;pl&gt;</td>\n",
              "      <td>2</td>\n",
              "      <td>2</td>\n",
              "      <td>1</td>\n",
              "      <td>1</td>\n",
              "      <td>0</td>\n",
              "      <td>0</td>\n",
              "      <td>0.0</td>\n",
              "      <td>0.000000</td>\n",
              "      <td>2013-02-28 20:15:30</td>\n",
              "    </tr>\n",
              "    <tr>\n",
              "      <th>234</th>\n",
              "      <td>1.0</td>\n",
              "      <td>1362082530</td>\n",
              "      <td>196898</td>\n",
              "      <td>u:hiS4</td>\n",
              "      <td>fr</td>\n",
              "      <td>en</td>\n",
              "      <td>8e6df998cc5c26b86482a3040a5805e2</td>\n",
              "      <td>c'/ce&lt;prn&gt;&lt;tn&gt;&lt;nt&gt;&lt;sg&gt;</td>\n",
              "      <td>19</td>\n",
              "      <td>18</td>\n",
              "      <td>1</td>\n",
              "      <td>1</td>\n",
              "      <td>1</td>\n",
              "      <td>0</td>\n",
              "      <td>0.0</td>\n",
              "      <td>0.052632</td>\n",
              "      <td>2013-02-28 20:15:30</td>\n",
              "    </tr>\n",
              "    <tr>\n",
              "      <th>235</th>\n",
              "      <td>0.0</td>\n",
              "      <td>1362082530</td>\n",
              "      <td>274171</td>\n",
              "      <td>u:hiS4</td>\n",
              "      <td>fr</td>\n",
              "      <td>en</td>\n",
              "      <td>3ec6ed7d5a122ac3018def0b4f621b12</td>\n",
              "      <td>nouveau/nouveau&lt;adj&gt;&lt;m&gt;&lt;sg&gt;</td>\n",
              "      <td>6</td>\n",
              "      <td>5</td>\n",
              "      <td>1</td>\n",
              "      <td>0</td>\n",
              "      <td>1</td>\n",
              "      <td>1</td>\n",
              "      <td>1.0</td>\n",
              "      <td>0.166667</td>\n",
              "      <td>2013-02-28 20:15:30</td>\n",
              "    </tr>\n",
              "  </tbody>\n",
              "</table>\n",
              "</div>\n",
              "      <button class=\"colab-df-convert\" onclick=\"convertToInteractive('df-4fb6fbdb-3777-4009-9cb2-a2c9f2e19c31')\"\n",
              "              title=\"Convert this dataframe to an interactive table.\"\n",
              "              style=\"display:none;\">\n",
              "        \n",
              "  <svg xmlns=\"http://www.w3.org/2000/svg\" height=\"24px\"viewBox=\"0 0 24 24\"\n",
              "       width=\"24px\">\n",
              "    <path d=\"M0 0h24v24H0V0z\" fill=\"none\"/>\n",
              "    <path d=\"M18.56 5.44l.94 2.06.94-2.06 2.06-.94-2.06-.94-.94-2.06-.94 2.06-2.06.94zm-11 1L8.5 8.5l.94-2.06 2.06-.94-2.06-.94L8.5 2.5l-.94 2.06-2.06.94zm10 10l.94 2.06.94-2.06 2.06-.94-2.06-.94-.94-2.06-.94 2.06-2.06.94z\"/><path d=\"M17.41 7.96l-1.37-1.37c-.4-.4-.92-.59-1.43-.59-.52 0-1.04.2-1.43.59L10.3 9.45l-7.72 7.72c-.78.78-.78 2.05 0 2.83L4 21.41c.39.39.9.59 1.41.59.51 0 1.02-.2 1.41-.59l7.78-7.78 2.81-2.81c.8-.78.8-2.07 0-2.86zM5.41 20L4 18.59l7.72-7.72 1.47 1.35L5.41 20z\"/>\n",
              "  </svg>\n",
              "      </button>\n",
              "      \n",
              "  <style>\n",
              "    .colab-df-container {\n",
              "      display:flex;\n",
              "      flex-wrap:wrap;\n",
              "      gap: 12px;\n",
              "    }\n",
              "\n",
              "    .colab-df-convert {\n",
              "      background-color: #E8F0FE;\n",
              "      border: none;\n",
              "      border-radius: 50%;\n",
              "      cursor: pointer;\n",
              "      display: none;\n",
              "      fill: #1967D2;\n",
              "      height: 32px;\n",
              "      padding: 0 0 0 0;\n",
              "      width: 32px;\n",
              "    }\n",
              "\n",
              "    .colab-df-convert:hover {\n",
              "      background-color: #E2EBFA;\n",
              "      box-shadow: 0px 1px 2px rgba(60, 64, 67, 0.3), 0px 1px 3px 1px rgba(60, 64, 67, 0.15);\n",
              "      fill: #174EA6;\n",
              "    }\n",
              "\n",
              "    [theme=dark] .colab-df-convert {\n",
              "      background-color: #3B4455;\n",
              "      fill: #D2E3FC;\n",
              "    }\n",
              "\n",
              "    [theme=dark] .colab-df-convert:hover {\n",
              "      background-color: #434B5C;\n",
              "      box-shadow: 0px 1px 3px 1px rgba(0, 0, 0, 0.15);\n",
              "      filter: drop-shadow(0px 1px 2px rgba(0, 0, 0, 0.3));\n",
              "      fill: #FFFFFF;\n",
              "    }\n",
              "  </style>\n",
              "\n",
              "      <script>\n",
              "        const buttonEl =\n",
              "          document.querySelector('#df-4fb6fbdb-3777-4009-9cb2-a2c9f2e19c31 button.colab-df-convert');\n",
              "        buttonEl.style.display =\n",
              "          google.colab.kernel.accessAllowed ? 'block' : 'none';\n",
              "\n",
              "        async function convertToInteractive(key) {\n",
              "          const element = document.querySelector('#df-4fb6fbdb-3777-4009-9cb2-a2c9f2e19c31');\n",
              "          const dataTable =\n",
              "            await google.colab.kernel.invokeFunction('convertToInteractive',\n",
              "                                                     [key], {});\n",
              "          if (!dataTable) return;\n",
              "\n",
              "          const docLinkHtml = 'Like what you see? Visit the ' +\n",
              "            '<a target=\"_blank\" href=https://colab.research.google.com/notebooks/data_table.ipynb>data table notebook</a>'\n",
              "            + ' to learn more about interactive tables.';\n",
              "          element.innerHTML = '';\n",
              "          dataTable['output_type'] = 'display_data';\n",
              "          await google.colab.output.renderOutput(dataTable, element);\n",
              "          const docLink = document.createElement('div');\n",
              "          docLink.innerHTML = docLinkHtml;\n",
              "          element.appendChild(docLink);\n",
              "        }\n",
              "      </script>\n",
              "    </div>\n",
              "  </div>\n",
              "  "
            ]
          },
          "metadata": {},
          "execution_count": 34
        }
      ],
      "source": [
        "#Data Cleaning and Manipulation \n",
        "# we will only look at users learning french \n",
        "data = dataframe[dataframe.learning_language == \"fr\"]\n",
        "#data.head()\n",
        "#adding variables \n",
        "#adding number of mistakes made \n",
        "data['mistakes'] = data.history_seen - data.history_correct\n",
        "data['session_mistakes'] = data.session_seen - data.session_correct\n",
        "data['rate_of_error_per_session'] = data.session_mistakes/data.session_seen\n",
        "data['general_rate_of_error'] = data.mistakes/data.history_seen \n",
        "# unit='s' to convert it into epoch time\n",
        "data['Datetime'] = pd.to_datetime(data['timestamp'], \n",
        "                                  unit='s')\n",
        "data.head()\n",
        "data.head()"
      ]
    },
    {
      "cell_type": "code",
      "execution_count": 35,
      "metadata": {
        "id": "EIGtQ8ZF4_iC",
        "outputId": "c8fd6d17-29c8-4de1-fb0b-c3987bce52a9",
        "colab": {
          "base_uri": "https://localhost:8080/",
          "height": 414
        }
      },
      "outputs": [
        {
          "output_type": "execute_result",
          "data": {
            "text/plain": [
              "<pandas.io.formats.style.Styler at 0x7fb5550a2850>"
            ],
            "text/html": [
              "<style type=\"text/css\">\n",
              "#T_48f29_row0_col0, #T_48f29_row1_col1, #T_48f29_row2_col2, #T_48f29_row3_col3, #T_48f29_row4_col4, #T_48f29_row5_col5, #T_48f29_row6_col6, #T_48f29_row7_col7, #T_48f29_row8_col8, #T_48f29_row9_col9, #T_48f29_row10_col10 {\n",
              "  background-color: #023858;\n",
              "  color: #f1f1f1;\n",
              "}\n",
              "#T_48f29_row0_col1, #T_48f29_row0_col7, #T_48f29_row9_col1 {\n",
              "  background-color: #fef6fb;\n",
              "  color: #000000;\n",
              "}\n",
              "#T_48f29_row0_col2, #T_48f29_row5_col7 {\n",
              "  background-color: #faf3f9;\n",
              "  color: #000000;\n",
              "}\n",
              "#T_48f29_row0_col3, #T_48f29_row1_col3, #T_48f29_row1_col4 {\n",
              "  background-color: #f5eff6;\n",
              "  color: #000000;\n",
              "}\n",
              "#T_48f29_row0_col4 {\n",
              "  background-color: #f5eef6;\n",
              "  color: #000000;\n",
              "}\n",
              "#T_48f29_row0_col5, #T_48f29_row8_col0, #T_48f29_row10_col5 {\n",
              "  background-color: #f1ebf5;\n",
              "  color: #000000;\n",
              "}\n",
              "#T_48f29_row0_col6, #T_48f29_row2_col0 {\n",
              "  background-color: #79abd0;\n",
              "  color: #f1f1f1;\n",
              "}\n",
              "#T_48f29_row0_col8, #T_48f29_row0_col9, #T_48f29_row0_col10, #T_48f29_row2_col3, #T_48f29_row2_col4, #T_48f29_row2_col7, #T_48f29_row3_col2, #T_48f29_row4_col2, #T_48f29_row7_col1, #T_48f29_row9_col0, #T_48f29_row9_col5, #T_48f29_row9_col6, #T_48f29_row10_col1 {\n",
              "  background-color: #fff7fb;\n",
              "  color: #000000;\n",
              "}\n",
              "#T_48f29_row1_col0, #T_48f29_row3_col9 {\n",
              "  background-color: #75a9cf;\n",
              "  color: #f1f1f1;\n",
              "}\n",
              "#T_48f29_row1_col2 {\n",
              "  background-color: #f4edf6;\n",
              "  color: #000000;\n",
              "}\n",
              "#T_48f29_row1_col5, #T_48f29_row6_col2, #T_48f29_row9_col3, #T_48f29_row10_col3 {\n",
              "  background-color: #f7f0f7;\n",
              "  color: #000000;\n",
              "}\n",
              "#T_48f29_row1_col6, #T_48f29_row7_col10, #T_48f29_row10_col6 {\n",
              "  background-color: #d0d1e6;\n",
              "  color: #000000;\n",
              "}\n",
              "#T_48f29_row1_col7, #T_48f29_row2_col5, #T_48f29_row8_col3, #T_48f29_row9_col4, #T_48f29_row10_col2 {\n",
              "  background-color: #f8f1f8;\n",
              "  color: #000000;\n",
              "}\n",
              "#T_48f29_row1_col8, #T_48f29_row10_col0 {\n",
              "  background-color: #88b1d4;\n",
              "  color: #000000;\n",
              "}\n",
              "#T_48f29_row1_col9, #T_48f29_row3_col0 {\n",
              "  background-color: #73a9cf;\n",
              "  color: #f1f1f1;\n",
              "}\n",
              "#T_48f29_row1_col10, #T_48f29_row3_col10, #T_48f29_row8_col2, #T_48f29_row8_col7, #T_48f29_row9_col2 {\n",
              "  background-color: #f2ecf5;\n",
              "  color: #000000;\n",
              "}\n",
              "#T_48f29_row2_col1, #T_48f29_row6_col7 {\n",
              "  background-color: #fcf4fa;\n",
              "  color: #000000;\n",
              "}\n",
              "#T_48f29_row2_col6 {\n",
              "  background-color: #d3d4e7;\n",
              "  color: #000000;\n",
              "}\n",
              "#T_48f29_row2_col8 {\n",
              "  background-color: #81aed2;\n",
              "  color: #f1f1f1;\n",
              "}\n",
              "#T_48f29_row2_col9, #T_48f29_row10_col8 {\n",
              "  background-color: #6da6cd;\n",
              "  color: #f1f1f1;\n",
              "}\n",
              "#T_48f29_row2_col10 {\n",
              "  background-color: #f3edf5;\n",
              "  color: #000000;\n",
              "}\n",
              "#T_48f29_row3_col1, #T_48f29_row4_col1, #T_48f29_row7_col2, #T_48f29_row8_col1 {\n",
              "  background-color: #fef6fa;\n",
              "  color: #000000;\n",
              "}\n",
              "#T_48f29_row3_col4, #T_48f29_row4_col3 {\n",
              "  background-color: #02395a;\n",
              "  color: #f1f1f1;\n",
              "}\n",
              "#T_48f29_row3_col5, #T_48f29_row4_col5 {\n",
              "  background-color: #fbf4f9;\n",
              "  color: #000000;\n",
              "}\n",
              "#T_48f29_row3_col6, #T_48f29_row4_col6 {\n",
              "  background-color: #d5d5e8;\n",
              "  color: #000000;\n",
              "}\n",
              "#T_48f29_row3_col7, #T_48f29_row7_col3 {\n",
              "  background-color: #056ba7;\n",
              "  color: #f1f1f1;\n",
              "}\n",
              "#T_48f29_row3_col8 {\n",
              "  background-color: #8bb2d4;\n",
              "  color: #000000;\n",
              "}\n",
              "#T_48f29_row4_col0 {\n",
              "  background-color: #71a8ce;\n",
              "  color: #f1f1f1;\n",
              "}\n",
              "#T_48f29_row4_col7 {\n",
              "  background-color: #1278b4;\n",
              "  color: #f1f1f1;\n",
              "}\n",
              "#T_48f29_row4_col8 {\n",
              "  background-color: #8cb3d5;\n",
              "  color: #000000;\n",
              "}\n",
              "#T_48f29_row4_col9 {\n",
              "  background-color: #76aad0;\n",
              "  color: #f1f1f1;\n",
              "}\n",
              "#T_48f29_row4_col10, #T_48f29_row5_col2 {\n",
              "  background-color: #f6eff7;\n",
              "  color: #000000;\n",
              "}\n",
              "#T_48f29_row5_col0 {\n",
              "  background-color: #67a4cc;\n",
              "  color: #f1f1f1;\n",
              "}\n",
              "#T_48f29_row5_col1, #T_48f29_row6_col1 {\n",
              "  background-color: #fdf5fa;\n",
              "  color: #000000;\n",
              "}\n",
              "#T_48f29_row5_col3, #T_48f29_row5_col4 {\n",
              "  background-color: #faf2f8;\n",
              "  color: #000000;\n",
              "}\n",
              "#T_48f29_row5_col6 {\n",
              "  background-color: #034369;\n",
              "  color: #f1f1f1;\n",
              "}\n",
              "#T_48f29_row5_col8 {\n",
              "  background-color: #4697c4;\n",
              "  color: #f1f1f1;\n",
              "}\n",
              "#T_48f29_row5_col9 {\n",
              "  background-color: #7eadd1;\n",
              "  color: #f1f1f1;\n",
              "}\n",
              "#T_48f29_row5_col10 {\n",
              "  background-color: #ebe6f2;\n",
              "  color: #000000;\n",
              "}\n",
              "#T_48f29_row6_col0 {\n",
              "  background-color: #2786bb;\n",
              "  color: #f1f1f1;\n",
              "}\n",
              "#T_48f29_row6_col3, #T_48f29_row6_col4, #T_48f29_row8_col4 {\n",
              "  background-color: #f9f2f8;\n",
              "  color: #000000;\n",
              "}\n",
              "#T_48f29_row6_col5 {\n",
              "  background-color: #03456c;\n",
              "  color: #f1f1f1;\n",
              "}\n",
              "#T_48f29_row6_col8 {\n",
              "  background-color: #97b7d7;\n",
              "  color: #000000;\n",
              "}\n",
              "#T_48f29_row6_col9 {\n",
              "  background-color: #b3c3de;\n",
              "  color: #000000;\n",
              "}\n",
              "#T_48f29_row6_col10 {\n",
              "  background-color: #f0eaf4;\n",
              "  color: #000000;\n",
              "}\n",
              "#T_48f29_row7_col0 {\n",
              "  background-color: #7dacd1;\n",
              "  color: #f1f1f1;\n",
              "}\n",
              "#T_48f29_row7_col4 {\n",
              "  background-color: #1077b4;\n",
              "  color: #f1f1f1;\n",
              "}\n",
              "#T_48f29_row7_col5, #T_48f29_row10_col4 {\n",
              "  background-color: #fbf3f9;\n",
              "  color: #000000;\n",
              "}\n",
              "#T_48f29_row7_col6, #T_48f29_row10_col7 {\n",
              "  background-color: #d7d6e9;\n",
              "  color: #000000;\n",
              "}\n",
              "#T_48f29_row7_col8 {\n",
              "  background-color: #80aed2;\n",
              "  color: #f1f1f1;\n",
              "}\n",
              "#T_48f29_row7_col9 {\n",
              "  background-color: #69a5cc;\n",
              "  color: #f1f1f1;\n",
              "}\n",
              "#T_48f29_row8_col5 {\n",
              "  background-color: #c2cbe2;\n",
              "  color: #000000;\n",
              "}\n",
              "#T_48f29_row8_col6, #T_48f29_row8_col10 {\n",
              "  background-color: #dddbec;\n",
              "  color: #000000;\n",
              "}\n",
              "#T_48f29_row8_col9 {\n",
              "  background-color: #03517e;\n",
              "  color: #f1f1f1;\n",
              "}\n",
              "#T_48f29_row9_col7 {\n",
              "  background-color: #f1ebf4;\n",
              "  color: #000000;\n",
              "}\n",
              "#T_48f29_row9_col8 {\n",
              "  background-color: #045382;\n",
              "  color: #f1f1f1;\n",
              "}\n",
              "#T_48f29_row9_col10 {\n",
              "  background-color: #e0deed;\n",
              "  color: #000000;\n",
              "}\n",
              "#T_48f29_row10_col9 {\n",
              "  background-color: #5c9fc9;\n",
              "  color: #f1f1f1;\n",
              "}\n",
              "</style>\n",
              "<table id=\"T_48f29_\" class=\"dataframe\">\n",
              "  <thead>\n",
              "    <tr>\n",
              "      <th class=\"blank level0\" >&nbsp;</th>\n",
              "      <th class=\"col_heading level0 col0\" >p_recall</th>\n",
              "      <th class=\"col_heading level0 col1\" >timestamp</th>\n",
              "      <th class=\"col_heading level0 col2\" >delta</th>\n",
              "      <th class=\"col_heading level0 col3\" >history_seen</th>\n",
              "      <th class=\"col_heading level0 col4\" >history_correct</th>\n",
              "      <th class=\"col_heading level0 col5\" >session_seen</th>\n",
              "      <th class=\"col_heading level0 col6\" >session_correct</th>\n",
              "      <th class=\"col_heading level0 col7\" >mistakes</th>\n",
              "      <th class=\"col_heading level0 col8\" >session_mistakes</th>\n",
              "      <th class=\"col_heading level0 col9\" >rate_of_error_per_session</th>\n",
              "      <th class=\"col_heading level0 col10\" >general_rate_of_error</th>\n",
              "    </tr>\n",
              "  </thead>\n",
              "  <tbody>\n",
              "    <tr>\n",
              "      <th id=\"T_48f29_level0_row0\" class=\"row_heading level0 row0\" >p_recall</th>\n",
              "      <td id=\"T_48f29_row0_col0\" class=\"data row0 col0\" >1.000000</td>\n",
              "      <td id=\"T_48f29_row0_col1\" class=\"data row0 col1\" >-0.000751</td>\n",
              "      <td id=\"T_48f29_row0_col2\" class=\"data row0 col2\" >-0.030109</td>\n",
              "      <td id=\"T_48f29_row0_col3\" class=\"data row0 col3\" >0.003072</td>\n",
              "      <td id=\"T_48f29_row0_col4\" class=\"data row0 col4\" >0.010392</td>\n",
              "      <td id=\"T_48f29_row0_col5\" class=\"data row0 col5\" >0.048894</td>\n",
              "      <td id=\"T_48f29_row0_col6\" class=\"data row0 col6\" >0.322012</td>\n",
              "      <td id=\"T_48f29_row0_col7\" class=\"data row0 col7\" >-0.046783</td>\n",
              "      <td id=\"T_48f29_row0_col8\" class=\"data row0 col8\" >-0.820034</td>\n",
              "      <td id=\"T_48f29_row0_col9\" class=\"data row0 col9\" >-1.000000</td>\n",
              "      <td id=\"T_48f29_row0_col10\" class=\"data row0 col10\" >-0.097067</td>\n",
              "    </tr>\n",
              "    <tr>\n",
              "      <th id=\"T_48f29_level0_row1\" class=\"row_heading level0 row1\" >timestamp</th>\n",
              "      <td id=\"T_48f29_row1_col0\" class=\"data row1 col0\" >-0.000751</td>\n",
              "      <td id=\"T_48f29_row1_col1\" class=\"data row1 col1\" >1.000000</td>\n",
              "      <td id=\"T_48f29_row1_col2\" class=\"data row1 col2\" >0.016846</td>\n",
              "      <td id=\"T_48f29_row1_col3\" class=\"data row1 col3\" >0.002858</td>\n",
              "      <td id=\"T_48f29_row1_col4\" class=\"data row1 col4\" >0.003995</td>\n",
              "      <td id=\"T_48f29_row1_col5\" class=\"data row1 col5\" >0.009478</td>\n",
              "      <td id=\"T_48f29_row1_col6\" class=\"data row1 col6\" >0.008578</td>\n",
              "      <td id=\"T_48f29_row1_col7\" class=\"data row1 col7\" >-0.005511</td>\n",
              "      <td id=\"T_48f29_row1_col8\" class=\"data row1 col8\" >0.003622</td>\n",
              "      <td id=\"T_48f29_row1_col9\" class=\"data row1 col9\" >0.000751</td>\n",
              "      <td id=\"T_48f29_row1_col10\" class=\"data row1 col10\" >-0.004796</td>\n",
              "    </tr>\n",
              "    <tr>\n",
              "      <th id=\"T_48f29_level0_row2\" class=\"row_heading level0 row2\" >delta</th>\n",
              "      <td id=\"T_48f29_row2_col0\" class=\"data row2 col0\" >-0.030109</td>\n",
              "      <td id=\"T_48f29_row2_col1\" class=\"data row2 col1\" >0.016846</td>\n",
              "      <td id=\"T_48f29_row2_col2\" class=\"data row2 col2\" >1.000000</td>\n",
              "      <td id=\"T_48f29_row2_col3\" class=\"data row2 col3\" >-0.064134</td>\n",
              "      <td id=\"T_48f29_row2_col4\" class=\"data row2 col4\" >-0.063180</td>\n",
              "      <td id=\"T_48f29_row2_col5\" class=\"data row2 col5\" >0.000305</td>\n",
              "      <td id=\"T_48f29_row2_col6\" class=\"data row2 col6\" >-0.009236</td>\n",
              "      <td id=\"T_48f29_row2_col7\" class=\"data row2 col7\" >-0.053621</td>\n",
              "      <td id=\"T_48f29_row2_col8\" class=\"data row2 col8\" >0.028840</td>\n",
              "      <td id=\"T_48f29_row2_col9\" class=\"data row2 col9\" >0.030109</td>\n",
              "      <td id=\"T_48f29_row2_col10\" class=\"data row2 col10\" >-0.010883</td>\n",
              "    </tr>\n",
              "    <tr>\n",
              "      <th id=\"T_48f29_level0_row3\" class=\"row_heading level0 row3\" >history_seen</th>\n",
              "      <td id=\"T_48f29_row3_col0\" class=\"data row3 col0\" >0.003072</td>\n",
              "      <td id=\"T_48f29_row3_col1\" class=\"data row3 col1\" >0.002858</td>\n",
              "      <td id=\"T_48f29_row3_col2\" class=\"data row3 col2\" >-0.064134</td>\n",
              "      <td id=\"T_48f29_row3_col3\" class=\"data row3 col3\" >1.000000</td>\n",
              "      <td id=\"T_48f29_row3_col4\" class=\"data row3 col4\" >0.995407</td>\n",
              "      <td id=\"T_48f29_row3_col5\" class=\"data row3 col5\" >-0.024173</td>\n",
              "      <td id=\"T_48f29_row3_col6\" class=\"data row3 col6\" >-0.020284</td>\n",
              "      <td id=\"T_48f29_row3_col7\" class=\"data row3 col7\" >0.767176</td>\n",
              "      <td id=\"T_48f29_row3_col8\" class=\"data row3 col8\" >-0.014054</td>\n",
              "      <td id=\"T_48f29_row3_col9\" class=\"data row3 col9\" >-0.003072</td>\n",
              "      <td id=\"T_48f29_row3_col10\" class=\"data row3 col10\" >-0.005449</td>\n",
              "    </tr>\n",
              "    <tr>\n",
              "      <th id=\"T_48f29_level0_row4\" class=\"row_heading level0 row4\" >history_correct</th>\n",
              "      <td id=\"T_48f29_row4_col0\" class=\"data row4 col0\" >0.010392</td>\n",
              "      <td id=\"T_48f29_row4_col1\" class=\"data row4 col1\" >0.003995</td>\n",
              "      <td id=\"T_48f29_row4_col2\" class=\"data row4 col2\" >-0.063180</td>\n",
              "      <td id=\"T_48f29_row4_col3\" class=\"data row4 col3\" >0.995407</td>\n",
              "      <td id=\"T_48f29_row4_col4\" class=\"data row4 col4\" >1.000000</td>\n",
              "      <td id=\"T_48f29_row4_col5\" class=\"data row4 col5\" >-0.023886</td>\n",
              "      <td id=\"T_48f29_row4_col6\" class=\"data row4 col6\" >-0.017659</td>\n",
              "      <td id=\"T_48f29_row4_col7\" class=\"data row4 col7\" >0.702248</td>\n",
              "      <td id=\"T_48f29_row4_col8\" class=\"data row4 col8\" >-0.021085</td>\n",
              "      <td id=\"T_48f29_row4_col9\" class=\"data row4 col9\" >-0.010392</td>\n",
              "      <td id=\"T_48f29_row4_col10\" class=\"data row4 col10\" >-0.032779</td>\n",
              "    </tr>\n",
              "    <tr>\n",
              "      <th id=\"T_48f29_level0_row5\" class=\"row_heading level0 row5\" >session_seen</th>\n",
              "      <td id=\"T_48f29_row5_col0\" class=\"data row5 col0\" >0.048894</td>\n",
              "      <td id=\"T_48f29_row5_col1\" class=\"data row5 col1\" >0.009478</td>\n",
              "      <td id=\"T_48f29_row5_col2\" class=\"data row5 col2\" >0.000305</td>\n",
              "      <td id=\"T_48f29_row5_col3\" class=\"data row5 col3\" >-0.024173</td>\n",
              "      <td id=\"T_48f29_row5_col4\" class=\"data row5 col4\" >-0.023886</td>\n",
              "      <td id=\"T_48f29_row5_col5\" class=\"data row5 col5\" >1.000000</td>\n",
              "      <td id=\"T_48f29_row5_col6\" class=\"data row5 col6\" >0.947328</td>\n",
              "      <td id=\"T_48f29_row5_col7\" class=\"data row5 col7\" >-0.019726</td>\n",
              "      <td id=\"T_48f29_row5_col8\" class=\"data row5 col8\" >0.254526</td>\n",
              "      <td id=\"T_48f29_row5_col9\" class=\"data row5 col9\" >-0.048894</td>\n",
              "      <td id=\"T_48f29_row5_col10\" class=\"data row5 col10\" >0.047253</td>\n",
              "    </tr>\n",
              "    <tr>\n",
              "      <th id=\"T_48f29_level0_row6\" class=\"row_heading level0 row6\" >session_correct</th>\n",
              "      <td id=\"T_48f29_row6_col0\" class=\"data row6 col0\" >0.322012</td>\n",
              "      <td id=\"T_48f29_row6_col1\" class=\"data row6 col1\" >0.008578</td>\n",
              "      <td id=\"T_48f29_row6_col2\" class=\"data row6 col2\" >-0.009236</td>\n",
              "      <td id=\"T_48f29_row6_col3\" class=\"data row6 col3\" >-0.020284</td>\n",
              "      <td id=\"T_48f29_row6_col4\" class=\"data row6 col4\" >-0.017659</td>\n",
              "      <td id=\"T_48f29_row6_col5\" class=\"data row6 col5\" >0.947328</td>\n",
              "      <td id=\"T_48f29_row6_col6\" class=\"data row6 col6\" >1.000000</td>\n",
              "      <td id=\"T_48f29_row6_col7\" class=\"data row6 col7\" >-0.032523</td>\n",
              "      <td id=\"T_48f29_row6_col8\" class=\"data row6 col8\" >-0.068598</td>\n",
              "      <td id=\"T_48f29_row6_col9\" class=\"data row6 col9\" >-0.322012</td>\n",
              "      <td id=\"T_48f29_row6_col10\" class=\"data row6 col10\" >0.010460</td>\n",
              "    </tr>\n",
              "    <tr>\n",
              "      <th id=\"T_48f29_level0_row7\" class=\"row_heading level0 row7\" >mistakes</th>\n",
              "      <td id=\"T_48f29_row7_col0\" class=\"data row7 col0\" >-0.046783</td>\n",
              "      <td id=\"T_48f29_row7_col1\" class=\"data row7 col1\" >-0.005511</td>\n",
              "      <td id=\"T_48f29_row7_col2\" class=\"data row7 col2\" >-0.053621</td>\n",
              "      <td id=\"T_48f29_row7_col3\" class=\"data row7 col3\" >0.767176</td>\n",
              "      <td id=\"T_48f29_row7_col4\" class=\"data row7 col4\" >0.702248</td>\n",
              "      <td id=\"T_48f29_row7_col5\" class=\"data row7 col5\" >-0.019726</td>\n",
              "      <td id=\"T_48f29_row7_col6\" class=\"data row7 col6\" >-0.032523</td>\n",
              "      <td id=\"T_48f29_row7_col7\" class=\"data row7 col7\" >1.000000</td>\n",
              "      <td id=\"T_48f29_row7_col8\" class=\"data row7 col8\" >0.036759</td>\n",
              "      <td id=\"T_48f29_row7_col9\" class=\"data row7 col9\" >0.046783</td>\n",
              "      <td id=\"T_48f29_row7_col10\" class=\"data row7 col10\" >0.179110</td>\n",
              "    </tr>\n",
              "    <tr>\n",
              "      <th id=\"T_48f29_level0_row8\" class=\"row_heading level0 row8\" >session_mistakes</th>\n",
              "      <td id=\"T_48f29_row8_col0\" class=\"data row8 col0\" >-0.820034</td>\n",
              "      <td id=\"T_48f29_row8_col1\" class=\"data row8 col1\" >0.003622</td>\n",
              "      <td id=\"T_48f29_row8_col2\" class=\"data row8 col2\" >0.028840</td>\n",
              "      <td id=\"T_48f29_row8_col3\" class=\"data row8 col3\" >-0.014054</td>\n",
              "      <td id=\"T_48f29_row8_col4\" class=\"data row8 col4\" >-0.021085</td>\n",
              "      <td id=\"T_48f29_row8_col5\" class=\"data row8 col5\" >0.254526</td>\n",
              "      <td id=\"T_48f29_row8_col6\" class=\"data row8 col6\" >-0.068598</td>\n",
              "      <td id=\"T_48f29_row8_col7\" class=\"data row8 col7\" >0.036759</td>\n",
              "      <td id=\"T_48f29_row8_col8\" class=\"data row8 col8\" >1.000000</td>\n",
              "      <td id=\"T_48f29_row8_col9\" class=\"data row8 col9\" >0.820034</td>\n",
              "      <td id=\"T_48f29_row8_col10\" class=\"data row8 col10\" >0.115611</td>\n",
              "    </tr>\n",
              "    <tr>\n",
              "      <th id=\"T_48f29_level0_row9\" class=\"row_heading level0 row9\" >rate_of_error_per_session</th>\n",
              "      <td id=\"T_48f29_row9_col0\" class=\"data row9 col0\" >-1.000000</td>\n",
              "      <td id=\"T_48f29_row9_col1\" class=\"data row9 col1\" >0.000751</td>\n",
              "      <td id=\"T_48f29_row9_col2\" class=\"data row9 col2\" >0.030109</td>\n",
              "      <td id=\"T_48f29_row9_col3\" class=\"data row9 col3\" >-0.003072</td>\n",
              "      <td id=\"T_48f29_row9_col4\" class=\"data row9 col4\" >-0.010392</td>\n",
              "      <td id=\"T_48f29_row9_col5\" class=\"data row9 col5\" >-0.048894</td>\n",
              "      <td id=\"T_48f29_row9_col6\" class=\"data row9 col6\" >-0.322012</td>\n",
              "      <td id=\"T_48f29_row9_col7\" class=\"data row9 col7\" >0.046783</td>\n",
              "      <td id=\"T_48f29_row9_col8\" class=\"data row9 col8\" >0.820034</td>\n",
              "      <td id=\"T_48f29_row9_col9\" class=\"data row9 col9\" >1.000000</td>\n",
              "      <td id=\"T_48f29_row9_col10\" class=\"data row9 col10\" >0.097067</td>\n",
              "    </tr>\n",
              "    <tr>\n",
              "      <th id=\"T_48f29_level0_row10\" class=\"row_heading level0 row10\" >general_rate_of_error</th>\n",
              "      <td id=\"T_48f29_row10_col0\" class=\"data row10 col0\" >-0.097067</td>\n",
              "      <td id=\"T_48f29_row10_col1\" class=\"data row10 col1\" >-0.004796</td>\n",
              "      <td id=\"T_48f29_row10_col2\" class=\"data row10 col2\" >-0.010883</td>\n",
              "      <td id=\"T_48f29_row10_col3\" class=\"data row10 col3\" >-0.005449</td>\n",
              "      <td id=\"T_48f29_row10_col4\" class=\"data row10 col4\" >-0.032779</td>\n",
              "      <td id=\"T_48f29_row10_col5\" class=\"data row10 col5\" >0.047253</td>\n",
              "      <td id=\"T_48f29_row10_col6\" class=\"data row10 col6\" >0.010460</td>\n",
              "      <td id=\"T_48f29_row10_col7\" class=\"data row10 col7\" >0.179110</td>\n",
              "      <td id=\"T_48f29_row10_col8\" class=\"data row10 col8\" >0.115611</td>\n",
              "      <td id=\"T_48f29_row10_col9\" class=\"data row10 col9\" >0.097067</td>\n",
              "      <td id=\"T_48f29_row10_col10\" class=\"data row10 col10\" >1.000000</td>\n",
              "    </tr>\n",
              "  </tbody>\n",
              "</table>\n"
            ]
          },
          "metadata": {},
          "execution_count": 35
        }
      ],
      "source": [
        "#investigate the correlation data \n",
        "correlation_data = data.corr()\n",
        "correlation_data.style.background_gradient()"
      ]
    },
    {
      "cell_type": "code",
      "execution_count": 36,
      "metadata": {
        "id": "_K3lSCWm4_iC",
        "outputId": "0dcd55ba-9ea7-4f66-df02-0412e37c27f1",
        "colab": {
          "base_uri": "https://localhost:8080/"
        }
      },
      "outputs": [
        {
          "output_type": "execute_result",
          "data": {
            "text/plain": [
              "array(['en'], dtype=object)"
            ]
          },
          "metadata": {},
          "execution_count": 36
        }
      ],
      "source": [
        "data.ui_language.unique()"
      ]
    },
    {
      "cell_type": "code",
      "execution_count": 37,
      "metadata": {
        "scrolled": true,
        "id": "M-l_6pts4_iC",
        "colab": {
          "base_uri": "https://localhost:8080/"
        },
        "outputId": "dd696850-565f-425b-8740-3ad54e61b212"
      },
      "outputs": [
        {
          "output_type": "stream",
          "name": "stdout",
          "text": [
            "p_recall                     0\n",
            "timestamp                    0\n",
            "delta                        0\n",
            "user_id                      0\n",
            "learning_language            0\n",
            "ui_language                  0\n",
            "lexeme_id                    0\n",
            "lexeme_string                0\n",
            "history_seen                 0\n",
            "history_correct              0\n",
            "session_seen                 0\n",
            "session_correct              0\n",
            "mistakes                     0\n",
            "session_mistakes             0\n",
            "rate_of_error_per_session    0\n",
            "general_rate_of_error        0\n",
            "Datetime                     0\n",
            "dtype: int64\n"
          ]
        }
      ],
      "source": [
        "# Check if there are any null values\n",
        "print(data.isnull().sum())"
      ]
    },
    {
      "cell_type": "code",
      "source": [
        "X = data.iloc[:, 8:16]"
      ],
      "metadata": {
        "id": "7zPFn3oApvdy"
      },
      "execution_count": 38,
      "outputs": []
    },
    {
      "cell_type": "code",
      "source": [
        "X = data.iloc[:, 8:16]\n",
        "#timestamp = data[\"timestamp\"]\n",
        "#X = X + timestamp\n",
        "#target variable is the number of recall times \n",
        "y = data[\"p_recall\"] \n",
        "X"
      ],
      "metadata": {
        "id": "2kyCIG13ozK4",
        "colab": {
          "base_uri": "https://localhost:8080/",
          "height": 488
        },
        "outputId": "6fd836fc-5283-46cf-d723-3605f637c280"
      },
      "execution_count": 39,
      "outputs": [
        {
          "output_type": "execute_result",
          "data": {
            "text/plain": [
              "          history_seen  history_correct  session_seen  session_correct  \\\n",
              "231                 31               23             1                1   \n",
              "232                 28               27             2                1   \n",
              "233                  2                2             1                1   \n",
              "234                 19               18             1                1   \n",
              "235                  6                5             1                0   \n",
              "...                ...              ...           ...              ...   \n",
              "12854112             5                4             4                3   \n",
              "12854113             6                6             1                1   \n",
              "12854114             6                4             2                2   \n",
              "12854115             5                3             5                5   \n",
              "12854116             4                4             1                1   \n",
              "\n",
              "          mistakes  session_mistakes  rate_of_error_per_session  \\\n",
              "231              8                 0                       0.00   \n",
              "232              1                 1                       0.50   \n",
              "233              0                 0                       0.00   \n",
              "234              1                 0                       0.00   \n",
              "235              1                 1                       1.00   \n",
              "...            ...               ...                        ...   \n",
              "12854112         1                 1                       0.25   \n",
              "12854113         0                 0                       0.00   \n",
              "12854114         2                 0                       0.00   \n",
              "12854115         2                 0                       0.00   \n",
              "12854116         0                 0                       0.00   \n",
              "\n",
              "          general_rate_of_error  \n",
              "231                    0.258065  \n",
              "232                    0.035714  \n",
              "233                    0.000000  \n",
              "234                    0.052632  \n",
              "235                    0.166667  \n",
              "...                         ...  \n",
              "12854112               0.200000  \n",
              "12854113               0.000000  \n",
              "12854114               0.333333  \n",
              "12854115               0.400000  \n",
              "12854116               0.000000  \n",
              "\n",
              "[1873734 rows x 8 columns]"
            ],
            "text/html": [
              "\n",
              "  <div id=\"df-39cba063-8e37-4014-954c-d4b4183ea1aa\">\n",
              "    <div class=\"colab-df-container\">\n",
              "      <div>\n",
              "<style scoped>\n",
              "    .dataframe tbody tr th:only-of-type {\n",
              "        vertical-align: middle;\n",
              "    }\n",
              "\n",
              "    .dataframe tbody tr th {\n",
              "        vertical-align: top;\n",
              "    }\n",
              "\n",
              "    .dataframe thead th {\n",
              "        text-align: right;\n",
              "    }\n",
              "</style>\n",
              "<table border=\"1\" class=\"dataframe\">\n",
              "  <thead>\n",
              "    <tr style=\"text-align: right;\">\n",
              "      <th></th>\n",
              "      <th>history_seen</th>\n",
              "      <th>history_correct</th>\n",
              "      <th>session_seen</th>\n",
              "      <th>session_correct</th>\n",
              "      <th>mistakes</th>\n",
              "      <th>session_mistakes</th>\n",
              "      <th>rate_of_error_per_session</th>\n",
              "      <th>general_rate_of_error</th>\n",
              "    </tr>\n",
              "  </thead>\n",
              "  <tbody>\n",
              "    <tr>\n",
              "      <th>231</th>\n",
              "      <td>31</td>\n",
              "      <td>23</td>\n",
              "      <td>1</td>\n",
              "      <td>1</td>\n",
              "      <td>8</td>\n",
              "      <td>0</td>\n",
              "      <td>0.00</td>\n",
              "      <td>0.258065</td>\n",
              "    </tr>\n",
              "    <tr>\n",
              "      <th>232</th>\n",
              "      <td>28</td>\n",
              "      <td>27</td>\n",
              "      <td>2</td>\n",
              "      <td>1</td>\n",
              "      <td>1</td>\n",
              "      <td>1</td>\n",
              "      <td>0.50</td>\n",
              "      <td>0.035714</td>\n",
              "    </tr>\n",
              "    <tr>\n",
              "      <th>233</th>\n",
              "      <td>2</td>\n",
              "      <td>2</td>\n",
              "      <td>1</td>\n",
              "      <td>1</td>\n",
              "      <td>0</td>\n",
              "      <td>0</td>\n",
              "      <td>0.00</td>\n",
              "      <td>0.000000</td>\n",
              "    </tr>\n",
              "    <tr>\n",
              "      <th>234</th>\n",
              "      <td>19</td>\n",
              "      <td>18</td>\n",
              "      <td>1</td>\n",
              "      <td>1</td>\n",
              "      <td>1</td>\n",
              "      <td>0</td>\n",
              "      <td>0.00</td>\n",
              "      <td>0.052632</td>\n",
              "    </tr>\n",
              "    <tr>\n",
              "      <th>235</th>\n",
              "      <td>6</td>\n",
              "      <td>5</td>\n",
              "      <td>1</td>\n",
              "      <td>0</td>\n",
              "      <td>1</td>\n",
              "      <td>1</td>\n",
              "      <td>1.00</td>\n",
              "      <td>0.166667</td>\n",
              "    </tr>\n",
              "    <tr>\n",
              "      <th>...</th>\n",
              "      <td>...</td>\n",
              "      <td>...</td>\n",
              "      <td>...</td>\n",
              "      <td>...</td>\n",
              "      <td>...</td>\n",
              "      <td>...</td>\n",
              "      <td>...</td>\n",
              "      <td>...</td>\n",
              "    </tr>\n",
              "    <tr>\n",
              "      <th>12854112</th>\n",
              "      <td>5</td>\n",
              "      <td>4</td>\n",
              "      <td>4</td>\n",
              "      <td>3</td>\n",
              "      <td>1</td>\n",
              "      <td>1</td>\n",
              "      <td>0.25</td>\n",
              "      <td>0.200000</td>\n",
              "    </tr>\n",
              "    <tr>\n",
              "      <th>12854113</th>\n",
              "      <td>6</td>\n",
              "      <td>6</td>\n",
              "      <td>1</td>\n",
              "      <td>1</td>\n",
              "      <td>0</td>\n",
              "      <td>0</td>\n",
              "      <td>0.00</td>\n",
              "      <td>0.000000</td>\n",
              "    </tr>\n",
              "    <tr>\n",
              "      <th>12854114</th>\n",
              "      <td>6</td>\n",
              "      <td>4</td>\n",
              "      <td>2</td>\n",
              "      <td>2</td>\n",
              "      <td>2</td>\n",
              "      <td>0</td>\n",
              "      <td>0.00</td>\n",
              "      <td>0.333333</td>\n",
              "    </tr>\n",
              "    <tr>\n",
              "      <th>12854115</th>\n",
              "      <td>5</td>\n",
              "      <td>3</td>\n",
              "      <td>5</td>\n",
              "      <td>5</td>\n",
              "      <td>2</td>\n",
              "      <td>0</td>\n",
              "      <td>0.00</td>\n",
              "      <td>0.400000</td>\n",
              "    </tr>\n",
              "    <tr>\n",
              "      <th>12854116</th>\n",
              "      <td>4</td>\n",
              "      <td>4</td>\n",
              "      <td>1</td>\n",
              "      <td>1</td>\n",
              "      <td>0</td>\n",
              "      <td>0</td>\n",
              "      <td>0.00</td>\n",
              "      <td>0.000000</td>\n",
              "    </tr>\n",
              "  </tbody>\n",
              "</table>\n",
              "<p>1873734 rows × 8 columns</p>\n",
              "</div>\n",
              "      <button class=\"colab-df-convert\" onclick=\"convertToInteractive('df-39cba063-8e37-4014-954c-d4b4183ea1aa')\"\n",
              "              title=\"Convert this dataframe to an interactive table.\"\n",
              "              style=\"display:none;\">\n",
              "        \n",
              "  <svg xmlns=\"http://www.w3.org/2000/svg\" height=\"24px\"viewBox=\"0 0 24 24\"\n",
              "       width=\"24px\">\n",
              "    <path d=\"M0 0h24v24H0V0z\" fill=\"none\"/>\n",
              "    <path d=\"M18.56 5.44l.94 2.06.94-2.06 2.06-.94-2.06-.94-.94-2.06-.94 2.06-2.06.94zm-11 1L8.5 8.5l.94-2.06 2.06-.94-2.06-.94L8.5 2.5l-.94 2.06-2.06.94zm10 10l.94 2.06.94-2.06 2.06-.94-2.06-.94-.94-2.06-.94 2.06-2.06.94z\"/><path d=\"M17.41 7.96l-1.37-1.37c-.4-.4-.92-.59-1.43-.59-.52 0-1.04.2-1.43.59L10.3 9.45l-7.72 7.72c-.78.78-.78 2.05 0 2.83L4 21.41c.39.39.9.59 1.41.59.51 0 1.02-.2 1.41-.59l7.78-7.78 2.81-2.81c.8-.78.8-2.07 0-2.86zM5.41 20L4 18.59l7.72-7.72 1.47 1.35L5.41 20z\"/>\n",
              "  </svg>\n",
              "      </button>\n",
              "      \n",
              "  <style>\n",
              "    .colab-df-container {\n",
              "      display:flex;\n",
              "      flex-wrap:wrap;\n",
              "      gap: 12px;\n",
              "    }\n",
              "\n",
              "    .colab-df-convert {\n",
              "      background-color: #E8F0FE;\n",
              "      border: none;\n",
              "      border-radius: 50%;\n",
              "      cursor: pointer;\n",
              "      display: none;\n",
              "      fill: #1967D2;\n",
              "      height: 32px;\n",
              "      padding: 0 0 0 0;\n",
              "      width: 32px;\n",
              "    }\n",
              "\n",
              "    .colab-df-convert:hover {\n",
              "      background-color: #E2EBFA;\n",
              "      box-shadow: 0px 1px 2px rgba(60, 64, 67, 0.3), 0px 1px 3px 1px rgba(60, 64, 67, 0.15);\n",
              "      fill: #174EA6;\n",
              "    }\n",
              "\n",
              "    [theme=dark] .colab-df-convert {\n",
              "      background-color: #3B4455;\n",
              "      fill: #D2E3FC;\n",
              "    }\n",
              "\n",
              "    [theme=dark] .colab-df-convert:hover {\n",
              "      background-color: #434B5C;\n",
              "      box-shadow: 0px 1px 3px 1px rgba(0, 0, 0, 0.15);\n",
              "      filter: drop-shadow(0px 1px 2px rgba(0, 0, 0, 0.3));\n",
              "      fill: #FFFFFF;\n",
              "    }\n",
              "  </style>\n",
              "\n",
              "      <script>\n",
              "        const buttonEl =\n",
              "          document.querySelector('#df-39cba063-8e37-4014-954c-d4b4183ea1aa button.colab-df-convert');\n",
              "        buttonEl.style.display =\n",
              "          google.colab.kernel.accessAllowed ? 'block' : 'none';\n",
              "\n",
              "        async function convertToInteractive(key) {\n",
              "          const element = document.querySelector('#df-39cba063-8e37-4014-954c-d4b4183ea1aa');\n",
              "          const dataTable =\n",
              "            await google.colab.kernel.invokeFunction('convertToInteractive',\n",
              "                                                     [key], {});\n",
              "          if (!dataTable) return;\n",
              "\n",
              "          const docLinkHtml = 'Like what you see? Visit the ' +\n",
              "            '<a target=\"_blank\" href=https://colab.research.google.com/notebooks/data_table.ipynb>data table notebook</a>'\n",
              "            + ' to learn more about interactive tables.';\n",
              "          element.innerHTML = '';\n",
              "          dataTable['output_type'] = 'display_data';\n",
              "          await google.colab.output.renderOutput(dataTable, element);\n",
              "          const docLink = document.createElement('div');\n",
              "          docLink.innerHTML = docLinkHtml;\n",
              "          element.appendChild(docLink);\n",
              "        }\n",
              "      </script>\n",
              "    </div>\n",
              "  </div>\n",
              "  "
            ]
          },
          "metadata": {},
          "execution_count": 39
        }
      ]
    },
    {
      "cell_type": "markdown",
      "source": [
        "#Neural Networks "
      ],
      "metadata": {
        "id": "z6_Bw5d7pa79"
      }
    },
    {
      "cell_type": "code",
      "source": [
        "# Splitting the data into train and test subsets\n",
        "# will adjust the random state\n",
        "X_train, X_val_and_test, Y_train, Y_val_and_test = train_test_split(X , y, \n",
        "                                                                    test_size=0.3)\n",
        "X_val, X_test, Y_val, Y_test = train_test_split(X_val_and_test, Y_val_and_test, \n",
        "                                                test_size=0.5)\n"
      ],
      "metadata": {
        "id": "PPWAorz1slgV"
      },
      "execution_count": 21,
      "outputs": []
    },
    {
      "cell_type": "code",
      "execution_count": 22,
      "metadata": {
        "id": "DPhl5sF34_iE"
      },
      "outputs": [],
      "source": [
        "# Standardize X data based on X_train\n",
        "sc = StandardScaler().fit(X_train)\n",
        "X_train_scaled = sc.transform(X_train)\n",
        "X_test_scaled = sc.transform(X_test)"
      ]
    },
    {
      "cell_type": "markdown",
      "source": [
        "##Creating the Model : \n",
        "Defining teh neural network model, we will create a Keras model that we can train with the data. \n",
        "- Inputs "
      ],
      "metadata": {
        "id": "L0bteovatkUp"
      }
    },
    {
      "cell_type": "code",
      "source": [
        "# Import the Sequential model and Dense layer\n",
        "from tensorflow.keras.models import Sequential\n",
        "from tensorflow.keras.layers import Dense\n",
        "\n",
        "# Create a Sequential model\n",
        "model = Sequential()\n",
        "\n",
        "# Adding an input layer\n",
        "model.add(Dense(10, input_shape=(8,), activation=\"relu\"))\n",
        "\n",
        "# Adding an output layer\n",
        "model.add(Dense(1, activation = 'sigmoid'))\n",
        "\n",
        "# Summarise your model\n",
        "model.summary()"
      ],
      "metadata": {
        "id": "HpR0r6OY540A",
        "colab": {
          "base_uri": "https://localhost:8080/"
        },
        "outputId": "06897943-2228-407c-ded1-fc02a834155c"
      },
      "execution_count": 23,
      "outputs": [
        {
          "output_type": "stream",
          "name": "stdout",
          "text": [
            "Model: \"sequential\"\n",
            "_________________________________________________________________\n",
            " Layer (type)                Output Shape              Param #   \n",
            "=================================================================\n",
            " dense (Dense)               (None, 10)                90        \n",
            "                                                                 \n",
            " dense_1 (Dense)             (None, 1)                 11        \n",
            "                                                                 \n",
            "=================================================================\n",
            "Total params: 101\n",
            "Trainable params: 101\n",
            "Non-trainable params: 0\n",
            "_________________________________________________________________\n"
          ]
        }
      ]
    },
    {
      "cell_type": "markdown",
      "source": [
        "##Model Parameters \n"
      ],
      "metadata": {
        "id": "HDi6-BgQuAfk"
      }
    },
    {
      "cell_type": "code",
      "source": [
        "# Parameters \n",
        "connected_layers = 3 \n",
        "connected_size = 50 \n",
        "connected_activation = \"relu\""
      ],
      "metadata": {
        "id": "7YB39MRhqC9I"
      },
      "execution_count": 26,
      "outputs": []
    },
    {
      "cell_type": "code",
      "source": [
        "# Hyperparameters\n",
        "epochs = 50\n",
        "batch_size = 128\n",
        "learning_rate = 0.01"
      ],
      "metadata": {
        "id": "lTw2s6GoqDJm"
      },
      "execution_count": 25,
      "outputs": []
    },
    {
      "cell_type": "markdown",
      "source": [
        "###Compiling the model"
      ],
      "metadata": {
        "id": "NDj26gN8xrtD"
      }
    },
    {
      "cell_type": "code",
      "source": [
        "model.compile(optimizer='sgd',\n",
        "              loss='binary_crossentropy',\n",
        "              metrics=['accuracy'])"
      ],
      "metadata": {
        "id": "Q0M9EuM_uymR"
      },
      "execution_count": 27,
      "outputs": []
    },
    {
      "cell_type": "code",
      "source": [
        "hist = model.fit(X_train, Y_train,\n",
        "          batch_size=32, epochs=10,\n",
        "          validation_data=(X_val, Y_val))\n"
      ],
      "metadata": {
        "colab": {
          "base_uri": "https://localhost:8080/"
        },
        "id": "xQcyvrofx7Zw",
        "outputId": "611bae6e-83d0-43c2-b75c-21a5ea2255d9"
      },
      "execution_count": 28,
      "outputs": [
        {
          "output_type": "stream",
          "name": "stdout",
          "text": [
            "Epoch 1/10\n",
            "40988/40988 [==============================] - 115s 3ms/step - loss: 0.1608 - accuracy: 0.8812 - val_loss: 0.0919 - val_accuracy: 0.8927\n",
            "Epoch 2/10\n",
            "40988/40988 [==============================] - 113s 3ms/step - loss: 0.1105 - accuracy: 0.8896 - val_loss: 0.0777 - val_accuracy: 0.8932\n",
            "Epoch 3/10\n",
            "40988/40988 [==============================] - 114s 3ms/step - loss: 0.0969 - accuracy: 0.8913 - val_loss: 0.1243 - val_accuracy: 0.8866\n",
            "Epoch 4/10\n",
            "40988/40988 [==============================] - 102s 2ms/step - loss: 0.0919 - accuracy: 0.8919 - val_loss: 0.0776 - val_accuracy: 0.8931\n",
            "Epoch 5/10\n",
            "40988/40988 [==============================] - 119s 3ms/step - loss: 0.0886 - accuracy: 0.8922 - val_loss: 0.0806 - val_accuracy: 0.8923\n",
            "Epoch 6/10\n",
            "40988/40988 [==============================] - 86s 2ms/step - loss: 0.0879 - accuracy: 0.8923 - val_loss: 0.0792 - val_accuracy: 0.8930\n",
            "Epoch 7/10\n",
            "40988/40988 [==============================] - 90s 2ms/step - loss: 0.0852 - accuracy: 0.8925 - val_loss: 0.0738 - val_accuracy: 0.8928\n",
            "Epoch 8/10\n",
            "40988/40988 [==============================] - 96s 2ms/step - loss: 0.0847 - accuracy: 0.8927 - val_loss: 0.0755 - val_accuracy: 0.8927\n",
            "Epoch 9/10\n",
            "40988/40988 [==============================] - 94s 2ms/step - loss: 0.0823 - accuracy: 0.8929 - val_loss: 0.0701 - val_accuracy: 0.8931\n",
            "Epoch 10/10\n",
            "40988/40988 [==============================] - 92s 2ms/step - loss: 0.0818 - accuracy: 0.8928 - val_loss: 0.0717 - val_accuracy: 0.8930\n"
          ]
        }
      ]
    },
    {
      "cell_type": "markdown",
      "source": [
        "##Plotting cost and accuracy during training \n",
        "\n",
        "We plot the way the accuracy and the loss change during training for the training and the validation data. "
      ],
      "metadata": {
        "id": "NOuJ4iwQ8uvb"
      }
    },
    {
      "cell_type": "code",
      "source": [
        "#plotting cost and accuracy during training \n",
        "\n",
        "plt.plot(range(len(hist.history[\"loss\"])),\n",
        "         hist.history[\"loss\"], color=\"red\")\n",
        "plt.title(\"Training cost\")\n",
        "plt.grid()"
      ],
      "metadata": {
        "colab": {
          "base_uri": "https://localhost:8080/",
          "height": 285
        },
        "id": "ANmb3oF97Y9R",
        "outputId": "c42b0bac-8fba-4eee-ab8f-d727737ce337"
      },
      "execution_count": 29,
      "outputs": [
        {
          "output_type": "display_data",
          "data": {
            "text/plain": [
              "<Figure size 432x288 with 1 Axes>"
            ],
            "image/png": "[encoded data removed]"
          },
          "metadata": {
            "needs_background": "light"
          }
        }
      ]
    },
    {
      "cell_type": "code",
      "source": [
        "plt.plot(range(len(hist.history[\"val_loss\"])), hist.history[\"val_loss\"], color=\"red\")\n",
        "plt.title(\"Validation cost\")\n",
        "plt.grid()"
      ],
      "metadata": {
        "colab": {
          "base_uri": "https://localhost:8080/",
          "height": 285
        },
        "id": "Lky0x07jF96i",
        "outputId": "6cbec6c7-4b62-4092-a4bf-d467f66b80c5"
      },
      "execution_count": 30,
      "outputs": [
        {
          "output_type": "display_data",
          "data": {
            "text/plain": [
              "<Figure size 432x288 with 1 Axes>"
            ],
            "image/png": "[encoded data removed]"
          },
          "metadata": {
            "needs_background": "light"
          }
        }
      ]
    },
    {
      "cell_type": "code",
      "source": [
        "plt.plot(range(len(hist.history[\"val_accuracy\"])), hist.history[\"val_accuracy\"], color=\"red\")\n",
        "plt.title(\"Validation accuracy\")\n",
        "plt.grid()"
      ],
      "metadata": {
        "colab": {
          "base_uri": "https://localhost:8080/",
          "height": 285
        },
        "id": "iooE401FGFkl",
        "outputId": "c0b03863-31ae-409a-becf-93a88b91caa2"
      },
      "execution_count": 31,
      "outputs": [
        {
          "output_type": "display_data",
          "data": {
            "text/plain": [
              "<Figure size 432x288 with 1 Axes>"
            ],
            "image/png": "[encoded data removed]"
          },
          "metadata": {
            "needs_background": "light"
          }
        }
      ]
    },
    {
      "cell_type": "code",
      "source": [
        "test_results = model.evaluate(X_test,\n",
        "                              Y_test,\n",
        "                              batch_size=None,\n",
        "                              verbose=1)\n",
        "\n",
        "print(\"Test accuracy = {}\".format(test_results[1]))"
      ],
      "metadata": {
        "colab": {
          "base_uri": "https://localhost:8080/"
        },
        "id": "bnADMl72GnYS",
        "outputId": "59bf40dc-db80-4887-ca4e-cbe9fd42fb6a"
      },
      "execution_count": 32,
      "outputs": [
        {
          "output_type": "stream",
          "name": "stdout",
          "text": [
            "8784/8784 [==============================] - 16s 2ms/step - loss: 0.0711 - accuracy: 0.8935\n",
            "Test accuracy = 0.8934537172317505\n"
          ]
        }
      ]
    },
    {
      "cell_type": "markdown",
      "metadata": {
        "id": "hLROoaV04_iF"
      },
      "source": [
        "### References:\n",
        "Data can be downloaded here :\n",
        "***\n",
        "https://dataverse.harvard.edu/dataset.xhtml?persistentId=doi:10.7910/DVN/23ZWVI\n",
        "@data{DVN/23ZWVI_2020,\n",
        "author = {Kevin Yancey and Burr Settles},\n",
        "publisher = {Harvard Dataverse},\n",
        "title = {{Replication Data for: A Sleeping, Recovering Bandit Algorithm for Optimizing Recurring Notifications}},\n",
        "year = {2020},\n",
        "version = {V1},\n",
        "doi = {10.7910/DVN/23ZWVI},\n",
        "url = {https://doi.org/10.7910/DVN/23ZWVI}\n",
        "}\n",
        "\n",
        "https://dataverse.harvard.edu/dataset.xhtml?persistentId=doi:10.7910/DVN/N8XJME\n",
        "@data{DVN/N8XJME_2017,\n",
        "author = {Settles, Burr},\n",
        "publisher = {Harvard Dataverse},\n",
        "title = {{Replication Data for: A Trainable Spaced Repetition Model for Language Learning}},\n",
        "year = {2017},\n",
        "version = {V1},\n",
        "doi = {10.7910/DVN/N8XJME},\n",
        "url = {https://doi.org/10.7910/DVN/N8XJME}\n",
        "}\n",
        "***"
      ]
    },
    {
      "cell_type": "markdown",
      "metadata": {
        "id": "AuiM-Zjk4_iF"
      },
      "source": [
        "#### Code Will be Updated regularly on Github:\n",
        "https://github.com/zeineb-ouerghi/Capstone-Project-Senior-Year-/upload/main\n"
      ]
    }
  ],
  "metadata": {
    "kernelspec": {
      "display_name": "Python 3",
      "language": "python",
      "name": "python3"
    },
    "language_info": {
      "codemirror_mode": {
        "name": "ipython",
        "version": 3
      },
      "file_extension": ".py",
      "mimetype": "text/x-python",
      "name": "python",
      "nbconvert_exporter": "python",
      "pygments_lexer": "ipython3",
      "version": "3.8.5"
    },
    "colab": {
      "provenance": [],
      "include_colab_link": true
    }
  },
  "nbformat": 4,
  "nbformat_minor": 0
}